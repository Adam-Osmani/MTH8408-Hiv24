{
 "cells": [
  {
   "cell_type": "markdown",
   "metadata": {},
   "source": [
    " # MTH8408 : Méthodes d'optimisation et contrôle optimal\n",
    " ## Laboratoire 5: Optimisation avec contraintes et calcul variationnel\n",
    "Tangi Migot et Paul Raynaud\n",
    "Rédigé par Adam Osmani"
   ]
  },
  {
   "cell_type": "code",
   "execution_count": 1,
   "metadata": {},
   "outputs": [],
   "source": [
    "using Krylov, LinearAlgebra, Logging, NLPModels, NLPModelsIpopt, Printf, SolverCore, Test"
   ]
  },
  {
   "cell_type": "code",
   "execution_count": 2,
   "metadata": {},
   "outputs": [
    {
     "name": "stderr",
     "output_type": "stream",
     "text": [
      "\u001b[32m\u001b[1m   Resolving\u001b[22m\u001b[39m package versions...\n",
      "\u001b[32m\u001b[1m  No Changes\u001b[22m\u001b[39m to `C:\\Users\\adamo\\OneDrive\\Documents\\POLY\\H24\\MTH8408\\MTH8408-Hiv24\\Project.toml`\n",
      "\u001b[32m\u001b[1m  No Changes\u001b[22m\u001b[39m to `C:\\Users\\adamo\\OneDrive\\Documents\\POLY\\H24\\MTH8408\\MTH8408-Hiv24\\Manifest.toml`\n",
      "\u001b[32m\u001b[1mPrecompiling\u001b[22m\u001b[39m project...\n",
      "\u001b[33m  ? \u001b[39mPDENLPModels\n",
      "\u001b[32m\u001b[1m   Resolving\u001b[22m\u001b[39m package versions...\n",
      "\u001b[32m\u001b[1m  No Changes\u001b[22m\u001b[39m to `C:\\Users\\adamo\\OneDrive\\Documents\\POLY\\H24\\MTH8408\\MTH8408-Hiv24\\Project.toml`\n",
      "\u001b[32m\u001b[1m  No Changes\u001b[22m\u001b[39m to `C:\\Users\\adamo\\OneDrive\\Documents\\POLY\\H24\\MTH8408\\MTH8408-Hiv24\\Manifest.toml`\n",
      "\u001b[32m\u001b[1mPrecompiling\u001b[22m\u001b[39m project...\n",
      "\u001b[33m  ? \u001b[39mPDENLPModels\n",
      "WARNING: Method definition testargs(Gridap.Arrays.PosNegReindex{A, B} where B where A, Integer) in module Arrays at C:\\Users\\adamo\\.julia\\packages\\Gridap\\EZQEK\\src\\Arrays\\PosNegReindex.jl:10 overwritten in module PDENLPModels at C:\\Users\\adamo\\.julia\\packages\\PDENLPModels\\pW0Iv\\src\\PDENLPModels.jl:16.\n",
      "ERROR: Method overwriting is not permitted during Module precompilation. Use `__precompile__(false)` to opt-out of precompilation.\n",
      "WARNING: method definition for _compute_hess_structure at C:\\Users\\adamo\\.julia\\packages\\PDENLPModels\\pW0Iv\\src\\hessian_struct_nnzh_functions.jl:70 declares type variable T but does not use it.\n",
      "WARNING: method definition for _compute_hess_structure at C:\\Users\\adamo\\.julia\\packages\\PDENLPModels\\pW0Iv\\src\\hessian_struct_nnzh_functions.jl:74 declares type variable T but does not use it.\n"
     ]
    }
   ],
   "source": [
    "import Pkg; Pkg.add(\"PDENLPModels\")\n",
    "import Pkg; Pkg.add(\"Gridap\")\n",
    "using PDENLPModels, Gridap\n"
   ]
  },
  {
   "cell_type": "markdown",
   "metadata": {},
   "source": [
    "## Quelques commentaires en Julia\n",
    "\n",
    "### Les kwargs: choix optionnels\n",
    "\n",
    "Dans le projet du dernier labo, une des questions demandait d'ajouter une option pour utiliser la fonction `lsmr` ou `lsqr`. C'est le cas typique d'arguments optionnels:\n",
    "- On veut proposer un choix par défaut à l'utilisateur, par exemple `lsqr`;\n",
    "- On veut laisser la possibilité à l'utilisateur de changer;\n",
    "- On voudrait aussi pouvoir ajouter d'autres par la suite (sans avoir à tout modifier)."
   ]
  },
  {
   "cell_type": "code",
   "execution_count": 3,
   "metadata": {},
   "outputs": [
    {
     "data": {
      "text/plain": [
       "dsol (generic function with 1 method)"
      ]
     },
     "metadata": {},
     "output_type": "display_data"
    }
   ],
   "source": [
    "function dsol(A, b, ϵ; solver :: Function = lsqr)\n",
    "    (d, stats) = solver(A, b, atol = ϵ)\n",
    "    return d\n",
    "end"
   ]
  },
  {
   "cell_type": "markdown",
   "metadata": {},
   "source": [
    "A noter que l'on donne des valeurs par défaut aux arguments qui apparaissent après le `;`."
   ]
  },
  {
   "cell_type": "markdown",
   "metadata": {},
   "source": [
    "## Exercice 1: Pénalité quadratique pour les ADNLPModels\n",
    "\n",
    "Dans cet exercice, on va étudier une version simple d'une méthode de pénalité quadratique pour les problèmes d'optimisation avec contraintes d'égalité.\n",
    "```math\n",
    "min f(x) s.à c(x) = 0.\n",
    "```\n",
    "Dans les labos précédents, on a déjà utilisé un NLPModel particulier, le ADNLPModel:"
   ]
  },
  {
   "cell_type": "code",
   "execution_count": 4,
   "metadata": {},
   "outputs": [
    {
     "data": {
      "text/plain": [
       "ADNLPModel - Model with automatic differentiation backend ADNLPModels.ForwardDiffAD{ForwardDiff.GradientConfig{ForwardDiff.Tag{typeof(fH), Float64}, Float64, 2, Vector{ForwardDiff.Dual{ForwardDiff.Tag{typeof(fH), Float64}, Float64, 2}}}}(3, 2, ForwardDiff.GradientConfig{ForwardDiff.Tag{typeof(fH), Float64}, Float64, 2, Vector{ForwardDiff.Dual{ForwardDiff.Tag{typeof(fH), Float64}, Float64, 2}}}((Partials(1.0, 0.0), Partials(0.0, 1.0)), ForwardDiff.Dual{ForwardDiff.Tag{typeof(fH), Float64}, Float64, 2}[Dual{ForwardDiff.Tag{typeof(fH), Float64}}(1.000782451328e-311,6.95269636110307e-310,1.000782451336e-311), Dual{ForwardDiff.Tag{typeof(fH), Float64}}(6.95269636110307e-310,1.000782451344e-311,6.95269636110307e-310)]))\n",
       "  Problem name: Generic\n",
       "   All variables: ████████████████████ 2      All constraints: ████████████████████ 1     \n",
       "            free: ████████████████████ 2                 free: ⋅⋅⋅⋅⋅⋅⋅⋅⋅⋅⋅⋅⋅⋅⋅⋅⋅⋅⋅⋅ 0     \n",
       "           lower: ⋅⋅⋅⋅⋅⋅⋅⋅⋅⋅⋅⋅⋅⋅⋅⋅⋅⋅⋅⋅ 0                lower: ⋅⋅⋅⋅⋅⋅⋅⋅⋅⋅⋅⋅⋅⋅⋅⋅⋅⋅⋅⋅ 0     \n",
       "           upper: ⋅⋅⋅⋅⋅⋅⋅⋅⋅⋅⋅⋅⋅⋅⋅⋅⋅⋅⋅⋅ 0                upper: ⋅⋅⋅⋅⋅⋅⋅⋅⋅⋅⋅⋅⋅⋅⋅⋅⋅⋅⋅⋅ 0     \n",
       "         low/upp: ⋅⋅⋅⋅⋅⋅⋅⋅⋅⋅⋅⋅⋅⋅⋅⋅⋅⋅⋅⋅ 0              low/upp: ⋅⋅⋅⋅⋅⋅⋅⋅⋅⋅⋅⋅⋅⋅⋅⋅⋅⋅⋅⋅ 0     \n",
       "           fixed: ⋅⋅⋅⋅⋅⋅⋅⋅⋅⋅⋅⋅⋅⋅⋅⋅⋅⋅⋅⋅ 0                fixed: ████████████████████ 1     \n",
       "          infeas: ⋅⋅⋅⋅⋅⋅⋅⋅⋅⋅⋅⋅⋅⋅⋅⋅⋅⋅⋅⋅ 0               infeas: ⋅⋅⋅⋅⋅⋅⋅⋅⋅⋅⋅⋅⋅⋅⋅⋅⋅⋅⋅⋅ 0     \n",
       "            nnzh: (  0.00% sparsity)   3               linear: ⋅⋅⋅⋅⋅⋅⋅⋅⋅⋅⋅⋅⋅⋅⋅⋅⋅⋅⋅⋅ 0     \n",
       "                                                    nonlinear: ████████████████████ 1     \n",
       "                                                         nnzj: (  0.00% sparsity)   2     \n",
       "\n",
       "  Counters:\n",
       "             obj: ⋅⋅⋅⋅⋅⋅⋅⋅⋅⋅⋅⋅⋅⋅⋅⋅⋅⋅⋅⋅ 0                 grad: ⋅⋅⋅⋅⋅⋅⋅⋅⋅⋅⋅⋅⋅⋅⋅⋅⋅⋅⋅⋅ 0                 cons: ⋅⋅⋅⋅⋅⋅⋅⋅⋅⋅⋅⋅⋅⋅⋅⋅⋅⋅⋅⋅ 0     \n",
       "        cons_lin: ⋅⋅⋅⋅⋅⋅⋅⋅⋅⋅⋅⋅⋅⋅⋅⋅⋅⋅⋅⋅ 0             cons_nln: ⋅⋅⋅⋅⋅⋅⋅⋅⋅⋅⋅⋅⋅⋅⋅⋅⋅⋅⋅⋅ 0                 jcon: ⋅⋅⋅⋅⋅⋅⋅⋅⋅⋅⋅⋅⋅⋅⋅⋅⋅⋅⋅⋅ 0     \n",
       "           jgrad: ⋅⋅⋅⋅⋅⋅⋅⋅⋅⋅⋅⋅⋅⋅⋅⋅⋅⋅⋅⋅ 0                  jac: ⋅⋅⋅⋅⋅⋅⋅⋅⋅⋅⋅⋅⋅⋅⋅⋅⋅⋅⋅⋅ 0              jac_lin: ⋅⋅⋅⋅⋅⋅⋅⋅⋅⋅⋅⋅⋅⋅⋅⋅⋅⋅⋅⋅ 0     \n",
       "         jac_nln: ⋅⋅⋅⋅⋅⋅⋅⋅⋅⋅⋅⋅⋅⋅⋅⋅⋅⋅⋅⋅ 0                jprod: ⋅⋅⋅⋅⋅⋅⋅⋅⋅⋅⋅⋅⋅⋅⋅⋅⋅⋅⋅⋅ 0            jprod_lin: ⋅⋅⋅⋅⋅⋅⋅⋅⋅⋅⋅⋅⋅⋅⋅⋅⋅⋅⋅⋅ 0     \n",
       "       jprod_nln: ⋅⋅⋅⋅⋅⋅⋅⋅⋅⋅⋅⋅⋅⋅⋅⋅⋅⋅⋅⋅ 0               jtprod: ⋅⋅⋅⋅⋅⋅⋅⋅⋅⋅⋅⋅⋅⋅⋅⋅⋅⋅⋅⋅ 0           jtprod_lin: ⋅⋅⋅⋅⋅⋅⋅⋅⋅⋅⋅⋅⋅⋅⋅⋅⋅⋅⋅⋅ 0     \n",
       "      jtprod_nln: ⋅⋅⋅⋅⋅⋅⋅⋅⋅⋅⋅⋅⋅⋅⋅⋅⋅⋅⋅⋅ 0                 hess: ⋅⋅⋅⋅⋅⋅⋅⋅⋅⋅⋅⋅⋅⋅⋅⋅⋅⋅⋅⋅ 0                hprod: ⋅⋅⋅⋅⋅⋅⋅⋅⋅⋅⋅⋅⋅⋅⋅⋅⋅⋅⋅⋅ 0     \n",
       "           jhess: ⋅⋅⋅⋅⋅⋅⋅⋅⋅⋅⋅⋅⋅⋅⋅⋅⋅⋅⋅⋅ 0               jhprod: ⋅⋅⋅⋅⋅⋅⋅⋅⋅⋅⋅⋅⋅⋅⋅⋅⋅⋅⋅⋅ 0     \n"
      ]
     },
     "metadata": {},
     "output_type": "display_data"
    }
   ],
   "source": [
    "using ADNLPModels, LinearAlgebra, Test\n",
    "fH(x) = (x[2]+x[1].^2-11)^2 + (x[1]+x[2].^2-7)^2\n",
    "x0H = [10., 20.]\n",
    "cH(x) = [x[1]-1]\n",
    "himmelblau = ADNLPModel(fH, x0H, cH, [0.], [0.])"
   ]
  },
  {
   "cell_type": "markdown",
   "metadata": {},
   "source": [
    "Attention: dans toute la suite de l'exercice on suppose que les bornes sur les contraintes `nlp.meta.lcon` et `nlp.meta.ucon` sont 0 pour simplifier."
   ]
  },
  {
   "cell_type": "markdown",
   "metadata": {},
   "source": [
    "### Question 1: Transformer un ADNLPModel en un problème pénalisé\n",
    "Coder la fonction `quad_penalty_adnlp` qui prend en entrée un ADNLPModel, et un paramètre ρ et qui retourne un nouveau ADNLPModel qui correspond au problème sans contrainte:\n",
    "$$\n",
    "\\min_x f(x) + \\frac{\\rho}{2}\\|c(x)\\|^2.\n",
    "$$\n",
    "Remarque: on peut accèder aux fonctions f et c par `NLPModels.obj()` et `NLPModels.cons()`."
   ]
  },
  {
   "cell_type": "code",
   "execution_count": 5,
   "metadata": {},
   "outputs": [
    {
     "data": {
      "text/plain": [
       "quad_penalty_adnlp (generic function with 1 method)"
      ]
     },
     "metadata": {},
     "output_type": "display_data"
    }
   ],
   "source": [
    "function quad_penalty_adnlp(nlp :: ADNLPModel, ρ :: Real)\n",
    "    # TODO\n",
    "    f(x) = obj(nlp,x) + ρ/2*norm(cons(nlp,x))^2\n",
    "    x0 = nlp.meta.x0\n",
    "    nlp_quad = ADNLPModel(f,x0)\n",
    "\n",
    "    if((nlp.meta.lcon ≠ [0.0]) || (nlp.meta.ucon ≠ [0.0]))\n",
    "        print(\"lcon or ucon not equal to 0.0\\n\")\n",
    "        print(\"lcon: \",nlp.meta.lcon,\"\\n\")\n",
    "        print(\"ucon: \",nlp.meta.ucon,\"\\n\")\n",
    "    end\n",
    "\n",
    "   return nlp_quad\n",
    "end"
   ]
  },
  {
   "cell_type": "code",
   "execution_count": 6,
   "metadata": {},
   "outputs": [
    {
     "data": {
      "text/plain": [
       "\u001b[32m\u001b[1mTest Passed\u001b[22m\u001b[39m"
      ]
     },
     "metadata": {},
     "output_type": "display_data"
    }
   ],
   "source": [
    "#Faire des tests pour vérifier que ça fonctionne.\n",
    "#= fH(x) = (x[2]+x[1].^2-11).^2+(x[1]+x[2].^2-7).^2\n",
    "x0H = [10., 20.]\n",
    "himmelblau = ADNLPModel(fH, x0H) =#\n",
    "\n",
    "himmelblau_quad = quad_penalty_adnlp(himmelblau, 1)\n",
    "@test himmelblau_quad.meta.ncon == 0\n",
    "@test obj(himmelblau_quad, zeros(2)) == 170.5\n"
   ]
  },
  {
   "cell_type": "code",
   "execution_count": 7,
   "metadata": {},
   "outputs": [],
   "source": [
    "#Ajouter au moins un autre test similaire avec des contraintes."
   ]
  },
  {
   "cell_type": "code",
   "execution_count": 8,
   "metadata": {},
   "outputs": [],
   "source": [
    "# Ajouter un test au cas ou `nlp.meta.lcon` ou `nlp.meta.ucon` ont des composantes differentes de 0.\n"
   ]
  },
  {
   "cell_type": "markdown",
   "metadata": {},
   "source": [
    "### Question 2: KKT\n",
    "Coder une fonction `KKT_eq_constraint(nlp :: AbstractNLPModel, x, λ)` qui vérifie si le point `x` avec multiplicateur de Lagrange `λ` satisfait les conditions KKT d'un problème avec contraintes d'égalités."
   ]
  },
  {
   "cell_type": "code",
   "execution_count": 9,
   "metadata": {},
   "outputs": [
    {
     "data": {
      "text/plain": [
       "KKT_eq_constraint (generic function with 1 method)"
      ]
     },
     "metadata": {},
     "output_type": "display_data"
    }
   ],
   "source": [
    "function KKT_eq_constraint(nlp :: AbstractNLPModel, x, λ)\n",
    "   # TODO\n",
    "   cx = cons(nlp,x)\n",
    "   gfx = grad(nlp,x)\n",
    "   gcx = grad(cx,x)\n",
    "   if(gfx == dot(λ,gcx))\n",
    "      return true\n",
    "   else\n",
    "      return false\n",
    "   end\n",
    "end"
   ]
  },
  {
   "cell_type": "code",
   "execution_count": 10,
   "metadata": {},
   "outputs": [
    {
     "name": "stdout",
     "output_type": "stream",
     "text": [
      "\n",
      "******************************************************************************\n",
      "This program contains Ipopt, a library for large-scale nonlinear optimization.\n",
      " Ipopt is released as open source code under the Eclipse Public License (EPL).\n",
      "         For more information visit https://github.com/coin-or/Ipopt\n",
      "******************************************************************************\n",
      "\n",
      "This is Ipopt version 3.14.14, running with linear solver MUMPS 5.6.2.\n",
      "\n",
      "Number of nonzeros in equality constraint Jacobian...:        2\n",
      "Number of nonzeros in inequality constraint Jacobian.:        0\n",
      "Number of nonzeros in Lagrangian Hessian.............:        3\n",
      "\n",
      "Total number of variables............................:        2\n",
      "                     variables with only lower bounds:        0\n",
      "                variables with lower and upper bounds:        0\n",
      "                     variables with only upper bounds:        0\n",
      "Total number of equality constraints.................:        1\n",
      "Total number of inequality constraints...............:        0\n",
      "        inequality constraints with only lower bounds:        0\n",
      "   inequality constraints with lower and upper bounds:        0\n",
      "        inequality constraints with only upper bounds:        0\n",
      "\n",
      "iter    objective    inf_pr   inf_du lg(mu)  ||d||  lg(rg) alpha_du alpha_pr  ls\n",
      "   0  1.7429000e+05 9.00e+00 1.00e+02  -1.0 0.00e+00    -  0.00e+00 0.00e+00   0\n",
      "   1  3.0904536e+04 0.00e+00 2.92e+01  -1.0 9.00e+00    -  1.00e+00 1.00e+00f  1\n",
      "   2  5.8693387e+03 0.00e+00 8.57e+00  -1.0 4.39e+00    -  1.00e+00 1.00e+00f  1\n",
      "   3  1.0806931e+03 0.00e+00 2.48e+00  -1.0 2.87e+00    -  1.00e+00 1.00e+00f  1\n",
      "   4  2.0907560e+02 0.00e+00 6.88e-01  -1.0 1.82e+00    -  1.00e+00 1.00e+00f  1\n",
      "   5  7.0572121e+01 0.00e+00 1.69e-01  -1.7 1.06e+00    -  1.00e+00 1.00e+00f  1\n",
      "   6  5.5541596e+01 0.00e+00 2.84e-02  -2.5 4.92e-01    -  1.00e+00 1.00e+00f  1\n",
      "   7  5.4952659e+01 0.00e+00 1.57e-03  -2.5 1.23e-01    -  1.00e+00 1.00e+00f  1\n",
      "   8  5.4950704e+01 0.00e+00 5.88e-06  -3.8 7.65e-03    -  1.00e+00 1.00e+00f  1\n",
      "   9  5.4950704e+01 0.00e+00 8.33e-11  -8.6 2.88e-05    -  1.00e+00 1.00e+00f  1\n",
      "\n",
      "Number of Iterations....: 9\n",
      "\n",
      "                                   (scaled)                 (unscaled)\n",
      "Objective...............:   1.6929787436250029e-01    5.4950704060580350e+01\n",
      "Dual infeasibility......:   8.3309050636453264e-11    2.7040451655580000e-08\n",
      "Constraint violation....:   0.0000000000000000e+00    0.0000000000000000e+00\n",
      "Variable bound violation:   0.0000000000000000e+00    0.0000000000000000e+00\n",
      "Complementarity.........:   0.0000000000000000e+00    0.0000000000000000e+00\n",
      "Overall NLP error.......:   8.3309050636453264e-11    2.7040451655580000e-08\n",
      "\n",
      "\n",
      "Number of objective function evaluations             = 10\n",
      "Number of objective gradient evaluations             = 10\n",
      "Number of equality constraint evaluations            = 10\n",
      "Number of inequality constraint evaluations          = 0\n",
      "Number of equality constraint Jacobian evaluations   = 10\n",
      "Number of inequality constraint Jacobian evaluations = 0\n",
      "Number of Lagrangian Hessian evaluations             = 9\n",
      "Total seconds in IPOPT                               = 2.876\n",
      "\n",
      "EXIT: Optimal Solution Found.\n"
     ]
    },
    {
     "ename": "MethodError",
     "evalue": "MethodError: no method matching grad(::Vector{Float64}, ::Vector{Float64})\n\nClosest candidates are:\n  grad(!Matched::AbstractNLPModel, ::AbstractVector)\n   @ NLPModels C:\\Users\\adamo\\.julia\\packages\\NLPModels\\XBcWL\\src\\nlp\\api.jl:28\n",
     "output_type": "error",
     "traceback": [
      "MethodError: no method matching grad(::Vector{Float64}, ::Vector{Float64})\n",
      "\n",
      "Closest candidates are:\n",
      "  grad(!Matched::AbstractNLPModel, ::AbstractVector)\n",
      "   @ NLPModels C:\\Users\\adamo\\.julia\\packages\\NLPModels\\XBcWL\\src\\nlp\\api.jl:28\n",
      "\n",
      "\n",
      "Stacktrace:\n",
      " [1] KKT_eq_constraint(nlp::ADNLPModel{Float64, Vector{Float64}}, x::Vector{Float64}, λ::Vector{Float64})\n",
      "   @ Main c:\\Users\\adamo\\OneDrive\\Documents\\POLY\\H24\\MTH8408\\MTH8408-Hiv24\\lab5\\Lab5-notebook.ipynb:5\n",
      " [2] top-level scope\n",
      "   @ c:\\Users\\adamo\\OneDrive\\Documents\\POLY\\H24\\MTH8408\\MTH8408-Hiv24\\lab5\\Lab5-notebook.ipynb:4"
     ]
    }
   ],
   "source": [
    "#test\n",
    "using NLPModelsIpopt\n",
    "stats = ipopt(himmelblau)\n",
    "KKT_eq_constraint(himmelblau,stats.solution,himmelblau.meta.y0)"
   ]
  },
  {
   "cell_type": "markdown",
   "metadata": {},
   "source": [
    "### Question 3: méthode de pénalité quadratique"
   ]
  },
  {
   "cell_type": "code",
   "execution_count": 11,
   "metadata": {},
   "outputs": [],
   "source": [
    "using NLPModelsIpopt"
   ]
  },
  {
   "cell_type": "code",
   "execution_count": 12,
   "metadata": {},
   "outputs": [
    {
     "data": {
      "text/plain": [
       "quad_penalty (generic function with 1 method)"
      ]
     },
     "metadata": {},
     "output_type": "display_data"
    }
   ],
   "source": [
    "function quad_penalty(nlp      :: AbstractNLPModel,\n",
    "                      x        :: AbstractVector; \n",
    "                      ϵ        :: AbstractFloat = 1e-3,\n",
    "                      η        :: AbstractFloat = 1e6, \n",
    "                      σ        :: AbstractFloat = 2.0,\n",
    "                      max_eval :: Int = 1_000, \n",
    "                      max_time :: AbstractFloat = 60.,\n",
    "                      max_iter :: Int = typemax(Int64)\n",
    "                      )\n",
    "    ##### Initialiser cx et gx au point x;\n",
    "    cx = cons(nlp,x)# Initialiser la violation des contraintes\n",
    "    gx = grad(nlp,x)# Initialiser le gradient\n",
    "    ######################################################\n",
    "    normcx = normcx_old = norm(cx)\n",
    "\n",
    "    ρ = 1.\n",
    "\n",
    "    iter = 0    \n",
    "\n",
    "    el_time = 0.0\n",
    "    tired   = neval_cons(nlp) > max_eval || el_time > max_time\n",
    "    status  = :unknown\n",
    "\n",
    "    start_time = time()\n",
    "    too_small  = false\n",
    "    normdual   = norm(gx) #exceptionnellement on ne va pas vérifier toute l'optimalité au début.\n",
    "    optimal    = max(normcx, normdual) ≤ ϵ\n",
    "    \n",
    "    nlp_quad   = quad_penalty_adnlp(nlp, ρ)\n",
    "\n",
    "    @info log_header([:iter, :nf, :primal, :status, :nd, :Δ],\n",
    "    [Int, Int, Float64, String, Float64, Float64],\n",
    "    hdr_override=Dict(:nf => \"#F\", :primal => \"‖F(x)‖\", :nd => \"‖d‖\"))\n",
    "\n",
    "    while !(optimal || tired || too_small)\n",
    "\n",
    "        #Appeler Ipopt pour résoudre le problème pénalisé en partant du point x0 = x.\n",
    "        #utiliser l'option print_level = 0 pour enlever les affichages d'ipopt.\n",
    "        stats = ipopt(nlp, x0 = x, print_level = 0)#...\n",
    "        ################################################\n",
    "      \n",
    "        if stats.status == :first_order\n",
    "            ###### Mettre à jour cx avec la solution renvoyé par Ipopt\n",
    "            x = stats.solution#...\n",
    "            cx = cons(nlp,x)#...\n",
    "            ##########################################################\n",
    "            normcx_old = normcx\n",
    "            normcx = norm(cx)\n",
    "        end\n",
    "        \n",
    "        if normcx_old > 0.95 * normcx\n",
    "            ρ *= σ\n",
    "        end\n",
    "\n",
    "        @info log_row(Any[iter, neval_cons(nlp), normcx, stats.status])\n",
    "        \n",
    "        nlp_quad   = quad_penalty_adnlp(nlp, ρ)\n",
    "\n",
    "        el_time      = time() - start_time\n",
    "        iter   += 1\n",
    "        many_evals   = neval_cons(nlp) > max_eval\n",
    "        iter_limit   = iter > max_iter\n",
    "        tired        = many_evals || el_time > max_time || iter_limit || ρ ≥ η\n",
    "        ##### Utiliser la réalisabilité dual renvoyé par Ipopt pour `normdual`\n",
    "        normdual     = stats.dual_feas#....\n",
    "        ###################################################################\n",
    "        optimal      = max(normcx, normdual) ≤ ϵ\n",
    "    end\n",
    "\n",
    "    status = if optimal \n",
    "        :first_order\n",
    "    elseif tired\n",
    "        if neval_cons(nlp) > max_eval\n",
    "            :max_eval\n",
    "        elseif el_time > max_time\n",
    "            :max_time\n",
    "        elseif iter > max_iter\n",
    "            :max_iter\n",
    "        else\n",
    "            :unknown_tired\n",
    "        end\n",
    "    elseif too_small\n",
    "        :stalled\n",
    "    else\n",
    "        :unknown\n",
    "    end\n",
    "\n",
    "    return GenericExecutionStats(nlp, status = status, solution = x,\n",
    "                                 objective = obj(nlp, x),\n",
    "                                 primal_feas = normcx,\n",
    "                                 dual_feas = normdual,\n",
    "                                 iter = iter, \n",
    "                                 elapsed_time = el_time,\n",
    "                                 solver_specific = Dict(:penalty => ρ))\n",
    "end"
   ]
  },
  {
   "cell_type": "code",
   "execution_count": 13,
   "metadata": {},
   "outputs": [
    {
     "name": "stderr",
     "output_type": "stream",
     "text": [
      "┌ Info:   iter      #F    ‖F(x)‖           status       ‖d‖         Δ  \n",
      "└ @ Main c:\\Users\\adamo\\OneDrive\\Documents\\POLY\\H24\\MTH8408\\MTH8408-Hiv24\\lab5\\Lab5-notebook.ipynb:31\n",
      "┌ Info:      0      24   0.0e+00      first_order\n",
      "└ @ Main c:\\Users\\adamo\\OneDrive\\Documents\\POLY\\H24\\MTH8408\\MTH8408-Hiv24\\lab5\\Lab5-notebook.ipynb:55\n"
     ]
    },
    {
     "data": {
      "text/plain": [
       "\u001b[32m\u001b[1mTest Passed\u001b[22m\u001b[39m"
      ]
     },
     "metadata": {},
     "output_type": "display_data"
    }
   ],
   "source": [
    "#Faire des tests pour vérifier que ça fonctionne.\n",
    "stats = quad_penalty(himmelblau, x0H)\n",
    "@test stats.status == :first_order\n",
    "@test stats.solution ≈ [1.0008083416169895, 2.709969135758311] atol=1e-2\n",
    "@test norm(cons(himmelblau, stats.solution)) ≈ 0. atol=1e-3"
   ]
  },
  {
   "cell_type": "markdown",
   "metadata": {},
   "source": [
    "Vérifier que la solution rendue vérifie les conditions KKT avec la fonction de la question précédente."
   ]
  },
  {
   "cell_type": "code",
   "execution_count": 14,
   "metadata": {},
   "outputs": [],
   "source": [
    "# TODO"
   ]
  },
  {
   "cell_type": "code",
   "execution_count": 15,
   "metadata": {},
   "outputs": [
    {
     "ename": "MethodError",
     "evalue": "MethodError: no method matching grad(::Vector{Float64}, ::Vector{Float64})\n\nClosest candidates are:\n  grad(!Matched::AbstractNLPModel, ::AbstractVector)\n   @ NLPModels C:\\Users\\adamo\\.julia\\packages\\NLPModels\\XBcWL\\src\\nlp\\api.jl:28\n",
     "output_type": "error",
     "traceback": [
      "MethodError: no method matching grad(::Vector{Float64}, ::Vector{Float64})\n",
      "\n",
      "Closest candidates are:\n",
      "  grad(!Matched::AbstractNLPModel, ::AbstractVector)\n",
      "   @ NLPModels C:\\Users\\adamo\\.julia\\packages\\NLPModels\\XBcWL\\src\\nlp\\api.jl:28\n",
      "\n",
      "\n",
      "Stacktrace:\n",
      " [1] KKT_eq_constraint(nlp::ADNLPModel{Float64, Vector{Float64}}, x::Vector{Float64}, λ::Vector{Float64})\n",
      "   @ Main c:\\Users\\adamo\\OneDrive\\Documents\\POLY\\H24\\MTH8408\\MTH8408-Hiv24\\lab5\\Lab5-notebook.ipynb:5\n",
      " [2] top-level scope\n",
      "   @ c:\\Users\\adamo\\OneDrive\\Documents\\POLY\\H24\\MTH8408\\MTH8408-Hiv24\\lab5\\Lab5-notebook.ipynb:2"
     ]
    }
   ],
   "source": [
    "#Fichier de tests à demander.\n",
    "KKT_eq_constraint(himmelblau,stats.solution,himmelblau.meta.y0)"
   ]
  },
  {
   "cell_type": "markdown",
   "metadata": {},
   "source": [
    "## Exercice 2: Calcul Variationnel"
   ]
  },
  {
   "cell_type": "markdown",
   "metadata": {},
   "source": [
    "Dans cet exercice, on considère le problème de calcul variationnel suivant:\n",
    "$$\n",
    "\\min \\int_0^1 (\\dot{x}(t)^2+2x(t)^2)e^t dt, \\quad x(0)=0, x(1)=e - e^{-2}\n",
    "$$\n",
    "\n",
    "modélisé avec `PDENLPModels`."
   ]
  },
  {
   "cell_type": "code",
   "execution_count": 16,
   "metadata": {},
   "outputs": [
    {
     "data": {
      "text/plain": [
       "cv_model (generic function with 1 method)"
      ]
     },
     "metadata": {},
     "output_type": "display_data"
    }
   ],
   "source": [
    "function cv_model(n :: Int)\n",
    "\n",
    "  domain = (0,1) # set the domain\n",
    "  partition = n\n",
    "  model = CartesianDiscreteModel(domain,partition) # set discretization\n",
    "    \n",
    "  labels = get_face_labeling(model)\n",
    "  add_tag_from_tags!(labels,\"diri1\",[2])\n",
    "  add_tag_from_tags!(labels,\"diri0\",[1]) # boundary conditions\n",
    "\n",
    "  order=1\n",
    "  valuetype=Float64\n",
    "  reffe = ReferenceFE(lagrangian, valuetype, order)\n",
    "  V0 = TestFESpace(model, reffe; conformity=:H1, dirichlet_tags=[\"diri0\",\"diri1\"])\n",
    "  U = TrialFESpace(V0,[0., exp(1)-exp(-2)])\n",
    "\n",
    "  trian = Triangulation(model)\n",
    "  degree = 2\n",
    "  dΩ = Measure(trian,degree) # integration machinery\n",
    "\n",
    "  # Our objective function\n",
    "  w(x) = exp(x[1])\n",
    "  function f(y)\n",
    "    ∫((∇(y)⊙∇(y) + 2 * y * y) * w) * dΩ\n",
    "  end\n",
    "\n",
    "  xin = zeros(Gridap.FESpaces.num_free_dofs(U))\n",
    "  nlp = GridapPDENLPModel(xin, f, trian, U, V0)\n",
    "  return nlp\n",
    "end"
   ]
  },
  {
   "cell_type": "markdown",
   "metadata": {},
   "source": [
    "### Question 1: Résoudre\n",
    "Résoudre le NLPModel généré par la fonction `cv_model` pour `n = 16` avec `ipopt` et afficher la solution (attention la solution rendue ne contient pas les valeurs aux bords qu'il faut rajouter)."
   ]
  },
  {
   "cell_type": "code",
   "execution_count": 17,
   "metadata": {},
   "outputs": [
    {
     "name": "stdout",
     "output_type": "stream",
     "text": [
      "This is Ipopt version 3.14.14, running with linear solver MUMPS 5.6.2.\n",
      "\n",
      "Number of nonzeros in equality constraint Jacobian...:        0\n",
      "Number of nonzeros in inequality constraint Jacobian.:        0\n",
      "Number of nonzeros in Lagrangian Hessian.............:       44\n",
      "\n",
      "Total number of variables............................:       15\n",
      "                     variables with only lower bounds:        0\n",
      "                variables with lower and upper bounds:        0\n",
      "                     variables with only upper bounds:        0\n",
      "Total number of equality constraints.................:        0\n",
      "Total number of inequality constraints...............:        0\n",
      "        inequality constraints with only lower bounds:        0\n",
      "   inequality constraints with lower and upper bounds:        0\n",
      "        inequality constraints with only upper bounds:        0\n",
      "\n",
      "iter    objective    inf_pr   inf_du lg(mu)  ||d||  lg(rg) alpha_du alpha_pr  ls\n",
      "   0  2.8202747e+02 0.00e+00 1.00e+02  -1.0 0.00e+00    -  0.00e+00 0.00e+00   0\n",
      "   1  2.0987074e+01 0.00e+00 3.02e-14  -1.0 2.40e+00    -  1.00e+00 1.00e+00f  1\n",
      "\n",
      "Number of Iterations....: 1\n",
      "\n",
      "                                   (scaled)                 (unscaled)\n",
      "Objective...............:   9.6484800135597375e+00    2.0987074475792042e+01\n",
      "Dual infeasibility......:   3.0216136547373433e-14    6.5725203057809267e-14\n",
      "Constraint violation....:   0.0000000000000000e+00    0.0000000000000000e+00\n",
      "Variable bound violation:   0.0000000000000000e+00    0.0000000000000000e+00\n",
      "Complementarity.........:   0.0000000000000000e+00    0.0000000000000000e+00\n",
      "Overall NLP error.......:   3.0216136547373433e-14    6.5725203057809267e-14\n",
      "\n",
      "\n",
      "Number of objective function evaluations             = 2\n",
      "Number of objective gradient evaluations             = 2\n",
      "Number of equality constraint evaluations            = 0\n",
      "Number of inequality constraint evaluations          = 0\n",
      "Number of equality constraint Jacobian evaluations   = 0\n",
      "Number of inequality constraint Jacobian evaluations = 0\n",
      "Number of Lagrangian Hessian evaluations             = 1\n",
      "Total seconds in IPOPT                               = 5.260\n",
      "\n",
      "EXIT: Optimal Solution Found.\n"
     ]
    },
    {
     "data": {
      "image/png": "[encoded data removed]",
      "image/svg+xml": [
       "<?xml version=\"1.0\" encoding=\"utf-8\"?>\n",
       "<svg xmlns=\"http://www.w3.org/2000/svg\" xmlns:xlink=\"http://www.w3.org/1999/xlink\" width=\"600\" height=\"400\" viewBox=\"0 0 2400 1600\">\n",
       "<defs>\n",
       "  <clipPath id=\"clip580\">\n",
       "    <rect x=\"0\" y=\"0\" width=\"2400\" height=\"1600\"/>\n",
       "  </clipPath>\n",
       "</defs>\n",
       "<path clip-path=\"url(#clip580)\" d=\"M0 1600 L2400 1600 L2400 0 L0 0  Z\" fill=\"#ffffff\" fill-rule=\"evenodd\" fill-opacity=\"1\"/>\n",
       "<defs>\n",
       "  <clipPath id=\"clip581\">\n",
       "    <rect x=\"480\" y=\"0\" width=\"1681\" height=\"1600\"/>\n",
       "  </clipPath>\n",
       "</defs>\n",
       "<path clip-path=\"url(#clip580)\" d=\"M156.112 1486.45 L2352.76 1486.45 L2352.76 47.2441 L156.112 47.2441  Z\" fill=\"#ffffff\" fill-rule=\"evenodd\" fill-opacity=\"1\"/>\n",
       "<defs>\n",
       "  <clipPath id=\"clip582\">\n",
       "    <rect x=\"156\" y=\"47\" width=\"2198\" height=\"1440\"/>\n",
       "  </clipPath>\n",
       "</defs>\n",
       "<polyline clip-path=\"url(#clip582)\" style=\"stroke:#000000; stroke-linecap:round; stroke-linejoin:round; stroke-width:2; stroke-opacity:0.1; fill:none\" points=\"218.281,1486.45 218.281,47.2441 \"/>\n",
       "<polyline clip-path=\"url(#clip582)\" style=\"stroke:#000000; stroke-linecap:round; stroke-linejoin:round; stroke-width:2; stroke-opacity:0.1; fill:none\" points=\"736.358,1486.45 736.358,47.2441 \"/>\n",
       "<polyline clip-path=\"url(#clip582)\" style=\"stroke:#000000; stroke-linecap:round; stroke-linejoin:round; stroke-width:2; stroke-opacity:0.1; fill:none\" points=\"1254.43,1486.45 1254.43,47.2441 \"/>\n",
       "<polyline clip-path=\"url(#clip582)\" style=\"stroke:#000000; stroke-linecap:round; stroke-linejoin:round; stroke-width:2; stroke-opacity:0.1; fill:none\" points=\"1772.51,1486.45 1772.51,47.2441 \"/>\n",
       "<polyline clip-path=\"url(#clip582)\" style=\"stroke:#000000; stroke-linecap:round; stroke-linejoin:round; stroke-width:2; stroke-opacity:0.1; fill:none\" points=\"2290.59,1486.45 2290.59,47.2441 \"/>\n",
       "<polyline clip-path=\"url(#clip580)\" style=\"stroke:#000000; stroke-linecap:round; stroke-linejoin:round; stroke-width:4; stroke-opacity:1; fill:none\" points=\"156.112,1486.45 2352.76,1486.45 \"/>\n",
       "<polyline clip-path=\"url(#clip580)\" style=\"stroke:#000000; stroke-linecap:round; stroke-linejoin:round; stroke-width:4; stroke-opacity:1; fill:none\" points=\"218.281,1486.45 218.281,1467.55 \"/>\n",
       "<polyline clip-path=\"url(#clip580)\" style=\"stroke:#000000; stroke-linecap:round; stroke-linejoin:round; stroke-width:4; stroke-opacity:1; fill:none\" points=\"736.358,1486.45 736.358,1467.55 \"/>\n",
       "<polyline clip-path=\"url(#clip580)\" style=\"stroke:#000000; stroke-linecap:round; stroke-linejoin:round; stroke-width:4; stroke-opacity:1; fill:none\" points=\"1254.43,1486.45 1254.43,1467.55 \"/>\n",
       "<polyline clip-path=\"url(#clip580)\" style=\"stroke:#000000; stroke-linecap:round; stroke-linejoin:round; stroke-width:4; stroke-opacity:1; fill:none\" points=\"1772.51,1486.45 1772.51,1467.55 \"/>\n",
       "<polyline clip-path=\"url(#clip580)\" style=\"stroke:#000000; stroke-linecap:round; stroke-linejoin:round; stroke-width:4; stroke-opacity:1; fill:none\" points=\"2290.59,1486.45 2290.59,1467.55 \"/>\n",
       "<path clip-path=\"url(#clip580)\" d=\"M180.585 1517.37 Q176.974 1517.37 175.145 1520.93 Q173.339 1524.47 173.339 1531.6 Q173.339 1538.71 175.145 1542.27 Q176.974 1545.82 180.585 1545.82 Q184.219 1545.82 186.025 1542.27 Q187.853 1538.71 187.853 1531.6 Q187.853 1524.47 186.025 1520.93 Q184.219 1517.37 180.585 1517.37 M180.585 1513.66 Q186.395 1513.66 189.45 1518.27 Q192.529 1522.85 192.529 1531.6 Q192.529 1540.33 189.45 1544.94 Q186.395 1549.52 180.585 1549.52 Q174.775 1549.52 171.696 1544.94 Q168.64 1540.33 168.64 1531.6 Q168.64 1522.85 171.696 1518.27 Q174.775 1513.66 180.585 1513.66 Z\" fill=\"#000000\" fill-rule=\"nonzero\" fill-opacity=\"1\" /><path clip-path=\"url(#clip580)\" d=\"M200.747 1542.97 L205.631 1542.97 L205.631 1548.85 L200.747 1548.85 L200.747 1542.97 Z\" fill=\"#000000\" fill-rule=\"nonzero\" fill-opacity=\"1\" /><path clip-path=\"url(#clip580)\" d=\"M225.816 1517.37 Q222.205 1517.37 220.376 1520.93 Q218.571 1524.47 218.571 1531.6 Q218.571 1538.71 220.376 1542.27 Q222.205 1545.82 225.816 1545.82 Q229.45 1545.82 231.256 1542.27 Q233.084 1538.71 233.084 1531.6 Q233.084 1524.47 231.256 1520.93 Q229.45 1517.37 225.816 1517.37 M225.816 1513.66 Q231.626 1513.66 234.682 1518.27 Q237.76 1522.85 237.76 1531.6 Q237.76 1540.33 234.682 1544.94 Q231.626 1549.52 225.816 1549.52 Q220.006 1549.52 216.927 1544.94 Q213.872 1540.33 213.872 1531.6 Q213.872 1522.85 216.927 1518.27 Q220.006 1513.66 225.816 1513.66 Z\" fill=\"#000000\" fill-rule=\"nonzero\" fill-opacity=\"1\" /><path clip-path=\"url(#clip580)\" d=\"M255.978 1517.37 Q252.367 1517.37 250.538 1520.93 Q248.733 1524.47 248.733 1531.6 Q248.733 1538.71 250.538 1542.27 Q252.367 1545.82 255.978 1545.82 Q259.612 1545.82 261.418 1542.27 Q263.246 1538.71 263.246 1531.6 Q263.246 1524.47 261.418 1520.93 Q259.612 1517.37 255.978 1517.37 M255.978 1513.66 Q261.788 1513.66 264.844 1518.27 Q267.922 1522.85 267.922 1531.6 Q267.922 1540.33 264.844 1544.94 Q261.788 1549.52 255.978 1549.52 Q250.168 1549.52 247.089 1544.94 Q244.033 1540.33 244.033 1531.6 Q244.033 1522.85 247.089 1518.27 Q250.168 1513.66 255.978 1513.66 Z\" fill=\"#000000\" fill-rule=\"nonzero\" fill-opacity=\"1\" /><path clip-path=\"url(#clip580)\" d=\"M699.159 1517.37 Q695.548 1517.37 693.719 1520.93 Q691.913 1524.47 691.913 1531.6 Q691.913 1538.71 693.719 1542.27 Q695.548 1545.82 699.159 1545.82 Q702.793 1545.82 704.599 1542.27 Q706.427 1538.71 706.427 1531.6 Q706.427 1524.47 704.599 1520.93 Q702.793 1517.37 699.159 1517.37 M699.159 1513.66 Q704.969 1513.66 708.024 1518.27 Q711.103 1522.85 711.103 1531.6 Q711.103 1540.33 708.024 1544.94 Q704.969 1549.52 699.159 1549.52 Q693.349 1549.52 690.27 1544.94 Q687.214 1540.33 687.214 1531.6 Q687.214 1522.85 690.27 1518.27 Q693.349 1513.66 699.159 1513.66 Z\" fill=\"#000000\" fill-rule=\"nonzero\" fill-opacity=\"1\" /><path clip-path=\"url(#clip580)\" d=\"M719.321 1542.97 L724.205 1542.97 L724.205 1548.85 L719.321 1548.85 L719.321 1542.97 Z\" fill=\"#000000\" fill-rule=\"nonzero\" fill-opacity=\"1\" /><path clip-path=\"url(#clip580)\" d=\"M738.418 1544.91 L754.737 1544.91 L754.737 1548.85 L732.793 1548.85 L732.793 1544.91 Q735.455 1542.16 740.038 1537.53 Q744.645 1532.88 745.825 1531.53 Q748.071 1529.01 748.95 1527.27 Q749.853 1525.51 749.853 1523.82 Q749.853 1521.07 747.909 1519.33 Q745.987 1517.6 742.885 1517.6 Q740.686 1517.6 738.233 1518.36 Q735.802 1519.13 733.024 1520.68 L733.024 1515.95 Q735.848 1514.82 738.302 1514.24 Q740.756 1513.66 742.793 1513.66 Q748.163 1513.66 751.358 1516.35 Q754.552 1519.03 754.552 1523.52 Q754.552 1525.65 753.742 1527.57 Q752.955 1529.47 750.848 1532.07 Q750.27 1532.74 747.168 1535.95 Q744.066 1539.15 738.418 1544.91 Z\" fill=\"#000000\" fill-rule=\"nonzero\" fill-opacity=\"1\" /><path clip-path=\"url(#clip580)\" d=\"M764.598 1514.29 L782.955 1514.29 L782.955 1518.22 L768.881 1518.22 L768.881 1526.7 Q769.899 1526.35 770.918 1526.19 Q771.936 1526 772.955 1526 Q778.742 1526 782.121 1529.17 Q785.501 1532.34 785.501 1537.76 Q785.501 1543.34 782.029 1546.44 Q778.557 1549.52 772.237 1549.52 Q770.061 1549.52 767.793 1549.15 Q765.547 1548.78 763.14 1548.04 L763.14 1543.34 Q765.223 1544.47 767.445 1545.03 Q769.668 1545.58 772.144 1545.58 Q776.149 1545.58 778.487 1543.48 Q780.825 1541.37 780.825 1537.76 Q780.825 1534.15 778.487 1532.04 Q776.149 1529.94 772.144 1529.94 Q770.27 1529.94 768.395 1530.35 Q766.543 1530.77 764.598 1531.65 L764.598 1514.29 Z\" fill=\"#000000\" fill-rule=\"nonzero\" fill-opacity=\"1\" /><path clip-path=\"url(#clip580)\" d=\"M1216.74 1517.37 Q1213.13 1517.37 1211.3 1520.93 Q1209.49 1524.47 1209.49 1531.6 Q1209.49 1538.71 1211.3 1542.27 Q1213.13 1545.82 1216.74 1545.82 Q1220.37 1545.82 1222.18 1542.27 Q1224.01 1538.71 1224.01 1531.6 Q1224.01 1524.47 1222.18 1520.93 Q1220.37 1517.37 1216.74 1517.37 M1216.74 1513.66 Q1222.55 1513.66 1225.6 1518.27 Q1228.68 1522.85 1228.68 1531.6 Q1228.68 1540.33 1225.6 1544.94 Q1222.55 1549.52 1216.74 1549.52 Q1210.93 1549.52 1207.85 1544.94 Q1204.79 1540.33 1204.79 1531.6 Q1204.79 1522.85 1207.85 1518.27 Q1210.93 1513.66 1216.74 1513.66 Z\" fill=\"#000000\" fill-rule=\"nonzero\" fill-opacity=\"1\" /><path clip-path=\"url(#clip580)\" d=\"M1236.9 1542.97 L1241.78 1542.97 L1241.78 1548.85 L1236.9 1548.85 L1236.9 1542.97 Z\" fill=\"#000000\" fill-rule=\"nonzero\" fill-opacity=\"1\" /><path clip-path=\"url(#clip580)\" d=\"M1252.02 1514.29 L1270.37 1514.29 L1270.37 1518.22 L1256.3 1518.22 L1256.3 1526.7 Q1257.32 1526.35 1258.33 1526.19 Q1259.35 1526 1260.37 1526 Q1266.16 1526 1269.54 1529.17 Q1272.92 1532.34 1272.92 1537.76 Q1272.92 1543.34 1269.45 1546.44 Q1265.97 1549.52 1259.65 1549.52 Q1257.48 1549.52 1255.21 1549.15 Q1252.96 1548.78 1250.56 1548.04 L1250.56 1543.34 Q1252.64 1544.47 1254.86 1545.03 Q1257.08 1545.58 1259.56 1545.58 Q1263.57 1545.58 1265.9 1543.48 Q1268.24 1541.37 1268.24 1537.76 Q1268.24 1534.15 1265.9 1532.04 Q1263.57 1529.94 1259.56 1529.94 Q1257.69 1529.94 1255.81 1530.35 Q1253.96 1530.77 1252.02 1531.65 L1252.02 1514.29 Z\" fill=\"#000000\" fill-rule=\"nonzero\" fill-opacity=\"1\" /><path clip-path=\"url(#clip580)\" d=\"M1292.13 1517.37 Q1288.52 1517.37 1286.69 1520.93 Q1284.89 1524.47 1284.89 1531.6 Q1284.89 1538.71 1286.69 1542.27 Q1288.52 1545.82 1292.13 1545.82 Q1295.76 1545.82 1297.57 1542.27 Q1299.4 1538.71 1299.4 1531.6 Q1299.4 1524.47 1297.57 1520.93 Q1295.76 1517.37 1292.13 1517.37 M1292.13 1513.66 Q1297.94 1513.66 1301 1518.27 Q1304.07 1522.85 1304.07 1531.6 Q1304.07 1540.33 1301 1544.94 Q1297.94 1549.52 1292.13 1549.52 Q1286.32 1549.52 1283.24 1544.94 Q1280.19 1540.33 1280.19 1531.6 Q1280.19 1522.85 1283.24 1518.27 Q1286.32 1513.66 1292.13 1513.66 Z\" fill=\"#000000\" fill-rule=\"nonzero\" fill-opacity=\"1\" /><path clip-path=\"url(#clip580)\" d=\"M1735.31 1517.37 Q1731.7 1517.37 1729.87 1520.93 Q1728.07 1524.47 1728.07 1531.6 Q1728.07 1538.71 1729.87 1542.27 Q1731.7 1545.82 1735.31 1545.82 Q1738.95 1545.82 1740.75 1542.27 Q1742.58 1538.71 1742.58 1531.6 Q1742.58 1524.47 1740.75 1520.93 Q1738.95 1517.37 1735.31 1517.37 M1735.31 1513.66 Q1741.12 1513.66 1744.18 1518.27 Q1747.26 1522.85 1747.26 1531.6 Q1747.26 1540.33 1744.18 1544.94 Q1741.12 1549.52 1735.31 1549.52 Q1729.5 1549.52 1726.42 1544.94 Q1723.37 1540.33 1723.37 1531.6 Q1723.37 1522.85 1726.42 1518.27 Q1729.5 1513.66 1735.31 1513.66 Z\" fill=\"#000000\" fill-rule=\"nonzero\" fill-opacity=\"1\" /><path clip-path=\"url(#clip580)\" d=\"M1755.47 1542.97 L1760.36 1542.97 L1760.36 1548.85 L1755.47 1548.85 L1755.47 1542.97 Z\" fill=\"#000000\" fill-rule=\"nonzero\" fill-opacity=\"1\" /><path clip-path=\"url(#clip580)\" d=\"M1769.36 1514.29 L1791.58 1514.29 L1791.58 1516.28 L1779.04 1548.85 L1774.15 1548.85 L1785.96 1518.22 L1769.36 1518.22 L1769.36 1514.29 Z\" fill=\"#000000\" fill-rule=\"nonzero\" fill-opacity=\"1\" /><path clip-path=\"url(#clip580)\" d=\"M1800.75 1514.29 L1819.11 1514.29 L1819.11 1518.22 L1805.03 1518.22 L1805.03 1526.7 Q1806.05 1526.35 1807.07 1526.19 Q1808.09 1526 1809.11 1526 Q1814.89 1526 1818.27 1529.17 Q1821.65 1532.34 1821.65 1537.76 Q1821.65 1543.34 1818.18 1546.44 Q1814.71 1549.52 1808.39 1549.52 Q1806.21 1549.52 1803.95 1549.15 Q1801.7 1548.78 1799.29 1548.04 L1799.29 1543.34 Q1801.38 1544.47 1803.6 1545.03 Q1805.82 1545.58 1808.3 1545.58 Q1812.3 1545.58 1814.64 1543.48 Q1816.98 1541.37 1816.98 1537.76 Q1816.98 1534.15 1814.64 1532.04 Q1812.3 1529.94 1808.3 1529.94 Q1806.42 1529.94 1804.55 1530.35 Q1802.7 1530.77 1800.75 1531.65 L1800.75 1514.29 Z\" fill=\"#000000\" fill-rule=\"nonzero\" fill-opacity=\"1\" /><path clip-path=\"url(#clip580)\" d=\"M2242.66 1544.91 L2250.3 1544.91 L2250.3 1518.55 L2241.99 1520.21 L2241.99 1515.95 L2250.25 1514.29 L2254.93 1514.29 L2254.93 1544.91 L2262.57 1544.91 L2262.57 1548.85 L2242.66 1548.85 L2242.66 1544.91 Z\" fill=\"#000000\" fill-rule=\"nonzero\" fill-opacity=\"1\" /><path clip-path=\"url(#clip580)\" d=\"M2272.01 1542.97 L2276.89 1542.97 L2276.89 1548.85 L2272.01 1548.85 L2272.01 1542.97 Z\" fill=\"#000000\" fill-rule=\"nonzero\" fill-opacity=\"1\" /><path clip-path=\"url(#clip580)\" d=\"M2297.08 1517.37 Q2293.47 1517.37 2291.64 1520.93 Q2289.83 1524.47 2289.83 1531.6 Q2289.83 1538.71 2291.64 1542.27 Q2293.47 1545.82 2297.08 1545.82 Q2300.71 1545.82 2302.52 1542.27 Q2304.35 1538.71 2304.35 1531.6 Q2304.35 1524.47 2302.52 1520.93 Q2300.71 1517.37 2297.08 1517.37 M2297.08 1513.66 Q2302.89 1513.66 2305.95 1518.27 Q2309.02 1522.85 2309.02 1531.6 Q2309.02 1540.33 2305.95 1544.94 Q2302.89 1549.52 2297.08 1549.52 Q2291.27 1549.52 2288.19 1544.94 Q2285.14 1540.33 2285.14 1531.6 Q2285.14 1522.85 2288.19 1518.27 Q2291.27 1513.66 2297.08 1513.66 Z\" fill=\"#000000\" fill-rule=\"nonzero\" fill-opacity=\"1\" /><path clip-path=\"url(#clip580)\" d=\"M2327.24 1517.37 Q2323.63 1517.37 2321.8 1520.93 Q2320 1524.47 2320 1531.6 Q2320 1538.71 2321.8 1542.27 Q2323.63 1545.82 2327.24 1545.82 Q2330.88 1545.82 2332.68 1542.27 Q2334.51 1538.71 2334.51 1531.6 Q2334.51 1524.47 2332.68 1520.93 Q2330.88 1517.37 2327.24 1517.37 M2327.24 1513.66 Q2333.05 1513.66 2336.11 1518.27 Q2339.19 1522.85 2339.19 1531.6 Q2339.19 1540.33 2336.11 1544.94 Q2333.05 1549.52 2327.24 1549.52 Q2321.43 1549.52 2318.35 1544.94 Q2315.3 1540.33 2315.3 1531.6 Q2315.3 1522.85 2318.35 1518.27 Q2321.43 1513.66 2327.24 1513.66 Z\" fill=\"#000000\" fill-rule=\"nonzero\" fill-opacity=\"1\" /><polyline clip-path=\"url(#clip582)\" style=\"stroke:#000000; stroke-linecap:round; stroke-linejoin:round; stroke-width:2; stroke-opacity:0.1; fill:none\" points=\"156.112,1445.72 2352.76,1445.72 \"/>\n",
       "<polyline clip-path=\"url(#clip582)\" style=\"stroke:#000000; stroke-linecap:round; stroke-linejoin:round; stroke-width:2; stroke-opacity:0.1; fill:none\" points=\"156.112,1182.89 2352.76,1182.89 \"/>\n",
       "<polyline clip-path=\"url(#clip582)\" style=\"stroke:#000000; stroke-linecap:round; stroke-linejoin:round; stroke-width:2; stroke-opacity:0.1; fill:none\" points=\"156.112,920.06 2352.76,920.06 \"/>\n",
       "<polyline clip-path=\"url(#clip582)\" style=\"stroke:#000000; stroke-linecap:round; stroke-linejoin:round; stroke-width:2; stroke-opacity:0.1; fill:none\" points=\"156.112,657.233 2352.76,657.233 \"/>\n",
       "<polyline clip-path=\"url(#clip582)\" style=\"stroke:#000000; stroke-linecap:round; stroke-linejoin:round; stroke-width:2; stroke-opacity:0.1; fill:none\" points=\"156.112,394.405 2352.76,394.405 \"/>\n",
       "<polyline clip-path=\"url(#clip582)\" style=\"stroke:#000000; stroke-linecap:round; stroke-linejoin:round; stroke-width:2; stroke-opacity:0.1; fill:none\" points=\"156.112,131.578 2352.76,131.578 \"/>\n",
       "<polyline clip-path=\"url(#clip580)\" style=\"stroke:#000000; stroke-linecap:round; stroke-linejoin:round; stroke-width:4; stroke-opacity:1; fill:none\" points=\"156.112,1486.45 156.112,47.2441 \"/>\n",
       "<polyline clip-path=\"url(#clip580)\" style=\"stroke:#000000; stroke-linecap:round; stroke-linejoin:round; stroke-width:4; stroke-opacity:1; fill:none\" points=\"156.112,1445.72 175.01,1445.72 \"/>\n",
       "<polyline clip-path=\"url(#clip580)\" style=\"stroke:#000000; stroke-linecap:round; stroke-linejoin:round; stroke-width:4; stroke-opacity:1; fill:none\" points=\"156.112,1182.89 175.01,1182.89 \"/>\n",
       "<polyline clip-path=\"url(#clip580)\" style=\"stroke:#000000; stroke-linecap:round; stroke-linejoin:round; stroke-width:4; stroke-opacity:1; fill:none\" points=\"156.112,920.06 175.01,920.06 \"/>\n",
       "<polyline clip-path=\"url(#clip580)\" style=\"stroke:#000000; stroke-linecap:round; stroke-linejoin:round; stroke-width:4; stroke-opacity:1; fill:none\" points=\"156.112,657.233 175.01,657.233 \"/>\n",
       "<polyline clip-path=\"url(#clip580)\" style=\"stroke:#000000; stroke-linecap:round; stroke-linejoin:round; stroke-width:4; stroke-opacity:1; fill:none\" points=\"156.112,394.405 175.01,394.405 \"/>\n",
       "<polyline clip-path=\"url(#clip580)\" style=\"stroke:#000000; stroke-linecap:round; stroke-linejoin:round; stroke-width:4; stroke-opacity:1; fill:none\" points=\"156.112,131.578 175.01,131.578 \"/>\n",
       "<path clip-path=\"url(#clip580)\" d=\"M62.9365 1431.51 Q59.3254 1431.51 57.4967 1435.08 Q55.6912 1438.62 55.6912 1445.75 Q55.6912 1452.86 57.4967 1456.42 Q59.3254 1459.96 62.9365 1459.96 Q66.5707 1459.96 68.3763 1456.42 Q70.205 1452.86 70.205 1445.75 Q70.205 1438.62 68.3763 1435.08 Q66.5707 1431.51 62.9365 1431.51 M62.9365 1427.81 Q68.7467 1427.81 71.8022 1432.42 Q74.8809 1437 74.8809 1445.75 Q74.8809 1454.48 71.8022 1459.08 Q68.7467 1463.67 62.9365 1463.67 Q57.1264 1463.67 54.0477 1459.08 Q50.9921 1454.48 50.9921 1445.75 Q50.9921 1437 54.0477 1432.42 Q57.1264 1427.81 62.9365 1427.81 Z\" fill=\"#000000\" fill-rule=\"nonzero\" fill-opacity=\"1\" /><path clip-path=\"url(#clip580)\" d=\"M83.0984 1457.12 L87.9827 1457.12 L87.9827 1463 L83.0984 1463 L83.0984 1457.12 Z\" fill=\"#000000\" fill-rule=\"nonzero\" fill-opacity=\"1\" /><path clip-path=\"url(#clip580)\" d=\"M108.168 1431.51 Q104.557 1431.51 102.728 1435.08 Q100.922 1438.62 100.922 1445.75 Q100.922 1452.86 102.728 1456.42 Q104.557 1459.96 108.168 1459.96 Q111.802 1459.96 113.608 1456.42 Q115.436 1452.86 115.436 1445.75 Q115.436 1438.62 113.608 1435.08 Q111.802 1431.51 108.168 1431.51 M108.168 1427.81 Q113.978 1427.81 117.033 1432.42 Q120.112 1437 120.112 1445.75 Q120.112 1454.48 117.033 1459.08 Q113.978 1463.67 108.168 1463.67 Q102.358 1463.67 99.2789 1459.08 Q96.2234 1454.48 96.2234 1445.75 Q96.2234 1437 99.2789 1432.42 Q102.358 1427.81 108.168 1427.81 Z\" fill=\"#000000\" fill-rule=\"nonzero\" fill-opacity=\"1\" /><path clip-path=\"url(#clip580)\" d=\"M63.9319 1168.69 Q60.3208 1168.69 58.4921 1172.25 Q56.6865 1175.79 56.6865 1182.92 Q56.6865 1190.03 58.4921 1193.59 Q60.3208 1197.14 63.9319 1197.14 Q67.5661 1197.14 69.3717 1193.59 Q71.2004 1190.03 71.2004 1182.92 Q71.2004 1175.79 69.3717 1172.25 Q67.5661 1168.69 63.9319 1168.69 M63.9319 1164.98 Q69.742 1164.98 72.7976 1169.59 Q75.8763 1174.17 75.8763 1182.92 Q75.8763 1191.65 72.7976 1196.26 Q69.742 1200.84 63.9319 1200.84 Q58.1217 1200.84 55.043 1196.26 Q51.9875 1191.65 51.9875 1182.92 Q51.9875 1174.17 55.043 1169.59 Q58.1217 1164.98 63.9319 1164.98 Z\" fill=\"#000000\" fill-rule=\"nonzero\" fill-opacity=\"1\" /><path clip-path=\"url(#clip580)\" d=\"M84.0938 1194.29 L88.978 1194.29 L88.978 1200.17 L84.0938 1200.17 L84.0938 1194.29 Z\" fill=\"#000000\" fill-rule=\"nonzero\" fill-opacity=\"1\" /><path clip-path=\"url(#clip580)\" d=\"M99.2095 1165.61 L117.566 1165.61 L117.566 1169.54 L103.492 1169.54 L103.492 1178.02 Q104.51 1177.67 105.529 1177.51 Q106.547 1177.32 107.566 1177.32 Q113.353 1177.32 116.733 1180.49 Q120.112 1183.66 120.112 1189.08 Q120.112 1194.66 116.64 1197.76 Q113.168 1200.84 106.848 1200.84 Q104.672 1200.84 102.404 1200.47 Q100.159 1200.1 97.7511 1199.36 L97.7511 1194.66 Q99.8345 1195.79 102.057 1196.35 Q104.279 1196.9 106.756 1196.9 Q110.76 1196.9 113.098 1194.8 Q115.436 1192.69 115.436 1189.08 Q115.436 1185.47 113.098 1183.36 Q110.76 1181.26 106.756 1181.26 Q104.881 1181.26 103.006 1181.67 Q101.154 1182.09 99.2095 1182.97 L99.2095 1165.61 Z\" fill=\"#000000\" fill-rule=\"nonzero\" fill-opacity=\"1\" /><path clip-path=\"url(#clip580)\" d=\"M53.7467 933.405 L61.3856 933.405 L61.3856 907.04 L53.0754 908.706 L53.0754 904.447 L61.3393 902.78 L66.0152 902.78 L66.0152 933.405 L73.654 933.405 L73.654 937.34 L53.7467 937.34 L53.7467 933.405 Z\" fill=\"#000000\" fill-rule=\"nonzero\" fill-opacity=\"1\" /><path clip-path=\"url(#clip580)\" d=\"M83.0984 931.461 L87.9827 931.461 L87.9827 937.34 L83.0984 937.34 L83.0984 931.461 Z\" fill=\"#000000\" fill-rule=\"nonzero\" fill-opacity=\"1\" /><path clip-path=\"url(#clip580)\" d=\"M108.168 905.859 Q104.557 905.859 102.728 909.424 Q100.922 912.966 100.922 920.095 Q100.922 927.202 102.728 930.766 Q104.557 934.308 108.168 934.308 Q111.802 934.308 113.608 930.766 Q115.436 927.202 115.436 920.095 Q115.436 912.966 113.608 909.424 Q111.802 905.859 108.168 905.859 M108.168 902.155 Q113.978 902.155 117.033 906.762 Q120.112 911.345 120.112 920.095 Q120.112 928.822 117.033 933.428 Q113.978 938.012 108.168 938.012 Q102.358 938.012 99.2789 933.428 Q96.2234 928.822 96.2234 920.095 Q96.2234 911.345 99.2789 906.762 Q102.358 902.155 108.168 902.155 Z\" fill=\"#000000\" fill-rule=\"nonzero\" fill-opacity=\"1\" /><path clip-path=\"url(#clip580)\" d=\"M54.7421 670.578 L62.381 670.578 L62.381 644.212 L54.0708 645.879 L54.0708 641.619 L62.3347 639.953 L67.0106 639.953 L67.0106 670.578 L74.6494 670.578 L74.6494 674.513 L54.7421 674.513 L54.7421 670.578 Z\" fill=\"#000000\" fill-rule=\"nonzero\" fill-opacity=\"1\" /><path clip-path=\"url(#clip580)\" d=\"M84.0938 668.633 L88.978 668.633 L88.978 674.513 L84.0938 674.513 L84.0938 668.633 Z\" fill=\"#000000\" fill-rule=\"nonzero\" fill-opacity=\"1\" /><path clip-path=\"url(#clip580)\" d=\"M99.2095 639.953 L117.566 639.953 L117.566 643.888 L103.492 643.888 L103.492 652.36 Q104.51 652.013 105.529 651.851 Q106.547 651.666 107.566 651.666 Q113.353 651.666 116.733 654.837 Q120.112 658.008 120.112 663.425 Q120.112 669.004 116.64 672.105 Q113.168 675.184 106.848 675.184 Q104.672 675.184 102.404 674.814 Q100.159 674.443 97.7511 673.703 L97.7511 669.004 Q99.8345 670.138 102.057 670.693 Q104.279 671.249 106.756 671.249 Q110.76 671.249 113.098 669.142 Q115.436 667.036 115.436 663.425 Q115.436 659.814 113.098 657.707 Q110.76 655.601 106.756 655.601 Q104.881 655.601 103.006 656.018 Q101.154 656.434 99.2095 657.314 L99.2095 639.953 Z\" fill=\"#000000\" fill-rule=\"nonzero\" fill-opacity=\"1\" /><path clip-path=\"url(#clip580)\" d=\"M56.9643 407.75 L73.2837 407.75 L73.2837 411.685 L51.3393 411.685 L51.3393 407.75 Q54.0014 404.995 58.5847 400.366 Q63.1911 395.713 64.3717 394.37 Q66.617 391.847 67.4967 390.111 Q68.3994 388.352 68.3994 386.662 Q68.3994 383.908 66.455 382.171 Q64.5337 380.435 61.4319 380.435 Q59.2328 380.435 56.7791 381.199 Q54.3486 381.963 51.5708 383.514 L51.5708 378.792 Q54.3949 377.658 56.8486 377.079 Q59.3023 376.5 61.3393 376.5 Q66.7096 376.5 69.9041 379.185 Q73.0985 381.871 73.0985 386.361 Q73.0985 388.491 72.2883 390.412 Q71.5013 392.31 69.3948 394.903 Q68.8161 395.574 65.7143 398.792 Q62.6124 401.986 56.9643 407.75 Z\" fill=\"#000000\" fill-rule=\"nonzero\" fill-opacity=\"1\" /><path clip-path=\"url(#clip580)\" d=\"M83.0984 405.806 L87.9827 405.806 L87.9827 411.685 L83.0984 411.685 L83.0984 405.806 Z\" fill=\"#000000\" fill-rule=\"nonzero\" fill-opacity=\"1\" /><path clip-path=\"url(#clip580)\" d=\"M108.168 380.204 Q104.557 380.204 102.728 383.769 Q100.922 387.31 100.922 394.44 Q100.922 401.546 102.728 405.111 Q104.557 408.653 108.168 408.653 Q111.802 408.653 113.608 405.111 Q115.436 401.546 115.436 394.44 Q115.436 387.31 113.608 383.769 Q111.802 380.204 108.168 380.204 M108.168 376.5 Q113.978 376.5 117.033 381.107 Q120.112 385.69 120.112 394.44 Q120.112 403.167 117.033 407.773 Q113.978 412.356 108.168 412.356 Q102.358 412.356 99.2789 407.773 Q96.2234 403.167 96.2234 394.44 Q96.2234 385.69 99.2789 381.107 Q102.358 376.5 108.168 376.5 Z\" fill=\"#000000\" fill-rule=\"nonzero\" fill-opacity=\"1\" /><path clip-path=\"url(#clip580)\" d=\"M57.9597 144.922 L74.279 144.922 L74.279 148.858 L52.3347 148.858 L52.3347 144.922 Q54.9967 142.168 59.58 137.538 Q64.1865 132.885 65.367 131.543 Q67.6124 129.02 68.492 127.284 Q69.3948 125.524 69.3948 123.835 Q69.3948 121.08 67.4504 119.344 Q65.5291 117.608 62.4272 117.608 Q60.2282 117.608 57.7745 118.372 Q55.344 119.136 52.5662 120.686 L52.5662 115.964 Q55.3903 114.83 57.8439 114.251 Q60.2976 113.673 62.3347 113.673 Q67.705 113.673 70.8994 116.358 Q74.0939 119.043 74.0939 123.534 Q74.0939 125.663 73.2837 127.585 Q72.4966 129.483 70.3902 132.075 Q69.8115 132.747 66.7096 135.964 Q63.6078 139.159 57.9597 144.922 Z\" fill=\"#000000\" fill-rule=\"nonzero\" fill-opacity=\"1\" /><path clip-path=\"url(#clip580)\" d=\"M84.0938 142.978 L88.978 142.978 L88.978 148.858 L84.0938 148.858 L84.0938 142.978 Z\" fill=\"#000000\" fill-rule=\"nonzero\" fill-opacity=\"1\" /><path clip-path=\"url(#clip580)\" d=\"M99.2095 114.298 L117.566 114.298 L117.566 118.233 L103.492 118.233 L103.492 126.705 Q104.51 126.358 105.529 126.196 Q106.547 126.01 107.566 126.01 Q113.353 126.01 116.733 129.182 Q120.112 132.353 120.112 137.77 Q120.112 143.348 116.64 146.45 Q113.168 149.529 106.848 149.529 Q104.672 149.529 102.404 149.158 Q100.159 148.788 97.7511 148.047 L97.7511 143.348 Q99.8345 144.483 102.057 145.038 Q104.279 145.594 106.756 145.594 Q110.76 145.594 113.098 143.487 Q115.436 141.381 115.436 137.77 Q115.436 134.159 113.098 132.052 Q110.76 129.946 106.756 129.946 Q104.881 129.946 103.006 130.362 Q101.154 130.779 99.2095 131.659 L99.2095 114.298 Z\" fill=\"#000000\" fill-rule=\"nonzero\" fill-opacity=\"1\" /><polyline clip-path=\"url(#clip582)\" style=\"stroke:#009af9; stroke-linecap:round; stroke-linejoin:round; stroke-width:4; stroke-opacity:1; fill:none\" points=\"218.281,1445.72 347.8,1350.07 477.319,1259.49 606.839,1172.98 736.358,1089.65 865.877,1008.67 995.396,929.277 1124.91,850.78 1254.43,772.527 1383.95,693.911 1513.47,614.357 1642.99,533.318 1772.51,450.27 1902.03,364.705 2031.55,276.127 2161.07,184.046 2290.59,87.9763 \"/>\n",
       "<path clip-path=\"url(#clip580)\" d=\"M229.334 198.898 L501.428 198.898 L501.428 95.2176 L229.334 95.2176  Z\" fill=\"#ffffff\" fill-rule=\"evenodd\" fill-opacity=\"1\"/>\n",
       "<polyline clip-path=\"url(#clip580)\" style=\"stroke:#000000; stroke-linecap:round; stroke-linejoin:round; stroke-width:4; stroke-opacity:1; fill:none\" points=\"229.334,198.898 501.428,198.898 501.428,95.2176 229.334,95.2176 229.334,198.898 \"/>\n",
       "<polyline clip-path=\"url(#clip580)\" style=\"stroke:#009af9; stroke-linecap:round; stroke-linejoin:round; stroke-width:4; stroke-opacity:1; fill:none\" points=\"253.741,147.058 400.184,147.058 \"/>\n",
       "<path clip-path=\"url(#clip580)\" d=\"M438.433 166.745 Q436.628 171.375 434.915 172.787 Q433.202 174.199 430.332 174.199 L426.929 174.199 L426.929 170.634 L429.429 170.634 Q431.188 170.634 432.16 169.8 Q433.132 168.967 434.313 165.865 L435.077 163.921 L424.591 138.412 L429.105 138.412 L437.206 158.689 L445.308 138.412 L449.822 138.412 L438.433 166.745 Z\" fill=\"#000000\" fill-rule=\"nonzero\" fill-opacity=\"1\" /><path clip-path=\"url(#clip580)\" d=\"M457.114 160.402 L464.753 160.402 L464.753 134.037 L456.442 135.703 L456.442 131.444 L464.706 129.778 L469.382 129.778 L469.382 160.402 L477.021 160.402 L477.021 164.338 L457.114 164.338 L457.114 160.402 Z\" fill=\"#000000\" fill-rule=\"nonzero\" fill-opacity=\"1\" /></svg>\n"
      ],
      "text/html": [
       "<?xml version=\"1.0\" encoding=\"utf-8\"?>\n",
       "<svg xmlns=\"http://www.w3.org/2000/svg\" xmlns:xlink=\"http://www.w3.org/1999/xlink\" width=\"600\" height=\"400\" viewBox=\"0 0 2400 1600\">\n",
       "<defs>\n",
       "  <clipPath id=\"clip630\">\n",
       "    <rect x=\"0\" y=\"0\" width=\"2400\" height=\"1600\"/>\n",
       "  </clipPath>\n",
       "</defs>\n",
       "<path clip-path=\"url(#clip630)\" d=\"M0 1600 L2400 1600 L2400 0 L0 0  Z\" fill=\"#ffffff\" fill-rule=\"evenodd\" fill-opacity=\"1\"/>\n",
       "<defs>\n",
       "  <clipPath id=\"clip631\">\n",
       "    <rect x=\"480\" y=\"0\" width=\"1681\" height=\"1600\"/>\n",
       "  </clipPath>\n",
       "</defs>\n",
       "<path clip-path=\"url(#clip630)\" d=\"M156.112 1486.45 L2352.76 1486.45 L2352.76 47.2441 L156.112 47.2441  Z\" fill=\"#ffffff\" fill-rule=\"evenodd\" fill-opacity=\"1\"/>\n",
       "<defs>\n",
       "  <clipPath id=\"clip632\">\n",
       "    <rect x=\"156\" y=\"47\" width=\"2198\" height=\"1440\"/>\n",
       "  </clipPath>\n",
       "</defs>\n",
       "<polyline clip-path=\"url(#clip632)\" style=\"stroke:#000000; stroke-linecap:round; stroke-linejoin:round; stroke-width:2; stroke-opacity:0.1; fill:none\" points=\"218.281,1486.45 218.281,47.2441 \"/>\n",
       "<polyline clip-path=\"url(#clip632)\" style=\"stroke:#000000; stroke-linecap:round; stroke-linejoin:round; stroke-width:2; stroke-opacity:0.1; fill:none\" points=\"736.358,1486.45 736.358,47.2441 \"/>\n",
       "<polyline clip-path=\"url(#clip632)\" style=\"stroke:#000000; stroke-linecap:round; stroke-linejoin:round; stroke-width:2; stroke-opacity:0.1; fill:none\" points=\"1254.43,1486.45 1254.43,47.2441 \"/>\n",
       "<polyline clip-path=\"url(#clip632)\" style=\"stroke:#000000; stroke-linecap:round; stroke-linejoin:round; stroke-width:2; stroke-opacity:0.1; fill:none\" points=\"1772.51,1486.45 1772.51,47.2441 \"/>\n",
       "<polyline clip-path=\"url(#clip632)\" style=\"stroke:#000000; stroke-linecap:round; stroke-linejoin:round; stroke-width:2; stroke-opacity:0.1; fill:none\" points=\"2290.59,1486.45 2290.59,47.2441 \"/>\n",
       "<polyline clip-path=\"url(#clip630)\" style=\"stroke:#000000; stroke-linecap:round; stroke-linejoin:round; stroke-width:4; stroke-opacity:1; fill:none\" points=\"156.112,1486.45 2352.76,1486.45 \"/>\n",
       "<polyline clip-path=\"url(#clip630)\" style=\"stroke:#000000; stroke-linecap:round; stroke-linejoin:round; stroke-width:4; stroke-opacity:1; fill:none\" points=\"218.281,1486.45 218.281,1467.55 \"/>\n",
       "<polyline clip-path=\"url(#clip630)\" style=\"stroke:#000000; stroke-linecap:round; stroke-linejoin:round; stroke-width:4; stroke-opacity:1; fill:none\" points=\"736.358,1486.45 736.358,1467.55 \"/>\n",
       "<polyline clip-path=\"url(#clip630)\" style=\"stroke:#000000; stroke-linecap:round; stroke-linejoin:round; stroke-width:4; stroke-opacity:1; fill:none\" points=\"1254.43,1486.45 1254.43,1467.55 \"/>\n",
       "<polyline clip-path=\"url(#clip630)\" style=\"stroke:#000000; stroke-linecap:round; stroke-linejoin:round; stroke-width:4; stroke-opacity:1; fill:none\" points=\"1772.51,1486.45 1772.51,1467.55 \"/>\n",
       "<polyline clip-path=\"url(#clip630)\" style=\"stroke:#000000; stroke-linecap:round; stroke-linejoin:round; stroke-width:4; stroke-opacity:1; fill:none\" points=\"2290.59,1486.45 2290.59,1467.55 \"/>\n",
       "<path clip-path=\"url(#clip630)\" d=\"M180.585 1517.37 Q176.974 1517.37 175.145 1520.93 Q173.339 1524.47 173.339 1531.6 Q173.339 1538.71 175.145 1542.27 Q176.974 1545.82 180.585 1545.82 Q184.219 1545.82 186.025 1542.27 Q187.853 1538.71 187.853 1531.6 Q187.853 1524.47 186.025 1520.93 Q184.219 1517.37 180.585 1517.37 M180.585 1513.66 Q186.395 1513.66 189.45 1518.27 Q192.529 1522.85 192.529 1531.6 Q192.529 1540.33 189.45 1544.94 Q186.395 1549.52 180.585 1549.52 Q174.775 1549.52 171.696 1544.94 Q168.64 1540.33 168.64 1531.6 Q168.64 1522.85 171.696 1518.27 Q174.775 1513.66 180.585 1513.66 Z\" fill=\"#000000\" fill-rule=\"nonzero\" fill-opacity=\"1\" /><path clip-path=\"url(#clip630)\" d=\"M200.747 1542.97 L205.631 1542.97 L205.631 1548.85 L200.747 1548.85 L200.747 1542.97 Z\" fill=\"#000000\" fill-rule=\"nonzero\" fill-opacity=\"1\" /><path clip-path=\"url(#clip630)\" d=\"M225.816 1517.37 Q222.205 1517.37 220.376 1520.93 Q218.571 1524.47 218.571 1531.6 Q218.571 1538.71 220.376 1542.27 Q222.205 1545.82 225.816 1545.82 Q229.45 1545.82 231.256 1542.27 Q233.084 1538.71 233.084 1531.6 Q233.084 1524.47 231.256 1520.93 Q229.45 1517.37 225.816 1517.37 M225.816 1513.66 Q231.626 1513.66 234.682 1518.27 Q237.76 1522.85 237.76 1531.6 Q237.76 1540.33 234.682 1544.94 Q231.626 1549.52 225.816 1549.52 Q220.006 1549.52 216.927 1544.94 Q213.872 1540.33 213.872 1531.6 Q213.872 1522.85 216.927 1518.27 Q220.006 1513.66 225.816 1513.66 Z\" fill=\"#000000\" fill-rule=\"nonzero\" fill-opacity=\"1\" /><path clip-path=\"url(#clip630)\" d=\"M255.978 1517.37 Q252.367 1517.37 250.538 1520.93 Q248.733 1524.47 248.733 1531.6 Q248.733 1538.71 250.538 1542.27 Q252.367 1545.82 255.978 1545.82 Q259.612 1545.82 261.418 1542.27 Q263.246 1538.71 263.246 1531.6 Q263.246 1524.47 261.418 1520.93 Q259.612 1517.37 255.978 1517.37 M255.978 1513.66 Q261.788 1513.66 264.844 1518.27 Q267.922 1522.85 267.922 1531.6 Q267.922 1540.33 264.844 1544.94 Q261.788 1549.52 255.978 1549.52 Q250.168 1549.52 247.089 1544.94 Q244.033 1540.33 244.033 1531.6 Q244.033 1522.85 247.089 1518.27 Q250.168 1513.66 255.978 1513.66 Z\" fill=\"#000000\" fill-rule=\"nonzero\" fill-opacity=\"1\" /><path clip-path=\"url(#clip630)\" d=\"M699.159 1517.37 Q695.548 1517.37 693.719 1520.93 Q691.913 1524.47 691.913 1531.6 Q691.913 1538.71 693.719 1542.27 Q695.548 1545.82 699.159 1545.82 Q702.793 1545.82 704.599 1542.27 Q706.427 1538.71 706.427 1531.6 Q706.427 1524.47 704.599 1520.93 Q702.793 1517.37 699.159 1517.37 M699.159 1513.66 Q704.969 1513.66 708.024 1518.27 Q711.103 1522.85 711.103 1531.6 Q711.103 1540.33 708.024 1544.94 Q704.969 1549.52 699.159 1549.52 Q693.349 1549.52 690.27 1544.94 Q687.214 1540.33 687.214 1531.6 Q687.214 1522.85 690.27 1518.27 Q693.349 1513.66 699.159 1513.66 Z\" fill=\"#000000\" fill-rule=\"nonzero\" fill-opacity=\"1\" /><path clip-path=\"url(#clip630)\" d=\"M719.321 1542.97 L724.205 1542.97 L724.205 1548.85 L719.321 1548.85 L719.321 1542.97 Z\" fill=\"#000000\" fill-rule=\"nonzero\" fill-opacity=\"1\" /><path clip-path=\"url(#clip630)\" d=\"M738.418 1544.91 L754.737 1544.91 L754.737 1548.85 L732.793 1548.85 L732.793 1544.91 Q735.455 1542.16 740.038 1537.53 Q744.645 1532.88 745.825 1531.53 Q748.071 1529.01 748.95 1527.27 Q749.853 1525.51 749.853 1523.82 Q749.853 1521.07 747.909 1519.33 Q745.987 1517.6 742.885 1517.6 Q740.686 1517.6 738.233 1518.36 Q735.802 1519.13 733.024 1520.68 L733.024 1515.95 Q735.848 1514.82 738.302 1514.24 Q740.756 1513.66 742.793 1513.66 Q748.163 1513.66 751.358 1516.35 Q754.552 1519.03 754.552 1523.52 Q754.552 1525.65 753.742 1527.57 Q752.955 1529.47 750.848 1532.07 Q750.27 1532.74 747.168 1535.95 Q744.066 1539.15 738.418 1544.91 Z\" fill=\"#000000\" fill-rule=\"nonzero\" fill-opacity=\"1\" /><path clip-path=\"url(#clip630)\" d=\"M764.598 1514.29 L782.955 1514.29 L782.955 1518.22 L768.881 1518.22 L768.881 1526.7 Q769.899 1526.35 770.918 1526.19 Q771.936 1526 772.955 1526 Q778.742 1526 782.121 1529.17 Q785.501 1532.34 785.501 1537.76 Q785.501 1543.34 782.029 1546.44 Q778.557 1549.52 772.237 1549.52 Q770.061 1549.52 767.793 1549.15 Q765.547 1548.78 763.14 1548.04 L763.14 1543.34 Q765.223 1544.47 767.445 1545.03 Q769.668 1545.58 772.144 1545.58 Q776.149 1545.58 778.487 1543.48 Q780.825 1541.37 780.825 1537.76 Q780.825 1534.15 778.487 1532.04 Q776.149 1529.94 772.144 1529.94 Q770.27 1529.94 768.395 1530.35 Q766.543 1530.77 764.598 1531.65 L764.598 1514.29 Z\" fill=\"#000000\" fill-rule=\"nonzero\" fill-opacity=\"1\" /><path clip-path=\"url(#clip630)\" d=\"M1216.74 1517.37 Q1213.13 1517.37 1211.3 1520.93 Q1209.49 1524.47 1209.49 1531.6 Q1209.49 1538.71 1211.3 1542.27 Q1213.13 1545.82 1216.74 1545.82 Q1220.37 1545.82 1222.18 1542.27 Q1224.01 1538.71 1224.01 1531.6 Q1224.01 1524.47 1222.18 1520.93 Q1220.37 1517.37 1216.74 1517.37 M1216.74 1513.66 Q1222.55 1513.66 1225.6 1518.27 Q1228.68 1522.85 1228.68 1531.6 Q1228.68 1540.33 1225.6 1544.94 Q1222.55 1549.52 1216.74 1549.52 Q1210.93 1549.52 1207.85 1544.94 Q1204.79 1540.33 1204.79 1531.6 Q1204.79 1522.85 1207.85 1518.27 Q1210.93 1513.66 1216.74 1513.66 Z\" fill=\"#000000\" fill-rule=\"nonzero\" fill-opacity=\"1\" /><path clip-path=\"url(#clip630)\" d=\"M1236.9 1542.97 L1241.78 1542.97 L1241.78 1548.85 L1236.9 1548.85 L1236.9 1542.97 Z\" fill=\"#000000\" fill-rule=\"nonzero\" fill-opacity=\"1\" /><path clip-path=\"url(#clip630)\" d=\"M1252.02 1514.29 L1270.37 1514.29 L1270.37 1518.22 L1256.3 1518.22 L1256.3 1526.7 Q1257.32 1526.35 1258.33 1526.19 Q1259.35 1526 1260.37 1526 Q1266.16 1526 1269.54 1529.17 Q1272.92 1532.34 1272.92 1537.76 Q1272.92 1543.34 1269.45 1546.44 Q1265.97 1549.52 1259.65 1549.52 Q1257.48 1549.52 1255.21 1549.15 Q1252.96 1548.78 1250.56 1548.04 L1250.56 1543.34 Q1252.64 1544.47 1254.86 1545.03 Q1257.08 1545.58 1259.56 1545.58 Q1263.57 1545.58 1265.9 1543.48 Q1268.24 1541.37 1268.24 1537.76 Q1268.24 1534.15 1265.9 1532.04 Q1263.57 1529.94 1259.56 1529.94 Q1257.69 1529.94 1255.81 1530.35 Q1253.96 1530.77 1252.02 1531.65 L1252.02 1514.29 Z\" fill=\"#000000\" fill-rule=\"nonzero\" fill-opacity=\"1\" /><path clip-path=\"url(#clip630)\" d=\"M1292.13 1517.37 Q1288.52 1517.37 1286.69 1520.93 Q1284.89 1524.47 1284.89 1531.6 Q1284.89 1538.71 1286.69 1542.27 Q1288.52 1545.82 1292.13 1545.82 Q1295.76 1545.82 1297.57 1542.27 Q1299.4 1538.71 1299.4 1531.6 Q1299.4 1524.47 1297.57 1520.93 Q1295.76 1517.37 1292.13 1517.37 M1292.13 1513.66 Q1297.94 1513.66 1301 1518.27 Q1304.07 1522.85 1304.07 1531.6 Q1304.07 1540.33 1301 1544.94 Q1297.94 1549.52 1292.13 1549.52 Q1286.32 1549.52 1283.24 1544.94 Q1280.19 1540.33 1280.19 1531.6 Q1280.19 1522.85 1283.24 1518.27 Q1286.32 1513.66 1292.13 1513.66 Z\" fill=\"#000000\" fill-rule=\"nonzero\" fill-opacity=\"1\" /><path clip-path=\"url(#clip630)\" d=\"M1735.31 1517.37 Q1731.7 1517.37 1729.87 1520.93 Q1728.07 1524.47 1728.07 1531.6 Q1728.07 1538.71 1729.87 1542.27 Q1731.7 1545.82 1735.31 1545.82 Q1738.95 1545.82 1740.75 1542.27 Q1742.58 1538.71 1742.58 1531.6 Q1742.58 1524.47 1740.75 1520.93 Q1738.95 1517.37 1735.31 1517.37 M1735.31 1513.66 Q1741.12 1513.66 1744.18 1518.27 Q1747.26 1522.85 1747.26 1531.6 Q1747.26 1540.33 1744.18 1544.94 Q1741.12 1549.52 1735.31 1549.52 Q1729.5 1549.52 1726.42 1544.94 Q1723.37 1540.33 1723.37 1531.6 Q1723.37 1522.85 1726.42 1518.27 Q1729.5 1513.66 1735.31 1513.66 Z\" fill=\"#000000\" fill-rule=\"nonzero\" fill-opacity=\"1\" /><path clip-path=\"url(#clip630)\" d=\"M1755.47 1542.97 L1760.36 1542.97 L1760.36 1548.85 L1755.47 1548.85 L1755.47 1542.97 Z\" fill=\"#000000\" fill-rule=\"nonzero\" fill-opacity=\"1\" /><path clip-path=\"url(#clip630)\" d=\"M1769.36 1514.29 L1791.58 1514.29 L1791.58 1516.28 L1779.04 1548.85 L1774.15 1548.85 L1785.96 1518.22 L1769.36 1518.22 L1769.36 1514.29 Z\" fill=\"#000000\" fill-rule=\"nonzero\" fill-opacity=\"1\" /><path clip-path=\"url(#clip630)\" d=\"M1800.75 1514.29 L1819.11 1514.29 L1819.11 1518.22 L1805.03 1518.22 L1805.03 1526.7 Q1806.05 1526.35 1807.07 1526.19 Q1808.09 1526 1809.11 1526 Q1814.89 1526 1818.27 1529.17 Q1821.65 1532.34 1821.65 1537.76 Q1821.65 1543.34 1818.18 1546.44 Q1814.71 1549.52 1808.39 1549.52 Q1806.21 1549.52 1803.95 1549.15 Q1801.7 1548.78 1799.29 1548.04 L1799.29 1543.34 Q1801.38 1544.47 1803.6 1545.03 Q1805.82 1545.58 1808.3 1545.58 Q1812.3 1545.58 1814.64 1543.48 Q1816.98 1541.37 1816.98 1537.76 Q1816.98 1534.15 1814.64 1532.04 Q1812.3 1529.94 1808.3 1529.94 Q1806.42 1529.94 1804.55 1530.35 Q1802.7 1530.77 1800.75 1531.65 L1800.75 1514.29 Z\" fill=\"#000000\" fill-rule=\"nonzero\" fill-opacity=\"1\" /><path clip-path=\"url(#clip630)\" d=\"M2242.66 1544.91 L2250.3 1544.91 L2250.3 1518.55 L2241.99 1520.21 L2241.99 1515.95 L2250.25 1514.29 L2254.93 1514.29 L2254.93 1544.91 L2262.57 1544.91 L2262.57 1548.85 L2242.66 1548.85 L2242.66 1544.91 Z\" fill=\"#000000\" fill-rule=\"nonzero\" fill-opacity=\"1\" /><path clip-path=\"url(#clip630)\" d=\"M2272.01 1542.97 L2276.89 1542.97 L2276.89 1548.85 L2272.01 1548.85 L2272.01 1542.97 Z\" fill=\"#000000\" fill-rule=\"nonzero\" fill-opacity=\"1\" /><path clip-path=\"url(#clip630)\" d=\"M2297.08 1517.37 Q2293.47 1517.37 2291.64 1520.93 Q2289.83 1524.47 2289.83 1531.6 Q2289.83 1538.71 2291.64 1542.27 Q2293.47 1545.82 2297.08 1545.82 Q2300.71 1545.82 2302.52 1542.27 Q2304.35 1538.71 2304.35 1531.6 Q2304.35 1524.47 2302.52 1520.93 Q2300.71 1517.37 2297.08 1517.37 M2297.08 1513.66 Q2302.89 1513.66 2305.95 1518.27 Q2309.02 1522.85 2309.02 1531.6 Q2309.02 1540.33 2305.95 1544.94 Q2302.89 1549.52 2297.08 1549.52 Q2291.27 1549.52 2288.19 1544.94 Q2285.14 1540.33 2285.14 1531.6 Q2285.14 1522.85 2288.19 1518.27 Q2291.27 1513.66 2297.08 1513.66 Z\" fill=\"#000000\" fill-rule=\"nonzero\" fill-opacity=\"1\" /><path clip-path=\"url(#clip630)\" d=\"M2327.24 1517.37 Q2323.63 1517.37 2321.8 1520.93 Q2320 1524.47 2320 1531.6 Q2320 1538.71 2321.8 1542.27 Q2323.63 1545.82 2327.24 1545.82 Q2330.88 1545.82 2332.68 1542.27 Q2334.51 1538.71 2334.51 1531.6 Q2334.51 1524.47 2332.68 1520.93 Q2330.88 1517.37 2327.24 1517.37 M2327.24 1513.66 Q2333.05 1513.66 2336.11 1518.27 Q2339.19 1522.85 2339.19 1531.6 Q2339.19 1540.33 2336.11 1544.94 Q2333.05 1549.52 2327.24 1549.52 Q2321.43 1549.52 2318.35 1544.94 Q2315.3 1540.33 2315.3 1531.6 Q2315.3 1522.85 2318.35 1518.27 Q2321.43 1513.66 2327.24 1513.66 Z\" fill=\"#000000\" fill-rule=\"nonzero\" fill-opacity=\"1\" /><polyline clip-path=\"url(#clip632)\" style=\"stroke:#000000; stroke-linecap:round; stroke-linejoin:round; stroke-width:2; stroke-opacity:0.1; fill:none\" points=\"156.112,1445.72 2352.76,1445.72 \"/>\n",
       "<polyline clip-path=\"url(#clip632)\" style=\"stroke:#000000; stroke-linecap:round; stroke-linejoin:round; stroke-width:2; stroke-opacity:0.1; fill:none\" points=\"156.112,1182.89 2352.76,1182.89 \"/>\n",
       "<polyline clip-path=\"url(#clip632)\" style=\"stroke:#000000; stroke-linecap:round; stroke-linejoin:round; stroke-width:2; stroke-opacity:0.1; fill:none\" points=\"156.112,920.06 2352.76,920.06 \"/>\n",
       "<polyline clip-path=\"url(#clip632)\" style=\"stroke:#000000; stroke-linecap:round; stroke-linejoin:round; stroke-width:2; stroke-opacity:0.1; fill:none\" points=\"156.112,657.233 2352.76,657.233 \"/>\n",
       "<polyline clip-path=\"url(#clip632)\" style=\"stroke:#000000; stroke-linecap:round; stroke-linejoin:round; stroke-width:2; stroke-opacity:0.1; fill:none\" points=\"156.112,394.405 2352.76,394.405 \"/>\n",
       "<polyline clip-path=\"url(#clip632)\" style=\"stroke:#000000; stroke-linecap:round; stroke-linejoin:round; stroke-width:2; stroke-opacity:0.1; fill:none\" points=\"156.112,131.578 2352.76,131.578 \"/>\n",
       "<polyline clip-path=\"url(#clip630)\" style=\"stroke:#000000; stroke-linecap:round; stroke-linejoin:round; stroke-width:4; stroke-opacity:1; fill:none\" points=\"156.112,1486.45 156.112,47.2441 \"/>\n",
       "<polyline clip-path=\"url(#clip630)\" style=\"stroke:#000000; stroke-linecap:round; stroke-linejoin:round; stroke-width:4; stroke-opacity:1; fill:none\" points=\"156.112,1445.72 175.01,1445.72 \"/>\n",
       "<polyline clip-path=\"url(#clip630)\" style=\"stroke:#000000; stroke-linecap:round; stroke-linejoin:round; stroke-width:4; stroke-opacity:1; fill:none\" points=\"156.112,1182.89 175.01,1182.89 \"/>\n",
       "<polyline clip-path=\"url(#clip630)\" style=\"stroke:#000000; stroke-linecap:round; stroke-linejoin:round; stroke-width:4; stroke-opacity:1; fill:none\" points=\"156.112,920.06 175.01,920.06 \"/>\n",
       "<polyline clip-path=\"url(#clip630)\" style=\"stroke:#000000; stroke-linecap:round; stroke-linejoin:round; stroke-width:4; stroke-opacity:1; fill:none\" points=\"156.112,657.233 175.01,657.233 \"/>\n",
       "<polyline clip-path=\"url(#clip630)\" style=\"stroke:#000000; stroke-linecap:round; stroke-linejoin:round; stroke-width:4; stroke-opacity:1; fill:none\" points=\"156.112,394.405 175.01,394.405 \"/>\n",
       "<polyline clip-path=\"url(#clip630)\" style=\"stroke:#000000; stroke-linecap:round; stroke-linejoin:round; stroke-width:4; stroke-opacity:1; fill:none\" points=\"156.112,131.578 175.01,131.578 \"/>\n",
       "<path clip-path=\"url(#clip630)\" d=\"M62.9365 1431.51 Q59.3254 1431.51 57.4967 1435.08 Q55.6912 1438.62 55.6912 1445.75 Q55.6912 1452.86 57.4967 1456.42 Q59.3254 1459.96 62.9365 1459.96 Q66.5707 1459.96 68.3763 1456.42 Q70.205 1452.86 70.205 1445.75 Q70.205 1438.62 68.3763 1435.08 Q66.5707 1431.51 62.9365 1431.51 M62.9365 1427.81 Q68.7467 1427.81 71.8022 1432.42 Q74.8809 1437 74.8809 1445.75 Q74.8809 1454.48 71.8022 1459.08 Q68.7467 1463.67 62.9365 1463.67 Q57.1264 1463.67 54.0477 1459.08 Q50.9921 1454.48 50.9921 1445.75 Q50.9921 1437 54.0477 1432.42 Q57.1264 1427.81 62.9365 1427.81 Z\" fill=\"#000000\" fill-rule=\"nonzero\" fill-opacity=\"1\" /><path clip-path=\"url(#clip630)\" d=\"M83.0984 1457.12 L87.9827 1457.12 L87.9827 1463 L83.0984 1463 L83.0984 1457.12 Z\" fill=\"#000000\" fill-rule=\"nonzero\" fill-opacity=\"1\" /><path clip-path=\"url(#clip630)\" d=\"M108.168 1431.51 Q104.557 1431.51 102.728 1435.08 Q100.922 1438.62 100.922 1445.75 Q100.922 1452.86 102.728 1456.42 Q104.557 1459.96 108.168 1459.96 Q111.802 1459.96 113.608 1456.42 Q115.436 1452.86 115.436 1445.75 Q115.436 1438.62 113.608 1435.08 Q111.802 1431.51 108.168 1431.51 M108.168 1427.81 Q113.978 1427.81 117.033 1432.42 Q120.112 1437 120.112 1445.75 Q120.112 1454.48 117.033 1459.08 Q113.978 1463.67 108.168 1463.67 Q102.358 1463.67 99.2789 1459.08 Q96.2234 1454.48 96.2234 1445.75 Q96.2234 1437 99.2789 1432.42 Q102.358 1427.81 108.168 1427.81 Z\" fill=\"#000000\" fill-rule=\"nonzero\" fill-opacity=\"1\" /><path clip-path=\"url(#clip630)\" d=\"M63.9319 1168.69 Q60.3208 1168.69 58.4921 1172.25 Q56.6865 1175.79 56.6865 1182.92 Q56.6865 1190.03 58.4921 1193.59 Q60.3208 1197.14 63.9319 1197.14 Q67.5661 1197.14 69.3717 1193.59 Q71.2004 1190.03 71.2004 1182.92 Q71.2004 1175.79 69.3717 1172.25 Q67.5661 1168.69 63.9319 1168.69 M63.9319 1164.98 Q69.742 1164.98 72.7976 1169.59 Q75.8763 1174.17 75.8763 1182.92 Q75.8763 1191.65 72.7976 1196.26 Q69.742 1200.84 63.9319 1200.84 Q58.1217 1200.84 55.043 1196.26 Q51.9875 1191.65 51.9875 1182.92 Q51.9875 1174.17 55.043 1169.59 Q58.1217 1164.98 63.9319 1164.98 Z\" fill=\"#000000\" fill-rule=\"nonzero\" fill-opacity=\"1\" /><path clip-path=\"url(#clip630)\" d=\"M84.0938 1194.29 L88.978 1194.29 L88.978 1200.17 L84.0938 1200.17 L84.0938 1194.29 Z\" fill=\"#000000\" fill-rule=\"nonzero\" fill-opacity=\"1\" /><path clip-path=\"url(#clip630)\" d=\"M99.2095 1165.61 L117.566 1165.61 L117.566 1169.54 L103.492 1169.54 L103.492 1178.02 Q104.51 1177.67 105.529 1177.51 Q106.547 1177.32 107.566 1177.32 Q113.353 1177.32 116.733 1180.49 Q120.112 1183.66 120.112 1189.08 Q120.112 1194.66 116.64 1197.76 Q113.168 1200.84 106.848 1200.84 Q104.672 1200.84 102.404 1200.47 Q100.159 1200.1 97.7511 1199.36 L97.7511 1194.66 Q99.8345 1195.79 102.057 1196.35 Q104.279 1196.9 106.756 1196.9 Q110.76 1196.9 113.098 1194.8 Q115.436 1192.69 115.436 1189.08 Q115.436 1185.47 113.098 1183.36 Q110.76 1181.26 106.756 1181.26 Q104.881 1181.26 103.006 1181.67 Q101.154 1182.09 99.2095 1182.97 L99.2095 1165.61 Z\" fill=\"#000000\" fill-rule=\"nonzero\" fill-opacity=\"1\" /><path clip-path=\"url(#clip630)\" d=\"M53.7467 933.405 L61.3856 933.405 L61.3856 907.04 L53.0754 908.706 L53.0754 904.447 L61.3393 902.78 L66.0152 902.78 L66.0152 933.405 L73.654 933.405 L73.654 937.34 L53.7467 937.34 L53.7467 933.405 Z\" fill=\"#000000\" fill-rule=\"nonzero\" fill-opacity=\"1\" /><path clip-path=\"url(#clip630)\" d=\"M83.0984 931.461 L87.9827 931.461 L87.9827 937.34 L83.0984 937.34 L83.0984 931.461 Z\" fill=\"#000000\" fill-rule=\"nonzero\" fill-opacity=\"1\" /><path clip-path=\"url(#clip630)\" d=\"M108.168 905.859 Q104.557 905.859 102.728 909.424 Q100.922 912.966 100.922 920.095 Q100.922 927.202 102.728 930.766 Q104.557 934.308 108.168 934.308 Q111.802 934.308 113.608 930.766 Q115.436 927.202 115.436 920.095 Q115.436 912.966 113.608 909.424 Q111.802 905.859 108.168 905.859 M108.168 902.155 Q113.978 902.155 117.033 906.762 Q120.112 911.345 120.112 920.095 Q120.112 928.822 117.033 933.428 Q113.978 938.012 108.168 938.012 Q102.358 938.012 99.2789 933.428 Q96.2234 928.822 96.2234 920.095 Q96.2234 911.345 99.2789 906.762 Q102.358 902.155 108.168 902.155 Z\" fill=\"#000000\" fill-rule=\"nonzero\" fill-opacity=\"1\" /><path clip-path=\"url(#clip630)\" d=\"M54.7421 670.578 L62.381 670.578 L62.381 644.212 L54.0708 645.879 L54.0708 641.619 L62.3347 639.953 L67.0106 639.953 L67.0106 670.578 L74.6494 670.578 L74.6494 674.513 L54.7421 674.513 L54.7421 670.578 Z\" fill=\"#000000\" fill-rule=\"nonzero\" fill-opacity=\"1\" /><path clip-path=\"url(#clip630)\" d=\"M84.0938 668.633 L88.978 668.633 L88.978 674.513 L84.0938 674.513 L84.0938 668.633 Z\" fill=\"#000000\" fill-rule=\"nonzero\" fill-opacity=\"1\" /><path clip-path=\"url(#clip630)\" d=\"M99.2095 639.953 L117.566 639.953 L117.566 643.888 L103.492 643.888 L103.492 652.36 Q104.51 652.013 105.529 651.851 Q106.547 651.666 107.566 651.666 Q113.353 651.666 116.733 654.837 Q120.112 658.008 120.112 663.425 Q120.112 669.004 116.64 672.105 Q113.168 675.184 106.848 675.184 Q104.672 675.184 102.404 674.814 Q100.159 674.443 97.7511 673.703 L97.7511 669.004 Q99.8345 670.138 102.057 670.693 Q104.279 671.249 106.756 671.249 Q110.76 671.249 113.098 669.142 Q115.436 667.036 115.436 663.425 Q115.436 659.814 113.098 657.707 Q110.76 655.601 106.756 655.601 Q104.881 655.601 103.006 656.018 Q101.154 656.434 99.2095 657.314 L99.2095 639.953 Z\" fill=\"#000000\" fill-rule=\"nonzero\" fill-opacity=\"1\" /><path clip-path=\"url(#clip630)\" d=\"M56.9643 407.75 L73.2837 407.75 L73.2837 411.685 L51.3393 411.685 L51.3393 407.75 Q54.0014 404.995 58.5847 400.366 Q63.1911 395.713 64.3717 394.37 Q66.617 391.847 67.4967 390.111 Q68.3994 388.352 68.3994 386.662 Q68.3994 383.908 66.455 382.171 Q64.5337 380.435 61.4319 380.435 Q59.2328 380.435 56.7791 381.199 Q54.3486 381.963 51.5708 383.514 L51.5708 378.792 Q54.3949 377.658 56.8486 377.079 Q59.3023 376.5 61.3393 376.5 Q66.7096 376.5 69.9041 379.185 Q73.0985 381.871 73.0985 386.361 Q73.0985 388.491 72.2883 390.412 Q71.5013 392.31 69.3948 394.903 Q68.8161 395.574 65.7143 398.792 Q62.6124 401.986 56.9643 407.75 Z\" fill=\"#000000\" fill-rule=\"nonzero\" fill-opacity=\"1\" /><path clip-path=\"url(#clip630)\" d=\"M83.0984 405.806 L87.9827 405.806 L87.9827 411.685 L83.0984 411.685 L83.0984 405.806 Z\" fill=\"#000000\" fill-rule=\"nonzero\" fill-opacity=\"1\" /><path clip-path=\"url(#clip630)\" d=\"M108.168 380.204 Q104.557 380.204 102.728 383.769 Q100.922 387.31 100.922 394.44 Q100.922 401.546 102.728 405.111 Q104.557 408.653 108.168 408.653 Q111.802 408.653 113.608 405.111 Q115.436 401.546 115.436 394.44 Q115.436 387.31 113.608 383.769 Q111.802 380.204 108.168 380.204 M108.168 376.5 Q113.978 376.5 117.033 381.107 Q120.112 385.69 120.112 394.44 Q120.112 403.167 117.033 407.773 Q113.978 412.356 108.168 412.356 Q102.358 412.356 99.2789 407.773 Q96.2234 403.167 96.2234 394.44 Q96.2234 385.69 99.2789 381.107 Q102.358 376.5 108.168 376.5 Z\" fill=\"#000000\" fill-rule=\"nonzero\" fill-opacity=\"1\" /><path clip-path=\"url(#clip630)\" d=\"M57.9597 144.922 L74.279 144.922 L74.279 148.858 L52.3347 148.858 L52.3347 144.922 Q54.9967 142.168 59.58 137.538 Q64.1865 132.885 65.367 131.543 Q67.6124 129.02 68.492 127.284 Q69.3948 125.524 69.3948 123.835 Q69.3948 121.08 67.4504 119.344 Q65.5291 117.608 62.4272 117.608 Q60.2282 117.608 57.7745 118.372 Q55.344 119.136 52.5662 120.686 L52.5662 115.964 Q55.3903 114.83 57.8439 114.251 Q60.2976 113.673 62.3347 113.673 Q67.705 113.673 70.8994 116.358 Q74.0939 119.043 74.0939 123.534 Q74.0939 125.663 73.2837 127.585 Q72.4966 129.483 70.3902 132.075 Q69.8115 132.747 66.7096 135.964 Q63.6078 139.159 57.9597 144.922 Z\" fill=\"#000000\" fill-rule=\"nonzero\" fill-opacity=\"1\" /><path clip-path=\"url(#clip630)\" d=\"M84.0938 142.978 L88.978 142.978 L88.978 148.858 L84.0938 148.858 L84.0938 142.978 Z\" fill=\"#000000\" fill-rule=\"nonzero\" fill-opacity=\"1\" /><path clip-path=\"url(#clip630)\" d=\"M99.2095 114.298 L117.566 114.298 L117.566 118.233 L103.492 118.233 L103.492 126.705 Q104.51 126.358 105.529 126.196 Q106.547 126.01 107.566 126.01 Q113.353 126.01 116.733 129.182 Q120.112 132.353 120.112 137.77 Q120.112 143.348 116.64 146.45 Q113.168 149.529 106.848 149.529 Q104.672 149.529 102.404 149.158 Q100.159 148.788 97.7511 148.047 L97.7511 143.348 Q99.8345 144.483 102.057 145.038 Q104.279 145.594 106.756 145.594 Q110.76 145.594 113.098 143.487 Q115.436 141.381 115.436 137.77 Q115.436 134.159 113.098 132.052 Q110.76 129.946 106.756 129.946 Q104.881 129.946 103.006 130.362 Q101.154 130.779 99.2095 131.659 L99.2095 114.298 Z\" fill=\"#000000\" fill-rule=\"nonzero\" fill-opacity=\"1\" /><polyline clip-path=\"url(#clip632)\" style=\"stroke:#009af9; stroke-linecap:round; stroke-linejoin:round; stroke-width:4; stroke-opacity:1; fill:none\" points=\"218.281,1445.72 347.8,1350.07 477.319,1259.49 606.839,1172.98 736.358,1089.65 865.877,1008.67 995.396,929.277 1124.91,850.78 1254.43,772.527 1383.95,693.911 1513.47,614.357 1642.99,533.318 1772.51,450.27 1902.03,364.705 2031.55,276.127 2161.07,184.046 2290.59,87.9763 \"/>\n",
       "<path clip-path=\"url(#clip630)\" d=\"M229.334 198.898 L501.428 198.898 L501.428 95.2176 L229.334 95.2176  Z\" fill=\"#ffffff\" fill-rule=\"evenodd\" fill-opacity=\"1\"/>\n",
       "<polyline clip-path=\"url(#clip630)\" style=\"stroke:#000000; stroke-linecap:round; stroke-linejoin:round; stroke-width:4; stroke-opacity:1; fill:none\" points=\"229.334,198.898 501.428,198.898 501.428,95.2176 229.334,95.2176 229.334,198.898 \"/>\n",
       "<polyline clip-path=\"url(#clip630)\" style=\"stroke:#009af9; stroke-linecap:round; stroke-linejoin:round; stroke-width:4; stroke-opacity:1; fill:none\" points=\"253.741,147.058 400.184,147.058 \"/>\n",
       "<path clip-path=\"url(#clip630)\" d=\"M438.433 166.745 Q436.628 171.375 434.915 172.787 Q433.202 174.199 430.332 174.199 L426.929 174.199 L426.929 170.634 L429.429 170.634 Q431.188 170.634 432.16 169.8 Q433.132 168.967 434.313 165.865 L435.077 163.921 L424.591 138.412 L429.105 138.412 L437.206 158.689 L445.308 138.412 L449.822 138.412 L438.433 166.745 Z\" fill=\"#000000\" fill-rule=\"nonzero\" fill-opacity=\"1\" /><path clip-path=\"url(#clip630)\" d=\"M457.114 160.402 L464.753 160.402 L464.753 134.037 L456.442 135.703 L456.442 131.444 L464.706 129.778 L469.382 129.778 L469.382 160.402 L477.021 160.402 L477.021 164.338 L457.114 164.338 L457.114 160.402 Z\" fill=\"#000000\" fill-rule=\"nonzero\" fill-opacity=\"1\" /></svg>\n"
      ]
     },
     "metadata": {},
     "output_type": "display_data"
    }
   ],
   "source": [
    "# TODO\n",
    "using Plots\n",
    "cv16 = cv_model(16)\n",
    "stats = ipopt(cv16)\n",
    "\n",
    "x = range(0,1,length = 17)\n",
    "y = [0;stats.solution;exp(1)-exp(-2)]\n",
    "plot(x,y)"
   ]
  },
  {
   "cell_type": "markdown",
   "metadata": {},
   "source": [
    "### Question 2: Convergence en `n`\n",
    "Afficher sur un même graphique la solution obtenue par `ipopt` pour plusieurs valeurs de `n`."
   ]
  },
  {
   "cell_type": "code",
   "execution_count": 18,
   "metadata": {},
   "outputs": [
    {
     "name": "stdout",
     "output_type": "stream",
     "text": [
      "This is Ipopt version 3.14.14, running with linear solver MUMPS 5.6.2.\n",
      "\n",
      "Number of nonzeros in equality constraint Jacobian...:        0\n",
      "Number of nonzeros in inequality constraint Jacobian.:        0\n",
      "Number of nonzeros in Lagrangian Hessian.............:       44\n",
      "\n",
      "Total number of variables............................:       15\n",
      "                     variables with only lower bounds:        0\n",
      "                variables with lower and upper bounds:        0\n",
      "                     variables with only upper bounds:        0\n",
      "Total number of equality constraints.................:        0\n",
      "Total number of inequality constraints...............:        0\n",
      "        inequality constraints with only lower bounds:        0\n",
      "   inequality constraints with lower and upper bounds:        0\n",
      "        inequality constraints with only upper bounds:        0\n",
      "\n",
      "iter    objective    inf_pr   inf_du lg(mu)  ||d||  lg(rg) alpha_du alpha_pr  ls\n",
      "   0  2.8202747e+02 0.00e+00 1.00e+02  -1.0 0.00e+00    -  0.00e+00 0.00e+00   0\n",
      "   1  2.0987074e+01 0.00e+00 3.02e-14  -1.0 2.40e+00    -  1.00e+00 1.00e+00f  1\n",
      "\n",
      "Number of Iterations....: 1\n",
      "\n",
      "                                   (scaled)                 (unscaled)\n",
      "Objective...............:   9.6484800135597375e+00    2.0987074475792042e+01\n",
      "Dual infeasibility......:   3.0216136547373433e-14    6.5725203057809267e-14\n",
      "Constraint violation....:   0.0000000000000000e+00    0.0000000000000000e+00\n",
      "Variable bound violation:   0.0000000000000000e+00    0.0000000000000000e+00\n",
      "Complementarity.........:   0.0000000000000000e+00    0.0000000000000000e+00\n",
      "Overall NLP error.......:   3.0216136547373433e-14    6.5725203057809267e-14\n",
      "\n",
      "\n",
      "Number of objective function evaluations             = 2\n",
      "Number of objective gradient evaluations             = 2\n",
      "Number of equality constraint evaluations            = 0\n",
      "Number of inequality constraint evaluations          = 0\n",
      "Number of equality constraint Jacobian evaluations   = 0\n",
      "Number of inequality constraint Jacobian evaluations = 0\n",
      "Number of Lagrangian Hessian evaluations             = 1\n",
      "Total seconds in IPOPT                               = 0.072\n",
      "\n",
      "EXIT: Optimal Solution Found.\n",
      "This is Ipopt version 3.14.14, running with linear solver MUMPS 5.6.2.\n",
      "\n",
      "Number of nonzeros in equality constraint Jacobian...:        0\n",
      "Number of nonzeros in inequality constraint Jacobian.:        0\n",
      "Number of nonzeros in Lagrangian Hessian.............:      188\n",
      "\n",
      "Total number of variables............................:       63\n",
      "                     variables with only lower bounds:        0\n",
      "                variables with lower and upper bounds:        0\n",
      "                     variables with only upper bounds:        0\n",
      "Total number of equality constraints.................:        0\n",
      "Total number of inequality constraints...............:        0\n",
      "        inequality constraints with only lower bounds:        0\n",
      "   inequality constraints with lower and upper bounds:        0\n",
      "        inequality constraints with only upper bounds:        0\n",
      "\n",
      "iter    objective    inf_pr   inf_du lg(mu)  ||d||  lg(rg) alpha_du alpha_pr  ls\n",
      "   0  1.1518283e+03 0.00e+00 1.00e+02  -1.0 0.00e+00    -  0.00e+00 0.00e+00   0\n",
      "   1  2.0986033e+01 0.00e+00 4.46e-14  -1.0 2.54e+00    -  1.00e+00 1.00e+00f  1\n",
      "\n",
      "Number of Iterations....: 1\n",
      "\n",
      "                                   (scaled)                 (unscaled)\n",
      "Objective...............:   2.3536090441322592e+00    2.0986032544330911e+01\n",
      "Dual infeasibility......:   4.4625409358967054e-14    3.9790393202565605e-13\n",
      "Constraint violation....:   0.0000000000000000e+00    0.0000000000000000e+00\n",
      "Variable bound violation:   0.0000000000000000e+00    0.0000000000000000e+00\n",
      "Complementarity.........:   0.0000000000000000e+00    0.0000000000000000e+00\n",
      "Overall NLP error.......:   4.4625409358967054e-14    3.9790393202565605e-13\n",
      "\n",
      "\n",
      "Number of objective function evaluations             = 2\n",
      "Number of objective gradient evaluations             = 2\n",
      "Number of equality constraint evaluations            = 0\n",
      "Number of inequality constraint evaluations          = 0\n",
      "Number of equality constraint Jacobian evaluations   = 0\n",
      "Number of inequality constraint Jacobian evaluations = 0\n",
      "Number of Lagrangian Hessian evaluations             = 1\n",
      "Total seconds in IPOPT                               = 0.048\n",
      "\n",
      "EXIT: Optimal Solution Found.\n",
      "This is Ipopt version 3.14.14, running with linear solver MUMPS 5.6.2.\n",
      "\n",
      "Number of nonzeros in equality constraint Jacobian...:        0\n",
      "Number of nonzeros in inequality constraint Jacobian.:        0\n",
      "Number of nonzeros in Lagrangian Hessian.............:      380\n",
      "\n",
      "Total number of variables............................:      127\n",
      "                     variables with only lower bounds:        0\n",
      "                variables with lower and upper bounds:        0\n",
      "                     variables with only upper bounds:        0\n",
      "Total number of equality constraints.................:        0\n",
      "Total number of inequality constraints...............:        0\n",
      "        inequality constraints with only lower bounds:        0\n",
      "   inequality constraints with lower and upper bounds:        0\n",
      "        inequality constraints with only upper bounds:        0\n",
      "\n",
      "iter    objective    inf_pr   inf_du lg(mu)  ||d||  lg(rg) alpha_du alpha_pr  ls\n",
      "   0  2.3123716e+03 0.00e+00 1.00e+02  -1.0 0.00e+00    -  0.00e+00 0.00e+00   0\n",
      "   1  2.0985980e+01 0.00e+00 5.04e-14  -1.0 2.56e+00    -  1.00e+00 1.00e+00f  1\n",
      "\n",
      "Number of Iterations....: 1\n",
      "\n",
      "                                   (scaled)                 (unscaled)\n",
      "Objective...............:   1.1721510689040417e+00    2.0985980229387991e+01\n",
      "Dual infeasibility......:   5.0402056087532821e-14    9.0238927441532734e-13\n",
      "Constraint violation....:   0.0000000000000000e+00    0.0000000000000000e+00\n",
      "Variable bound violation:   0.0000000000000000e+00    0.0000000000000000e+00\n",
      "Complementarity.........:   0.0000000000000000e+00    0.0000000000000000e+00\n",
      "Overall NLP error.......:   5.0402056087532821e-14    9.0238927441532734e-13\n",
      "\n",
      "\n",
      "Number of objective function evaluations             = 2\n",
      "Number of objective gradient evaluations             = 2\n",
      "Number of equality constraint evaluations            = 0\n",
      "Number of inequality constraint evaluations          = 0\n",
      "Number of equality constraint Jacobian evaluations   = 0\n",
      "Number of inequality constraint Jacobian evaluations = 0\n",
      "Number of Lagrangian Hessian evaluations             = 1\n",
      "Total seconds in IPOPT                               = 0.071\n",
      "\n",
      "EXIT: Optimal Solution Found.\n"
     ]
    },
    {
     "data": {
      "image/png": "[encoded data removed]",
      "image/svg+xml": [
       "<?xml version=\"1.0\" encoding=\"utf-8\"?>\n",
       "<svg xmlns=\"http://www.w3.org/2000/svg\" xmlns:xlink=\"http://www.w3.org/1999/xlink\" width=\"600\" height=\"400\" viewBox=\"0 0 2400 1600\">\n",
       "<defs>\n",
       "  <clipPath id=\"clip670\">\n",
       "    <rect x=\"0\" y=\"0\" width=\"2400\" height=\"1600\"/>\n",
       "  </clipPath>\n",
       "</defs>\n",
       "<path clip-path=\"url(#clip670)\" d=\"M0 1600 L2400 1600 L2400 0 L0 0  Z\" fill=\"#ffffff\" fill-rule=\"evenodd\" fill-opacity=\"1\"/>\n",
       "<defs>\n",
       "  <clipPath id=\"clip671\">\n",
       "    <rect x=\"480\" y=\"0\" width=\"1681\" height=\"1600\"/>\n",
       "  </clipPath>\n",
       "</defs>\n",
       "<path clip-path=\"url(#clip670)\" d=\"M156.112 1486.45 L2352.76 1486.45 L2352.76 47.2441 L156.112 47.2441  Z\" fill=\"#ffffff\" fill-rule=\"evenodd\" fill-opacity=\"1\"/>\n",
       "<defs>\n",
       "  <clipPath id=\"clip672\">\n",
       "    <rect x=\"156\" y=\"47\" width=\"2198\" height=\"1440\"/>\n",
       "  </clipPath>\n",
       "</defs>\n",
       "<polyline clip-path=\"url(#clip672)\" style=\"stroke:#000000; stroke-linecap:round; stroke-linejoin:round; stroke-width:2; stroke-opacity:0.1; fill:none\" points=\"218.281,1486.45 218.281,47.2441 \"/>\n",
       "<polyline clip-path=\"url(#clip672)\" style=\"stroke:#000000; stroke-linecap:round; stroke-linejoin:round; stroke-width:2; stroke-opacity:0.1; fill:none\" points=\"736.358,1486.45 736.358,47.2441 \"/>\n",
       "<polyline clip-path=\"url(#clip672)\" style=\"stroke:#000000; stroke-linecap:round; stroke-linejoin:round; stroke-width:2; stroke-opacity:0.1; fill:none\" points=\"1254.43,1486.45 1254.43,47.2441 \"/>\n",
       "<polyline clip-path=\"url(#clip672)\" style=\"stroke:#000000; stroke-linecap:round; stroke-linejoin:round; stroke-width:2; stroke-opacity:0.1; fill:none\" points=\"1772.51,1486.45 1772.51,47.2441 \"/>\n",
       "<polyline clip-path=\"url(#clip672)\" style=\"stroke:#000000; stroke-linecap:round; stroke-linejoin:round; stroke-width:2; stroke-opacity:0.1; fill:none\" points=\"2290.59,1486.45 2290.59,47.2441 \"/>\n",
       "<polyline clip-path=\"url(#clip670)\" style=\"stroke:#000000; stroke-linecap:round; stroke-linejoin:round; stroke-width:4; stroke-opacity:1; fill:none\" points=\"156.112,1486.45 2352.76,1486.45 \"/>\n",
       "<polyline clip-path=\"url(#clip670)\" style=\"stroke:#000000; stroke-linecap:round; stroke-linejoin:round; stroke-width:4; stroke-opacity:1; fill:none\" points=\"218.281,1486.45 218.281,1467.55 \"/>\n",
       "<polyline clip-path=\"url(#clip670)\" style=\"stroke:#000000; stroke-linecap:round; stroke-linejoin:round; stroke-width:4; stroke-opacity:1; fill:none\" points=\"736.358,1486.45 736.358,1467.55 \"/>\n",
       "<polyline clip-path=\"url(#clip670)\" style=\"stroke:#000000; stroke-linecap:round; stroke-linejoin:round; stroke-width:4; stroke-opacity:1; fill:none\" points=\"1254.43,1486.45 1254.43,1467.55 \"/>\n",
       "<polyline clip-path=\"url(#clip670)\" style=\"stroke:#000000; stroke-linecap:round; stroke-linejoin:round; stroke-width:4; stroke-opacity:1; fill:none\" points=\"1772.51,1486.45 1772.51,1467.55 \"/>\n",
       "<polyline clip-path=\"url(#clip670)\" style=\"stroke:#000000; stroke-linecap:round; stroke-linejoin:round; stroke-width:4; stroke-opacity:1; fill:none\" points=\"2290.59,1486.45 2290.59,1467.55 \"/>\n",
       "<path clip-path=\"url(#clip670)\" d=\"M180.585 1517.37 Q176.974 1517.37 175.145 1520.93 Q173.339 1524.47 173.339 1531.6 Q173.339 1538.71 175.145 1542.27 Q176.974 1545.82 180.585 1545.82 Q184.219 1545.82 186.025 1542.27 Q187.853 1538.71 187.853 1531.6 Q187.853 1524.47 186.025 1520.93 Q184.219 1517.37 180.585 1517.37 M180.585 1513.66 Q186.395 1513.66 189.45 1518.27 Q192.529 1522.85 192.529 1531.6 Q192.529 1540.33 189.45 1544.94 Q186.395 1549.52 180.585 1549.52 Q174.775 1549.52 171.696 1544.94 Q168.64 1540.33 168.64 1531.6 Q168.64 1522.85 171.696 1518.27 Q174.775 1513.66 180.585 1513.66 Z\" fill=\"#000000\" fill-rule=\"nonzero\" fill-opacity=\"1\" /><path clip-path=\"url(#clip670)\" d=\"M200.747 1542.97 L205.631 1542.97 L205.631 1548.85 L200.747 1548.85 L200.747 1542.97 Z\" fill=\"#000000\" fill-rule=\"nonzero\" fill-opacity=\"1\" /><path clip-path=\"url(#clip670)\" d=\"M225.816 1517.37 Q222.205 1517.37 220.376 1520.93 Q218.571 1524.47 218.571 1531.6 Q218.571 1538.71 220.376 1542.27 Q222.205 1545.82 225.816 1545.82 Q229.45 1545.82 231.256 1542.27 Q233.084 1538.71 233.084 1531.6 Q233.084 1524.47 231.256 1520.93 Q229.45 1517.37 225.816 1517.37 M225.816 1513.66 Q231.626 1513.66 234.682 1518.27 Q237.76 1522.85 237.76 1531.6 Q237.76 1540.33 234.682 1544.94 Q231.626 1549.52 225.816 1549.52 Q220.006 1549.52 216.927 1544.94 Q213.872 1540.33 213.872 1531.6 Q213.872 1522.85 216.927 1518.27 Q220.006 1513.66 225.816 1513.66 Z\" fill=\"#000000\" fill-rule=\"nonzero\" fill-opacity=\"1\" /><path clip-path=\"url(#clip670)\" d=\"M255.978 1517.37 Q252.367 1517.37 250.538 1520.93 Q248.733 1524.47 248.733 1531.6 Q248.733 1538.71 250.538 1542.27 Q252.367 1545.82 255.978 1545.82 Q259.612 1545.82 261.418 1542.27 Q263.246 1538.71 263.246 1531.6 Q263.246 1524.47 261.418 1520.93 Q259.612 1517.37 255.978 1517.37 M255.978 1513.66 Q261.788 1513.66 264.844 1518.27 Q267.922 1522.85 267.922 1531.6 Q267.922 1540.33 264.844 1544.94 Q261.788 1549.52 255.978 1549.52 Q250.168 1549.52 247.089 1544.94 Q244.033 1540.33 244.033 1531.6 Q244.033 1522.85 247.089 1518.27 Q250.168 1513.66 255.978 1513.66 Z\" fill=\"#000000\" fill-rule=\"nonzero\" fill-opacity=\"1\" /><path clip-path=\"url(#clip670)\" d=\"M699.159 1517.37 Q695.548 1517.37 693.719 1520.93 Q691.913 1524.47 691.913 1531.6 Q691.913 1538.71 693.719 1542.27 Q695.548 1545.82 699.159 1545.82 Q702.793 1545.82 704.599 1542.27 Q706.427 1538.71 706.427 1531.6 Q706.427 1524.47 704.599 1520.93 Q702.793 1517.37 699.159 1517.37 M699.159 1513.66 Q704.969 1513.66 708.024 1518.27 Q711.103 1522.85 711.103 1531.6 Q711.103 1540.33 708.024 1544.94 Q704.969 1549.52 699.159 1549.52 Q693.349 1549.52 690.27 1544.94 Q687.214 1540.33 687.214 1531.6 Q687.214 1522.85 690.27 1518.27 Q693.349 1513.66 699.159 1513.66 Z\" fill=\"#000000\" fill-rule=\"nonzero\" fill-opacity=\"1\" /><path clip-path=\"url(#clip670)\" d=\"M719.321 1542.97 L724.205 1542.97 L724.205 1548.85 L719.321 1548.85 L719.321 1542.97 Z\" fill=\"#000000\" fill-rule=\"nonzero\" fill-opacity=\"1\" /><path clip-path=\"url(#clip670)\" d=\"M738.418 1544.91 L754.737 1544.91 L754.737 1548.85 L732.793 1548.85 L732.793 1544.91 Q735.455 1542.16 740.038 1537.53 Q744.645 1532.88 745.825 1531.53 Q748.071 1529.01 748.95 1527.27 Q749.853 1525.51 749.853 1523.82 Q749.853 1521.07 747.909 1519.33 Q745.987 1517.6 742.885 1517.6 Q740.686 1517.6 738.233 1518.36 Q735.802 1519.13 733.024 1520.68 L733.024 1515.95 Q735.848 1514.82 738.302 1514.24 Q740.756 1513.66 742.793 1513.66 Q748.163 1513.66 751.358 1516.35 Q754.552 1519.03 754.552 1523.52 Q754.552 1525.65 753.742 1527.57 Q752.955 1529.47 750.848 1532.07 Q750.27 1532.74 747.168 1535.95 Q744.066 1539.15 738.418 1544.91 Z\" fill=\"#000000\" fill-rule=\"nonzero\" fill-opacity=\"1\" /><path clip-path=\"url(#clip670)\" d=\"M764.598 1514.29 L782.955 1514.29 L782.955 1518.22 L768.881 1518.22 L768.881 1526.7 Q769.899 1526.35 770.918 1526.19 Q771.936 1526 772.955 1526 Q778.742 1526 782.121 1529.17 Q785.501 1532.34 785.501 1537.76 Q785.501 1543.34 782.029 1546.44 Q778.557 1549.52 772.237 1549.52 Q770.061 1549.52 767.793 1549.15 Q765.547 1548.78 763.14 1548.04 L763.14 1543.34 Q765.223 1544.47 767.445 1545.03 Q769.668 1545.58 772.144 1545.58 Q776.149 1545.58 778.487 1543.48 Q780.825 1541.37 780.825 1537.76 Q780.825 1534.15 778.487 1532.04 Q776.149 1529.94 772.144 1529.94 Q770.27 1529.94 768.395 1530.35 Q766.543 1530.77 764.598 1531.65 L764.598 1514.29 Z\" fill=\"#000000\" fill-rule=\"nonzero\" fill-opacity=\"1\" /><path clip-path=\"url(#clip670)\" d=\"M1216.74 1517.37 Q1213.13 1517.37 1211.3 1520.93 Q1209.49 1524.47 1209.49 1531.6 Q1209.49 1538.71 1211.3 1542.27 Q1213.13 1545.82 1216.74 1545.82 Q1220.37 1545.82 1222.18 1542.27 Q1224.01 1538.71 1224.01 1531.6 Q1224.01 1524.47 1222.18 1520.93 Q1220.37 1517.37 1216.74 1517.37 M1216.74 1513.66 Q1222.55 1513.66 1225.6 1518.27 Q1228.68 1522.85 1228.68 1531.6 Q1228.68 1540.33 1225.6 1544.94 Q1222.55 1549.52 1216.74 1549.52 Q1210.93 1549.52 1207.85 1544.94 Q1204.79 1540.33 1204.79 1531.6 Q1204.79 1522.85 1207.85 1518.27 Q1210.93 1513.66 1216.74 1513.66 Z\" fill=\"#000000\" fill-rule=\"nonzero\" fill-opacity=\"1\" /><path clip-path=\"url(#clip670)\" d=\"M1236.9 1542.97 L1241.78 1542.97 L1241.78 1548.85 L1236.9 1548.85 L1236.9 1542.97 Z\" fill=\"#000000\" fill-rule=\"nonzero\" fill-opacity=\"1\" /><path clip-path=\"url(#clip670)\" d=\"M1252.02 1514.29 L1270.37 1514.29 L1270.37 1518.22 L1256.3 1518.22 L1256.3 1526.7 Q1257.32 1526.35 1258.33 1526.19 Q1259.35 1526 1260.37 1526 Q1266.16 1526 1269.54 1529.17 Q1272.92 1532.34 1272.92 1537.76 Q1272.92 1543.34 1269.45 1546.44 Q1265.97 1549.52 1259.65 1549.52 Q1257.48 1549.52 1255.21 1549.15 Q1252.96 1548.78 1250.56 1548.04 L1250.56 1543.34 Q1252.64 1544.47 1254.86 1545.03 Q1257.08 1545.58 1259.56 1545.58 Q1263.57 1545.58 1265.9 1543.48 Q1268.24 1541.37 1268.24 1537.76 Q1268.24 1534.15 1265.9 1532.04 Q1263.57 1529.94 1259.56 1529.94 Q1257.69 1529.94 1255.81 1530.35 Q1253.96 1530.77 1252.02 1531.65 L1252.02 1514.29 Z\" fill=\"#000000\" fill-rule=\"nonzero\" fill-opacity=\"1\" /><path clip-path=\"url(#clip670)\" d=\"M1292.13 1517.37 Q1288.52 1517.37 1286.69 1520.93 Q1284.89 1524.47 1284.89 1531.6 Q1284.89 1538.71 1286.69 1542.27 Q1288.52 1545.82 1292.13 1545.82 Q1295.76 1545.82 1297.57 1542.27 Q1299.4 1538.71 1299.4 1531.6 Q1299.4 1524.47 1297.57 1520.93 Q1295.76 1517.37 1292.13 1517.37 M1292.13 1513.66 Q1297.94 1513.66 1301 1518.27 Q1304.07 1522.85 1304.07 1531.6 Q1304.07 1540.33 1301 1544.94 Q1297.94 1549.52 1292.13 1549.52 Q1286.32 1549.52 1283.24 1544.94 Q1280.19 1540.33 1280.19 1531.6 Q1280.19 1522.85 1283.24 1518.27 Q1286.32 1513.66 1292.13 1513.66 Z\" fill=\"#000000\" fill-rule=\"nonzero\" fill-opacity=\"1\" /><path clip-path=\"url(#clip670)\" d=\"M1735.31 1517.37 Q1731.7 1517.37 1729.87 1520.93 Q1728.07 1524.47 1728.07 1531.6 Q1728.07 1538.71 1729.87 1542.27 Q1731.7 1545.82 1735.31 1545.82 Q1738.95 1545.82 1740.75 1542.27 Q1742.58 1538.71 1742.58 1531.6 Q1742.58 1524.47 1740.75 1520.93 Q1738.95 1517.37 1735.31 1517.37 M1735.31 1513.66 Q1741.12 1513.66 1744.18 1518.27 Q1747.26 1522.85 1747.26 1531.6 Q1747.26 1540.33 1744.18 1544.94 Q1741.12 1549.52 1735.31 1549.52 Q1729.5 1549.52 1726.42 1544.94 Q1723.37 1540.33 1723.37 1531.6 Q1723.37 1522.85 1726.42 1518.27 Q1729.5 1513.66 1735.31 1513.66 Z\" fill=\"#000000\" fill-rule=\"nonzero\" fill-opacity=\"1\" /><path clip-path=\"url(#clip670)\" d=\"M1755.47 1542.97 L1760.36 1542.97 L1760.36 1548.85 L1755.47 1548.85 L1755.47 1542.97 Z\" fill=\"#000000\" fill-rule=\"nonzero\" fill-opacity=\"1\" /><path clip-path=\"url(#clip670)\" d=\"M1769.36 1514.29 L1791.58 1514.29 L1791.58 1516.28 L1779.04 1548.85 L1774.15 1548.85 L1785.96 1518.22 L1769.36 1518.22 L1769.36 1514.29 Z\" fill=\"#000000\" fill-rule=\"nonzero\" fill-opacity=\"1\" /><path clip-path=\"url(#clip670)\" d=\"M1800.75 1514.29 L1819.11 1514.29 L1819.11 1518.22 L1805.03 1518.22 L1805.03 1526.7 Q1806.05 1526.35 1807.07 1526.19 Q1808.09 1526 1809.11 1526 Q1814.89 1526 1818.27 1529.17 Q1821.65 1532.34 1821.65 1537.76 Q1821.65 1543.34 1818.18 1546.44 Q1814.71 1549.52 1808.39 1549.52 Q1806.21 1549.52 1803.95 1549.15 Q1801.7 1548.78 1799.29 1548.04 L1799.29 1543.34 Q1801.38 1544.47 1803.6 1545.03 Q1805.82 1545.58 1808.3 1545.58 Q1812.3 1545.58 1814.64 1543.48 Q1816.98 1541.37 1816.98 1537.76 Q1816.98 1534.15 1814.64 1532.04 Q1812.3 1529.94 1808.3 1529.94 Q1806.42 1529.94 1804.55 1530.35 Q1802.7 1530.77 1800.75 1531.65 L1800.75 1514.29 Z\" fill=\"#000000\" fill-rule=\"nonzero\" fill-opacity=\"1\" /><path clip-path=\"url(#clip670)\" d=\"M2242.66 1544.91 L2250.3 1544.91 L2250.3 1518.55 L2241.99 1520.21 L2241.99 1515.95 L2250.25 1514.29 L2254.93 1514.29 L2254.93 1544.91 L2262.57 1544.91 L2262.57 1548.85 L2242.66 1548.85 L2242.66 1544.91 Z\" fill=\"#000000\" fill-rule=\"nonzero\" fill-opacity=\"1\" /><path clip-path=\"url(#clip670)\" d=\"M2272.01 1542.97 L2276.89 1542.97 L2276.89 1548.85 L2272.01 1548.85 L2272.01 1542.97 Z\" fill=\"#000000\" fill-rule=\"nonzero\" fill-opacity=\"1\" /><path clip-path=\"url(#clip670)\" d=\"M2297.08 1517.37 Q2293.47 1517.37 2291.64 1520.93 Q2289.83 1524.47 2289.83 1531.6 Q2289.83 1538.71 2291.64 1542.27 Q2293.47 1545.82 2297.08 1545.82 Q2300.71 1545.82 2302.52 1542.27 Q2304.35 1538.71 2304.35 1531.6 Q2304.35 1524.47 2302.52 1520.93 Q2300.71 1517.37 2297.08 1517.37 M2297.08 1513.66 Q2302.89 1513.66 2305.95 1518.27 Q2309.02 1522.85 2309.02 1531.6 Q2309.02 1540.33 2305.95 1544.94 Q2302.89 1549.52 2297.08 1549.52 Q2291.27 1549.52 2288.19 1544.94 Q2285.14 1540.33 2285.14 1531.6 Q2285.14 1522.85 2288.19 1518.27 Q2291.27 1513.66 2297.08 1513.66 Z\" fill=\"#000000\" fill-rule=\"nonzero\" fill-opacity=\"1\" /><path clip-path=\"url(#clip670)\" d=\"M2327.24 1517.37 Q2323.63 1517.37 2321.8 1520.93 Q2320 1524.47 2320 1531.6 Q2320 1538.71 2321.8 1542.27 Q2323.63 1545.82 2327.24 1545.82 Q2330.88 1545.82 2332.68 1542.27 Q2334.51 1538.71 2334.51 1531.6 Q2334.51 1524.47 2332.68 1520.93 Q2330.88 1517.37 2327.24 1517.37 M2327.24 1513.66 Q2333.05 1513.66 2336.11 1518.27 Q2339.19 1522.85 2339.19 1531.6 Q2339.19 1540.33 2336.11 1544.94 Q2333.05 1549.52 2327.24 1549.52 Q2321.43 1549.52 2318.35 1544.94 Q2315.3 1540.33 2315.3 1531.6 Q2315.3 1522.85 2318.35 1518.27 Q2321.43 1513.66 2327.24 1513.66 Z\" fill=\"#000000\" fill-rule=\"nonzero\" fill-opacity=\"1\" /><polyline clip-path=\"url(#clip672)\" style=\"stroke:#000000; stroke-linecap:round; stroke-linejoin:round; stroke-width:2; stroke-opacity:0.1; fill:none\" points=\"156.112,1445.72 2352.76,1445.72 \"/>\n",
       "<polyline clip-path=\"url(#clip672)\" style=\"stroke:#000000; stroke-linecap:round; stroke-linejoin:round; stroke-width:2; stroke-opacity:0.1; fill:none\" points=\"156.112,1182.89 2352.76,1182.89 \"/>\n",
       "<polyline clip-path=\"url(#clip672)\" style=\"stroke:#000000; stroke-linecap:round; stroke-linejoin:round; stroke-width:2; stroke-opacity:0.1; fill:none\" points=\"156.112,920.06 2352.76,920.06 \"/>\n",
       "<polyline clip-path=\"url(#clip672)\" style=\"stroke:#000000; stroke-linecap:round; stroke-linejoin:round; stroke-width:2; stroke-opacity:0.1; fill:none\" points=\"156.112,657.233 2352.76,657.233 \"/>\n",
       "<polyline clip-path=\"url(#clip672)\" style=\"stroke:#000000; stroke-linecap:round; stroke-linejoin:round; stroke-width:2; stroke-opacity:0.1; fill:none\" points=\"156.112,394.405 2352.76,394.405 \"/>\n",
       "<polyline clip-path=\"url(#clip672)\" style=\"stroke:#000000; stroke-linecap:round; stroke-linejoin:round; stroke-width:2; stroke-opacity:0.1; fill:none\" points=\"156.112,131.578 2352.76,131.578 \"/>\n",
       "<polyline clip-path=\"url(#clip670)\" style=\"stroke:#000000; stroke-linecap:round; stroke-linejoin:round; stroke-width:4; stroke-opacity:1; fill:none\" points=\"156.112,1486.45 156.112,47.2441 \"/>\n",
       "<polyline clip-path=\"url(#clip670)\" style=\"stroke:#000000; stroke-linecap:round; stroke-linejoin:round; stroke-width:4; stroke-opacity:1; fill:none\" points=\"156.112,1445.72 175.01,1445.72 \"/>\n",
       "<polyline clip-path=\"url(#clip670)\" style=\"stroke:#000000; stroke-linecap:round; stroke-linejoin:round; stroke-width:4; stroke-opacity:1; fill:none\" points=\"156.112,1182.89 175.01,1182.89 \"/>\n",
       "<polyline clip-path=\"url(#clip670)\" style=\"stroke:#000000; stroke-linecap:round; stroke-linejoin:round; stroke-width:4; stroke-opacity:1; fill:none\" points=\"156.112,920.06 175.01,920.06 \"/>\n",
       "<polyline clip-path=\"url(#clip670)\" style=\"stroke:#000000; stroke-linecap:round; stroke-linejoin:round; stroke-width:4; stroke-opacity:1; fill:none\" points=\"156.112,657.233 175.01,657.233 \"/>\n",
       "<polyline clip-path=\"url(#clip670)\" style=\"stroke:#000000; stroke-linecap:round; stroke-linejoin:round; stroke-width:4; stroke-opacity:1; fill:none\" points=\"156.112,394.405 175.01,394.405 \"/>\n",
       "<polyline clip-path=\"url(#clip670)\" style=\"stroke:#000000; stroke-linecap:round; stroke-linejoin:round; stroke-width:4; stroke-opacity:1; fill:none\" points=\"156.112,131.578 175.01,131.578 \"/>\n",
       "<path clip-path=\"url(#clip670)\" d=\"M62.9365 1431.51 Q59.3254 1431.51 57.4967 1435.08 Q55.6912 1438.62 55.6912 1445.75 Q55.6912 1452.86 57.4967 1456.42 Q59.3254 1459.96 62.9365 1459.96 Q66.5707 1459.96 68.3763 1456.42 Q70.205 1452.86 70.205 1445.75 Q70.205 1438.62 68.3763 1435.08 Q66.5707 1431.51 62.9365 1431.51 M62.9365 1427.81 Q68.7467 1427.81 71.8022 1432.42 Q74.8809 1437 74.8809 1445.75 Q74.8809 1454.48 71.8022 1459.08 Q68.7467 1463.67 62.9365 1463.67 Q57.1264 1463.67 54.0477 1459.08 Q50.9921 1454.48 50.9921 1445.75 Q50.9921 1437 54.0477 1432.42 Q57.1264 1427.81 62.9365 1427.81 Z\" fill=\"#000000\" fill-rule=\"nonzero\" fill-opacity=\"1\" /><path clip-path=\"url(#clip670)\" d=\"M83.0984 1457.12 L87.9827 1457.12 L87.9827 1463 L83.0984 1463 L83.0984 1457.12 Z\" fill=\"#000000\" fill-rule=\"nonzero\" fill-opacity=\"1\" /><path clip-path=\"url(#clip670)\" d=\"M108.168 1431.51 Q104.557 1431.51 102.728 1435.08 Q100.922 1438.62 100.922 1445.75 Q100.922 1452.86 102.728 1456.42 Q104.557 1459.96 108.168 1459.96 Q111.802 1459.96 113.608 1456.42 Q115.436 1452.86 115.436 1445.75 Q115.436 1438.62 113.608 1435.08 Q111.802 1431.51 108.168 1431.51 M108.168 1427.81 Q113.978 1427.81 117.033 1432.42 Q120.112 1437 120.112 1445.75 Q120.112 1454.48 117.033 1459.08 Q113.978 1463.67 108.168 1463.67 Q102.358 1463.67 99.2789 1459.08 Q96.2234 1454.48 96.2234 1445.75 Q96.2234 1437 99.2789 1432.42 Q102.358 1427.81 108.168 1427.81 Z\" fill=\"#000000\" fill-rule=\"nonzero\" fill-opacity=\"1\" /><path clip-path=\"url(#clip670)\" d=\"M63.9319 1168.69 Q60.3208 1168.69 58.4921 1172.25 Q56.6865 1175.79 56.6865 1182.92 Q56.6865 1190.03 58.4921 1193.59 Q60.3208 1197.14 63.9319 1197.14 Q67.5661 1197.14 69.3717 1193.59 Q71.2004 1190.03 71.2004 1182.92 Q71.2004 1175.79 69.3717 1172.25 Q67.5661 1168.69 63.9319 1168.69 M63.9319 1164.98 Q69.742 1164.98 72.7976 1169.59 Q75.8763 1174.17 75.8763 1182.92 Q75.8763 1191.65 72.7976 1196.26 Q69.742 1200.84 63.9319 1200.84 Q58.1217 1200.84 55.043 1196.26 Q51.9875 1191.65 51.9875 1182.92 Q51.9875 1174.17 55.043 1169.59 Q58.1217 1164.98 63.9319 1164.98 Z\" fill=\"#000000\" fill-rule=\"nonzero\" fill-opacity=\"1\" /><path clip-path=\"url(#clip670)\" d=\"M84.0938 1194.29 L88.978 1194.29 L88.978 1200.17 L84.0938 1200.17 L84.0938 1194.29 Z\" fill=\"#000000\" fill-rule=\"nonzero\" fill-opacity=\"1\" /><path clip-path=\"url(#clip670)\" d=\"M99.2095 1165.61 L117.566 1165.61 L117.566 1169.54 L103.492 1169.54 L103.492 1178.02 Q104.51 1177.67 105.529 1177.51 Q106.547 1177.32 107.566 1177.32 Q113.353 1177.32 116.733 1180.49 Q120.112 1183.66 120.112 1189.08 Q120.112 1194.66 116.64 1197.76 Q113.168 1200.84 106.848 1200.84 Q104.672 1200.84 102.404 1200.47 Q100.159 1200.1 97.7511 1199.36 L97.7511 1194.66 Q99.8345 1195.79 102.057 1196.35 Q104.279 1196.9 106.756 1196.9 Q110.76 1196.9 113.098 1194.8 Q115.436 1192.69 115.436 1189.08 Q115.436 1185.47 113.098 1183.36 Q110.76 1181.26 106.756 1181.26 Q104.881 1181.26 103.006 1181.67 Q101.154 1182.09 99.2095 1182.97 L99.2095 1165.61 Z\" fill=\"#000000\" fill-rule=\"nonzero\" fill-opacity=\"1\" /><path clip-path=\"url(#clip670)\" d=\"M53.7467 933.405 L61.3856 933.405 L61.3856 907.04 L53.0754 908.706 L53.0754 904.447 L61.3393 902.78 L66.0152 902.78 L66.0152 933.405 L73.654 933.405 L73.654 937.34 L53.7467 937.34 L53.7467 933.405 Z\" fill=\"#000000\" fill-rule=\"nonzero\" fill-opacity=\"1\" /><path clip-path=\"url(#clip670)\" d=\"M83.0984 931.461 L87.9827 931.461 L87.9827 937.34 L83.0984 937.34 L83.0984 931.461 Z\" fill=\"#000000\" fill-rule=\"nonzero\" fill-opacity=\"1\" /><path clip-path=\"url(#clip670)\" d=\"M108.168 905.859 Q104.557 905.859 102.728 909.424 Q100.922 912.966 100.922 920.095 Q100.922 927.202 102.728 930.766 Q104.557 934.308 108.168 934.308 Q111.802 934.308 113.608 930.766 Q115.436 927.202 115.436 920.095 Q115.436 912.966 113.608 909.424 Q111.802 905.859 108.168 905.859 M108.168 902.155 Q113.978 902.155 117.033 906.762 Q120.112 911.345 120.112 920.095 Q120.112 928.822 117.033 933.428 Q113.978 938.012 108.168 938.012 Q102.358 938.012 99.2789 933.428 Q96.2234 928.822 96.2234 920.095 Q96.2234 911.345 99.2789 906.762 Q102.358 902.155 108.168 902.155 Z\" fill=\"#000000\" fill-rule=\"nonzero\" fill-opacity=\"1\" /><path clip-path=\"url(#clip670)\" d=\"M54.7421 670.578 L62.381 670.578 L62.381 644.212 L54.0708 645.879 L54.0708 641.619 L62.3347 639.953 L67.0106 639.953 L67.0106 670.578 L74.6494 670.578 L74.6494 674.513 L54.7421 674.513 L54.7421 670.578 Z\" fill=\"#000000\" fill-rule=\"nonzero\" fill-opacity=\"1\" /><path clip-path=\"url(#clip670)\" d=\"M84.0938 668.633 L88.978 668.633 L88.978 674.513 L84.0938 674.513 L84.0938 668.633 Z\" fill=\"#000000\" fill-rule=\"nonzero\" fill-opacity=\"1\" /><path clip-path=\"url(#clip670)\" d=\"M99.2095 639.953 L117.566 639.953 L117.566 643.888 L103.492 643.888 L103.492 652.36 Q104.51 652.013 105.529 651.851 Q106.547 651.666 107.566 651.666 Q113.353 651.666 116.733 654.837 Q120.112 658.008 120.112 663.425 Q120.112 669.004 116.64 672.105 Q113.168 675.184 106.848 675.184 Q104.672 675.184 102.404 674.814 Q100.159 674.443 97.7511 673.703 L97.7511 669.004 Q99.8345 670.138 102.057 670.693 Q104.279 671.249 106.756 671.249 Q110.76 671.249 113.098 669.142 Q115.436 667.036 115.436 663.425 Q115.436 659.814 113.098 657.707 Q110.76 655.601 106.756 655.601 Q104.881 655.601 103.006 656.018 Q101.154 656.434 99.2095 657.314 L99.2095 639.953 Z\" fill=\"#000000\" fill-rule=\"nonzero\" fill-opacity=\"1\" /><path clip-path=\"url(#clip670)\" d=\"M56.9643 407.75 L73.2837 407.75 L73.2837 411.685 L51.3393 411.685 L51.3393 407.75 Q54.0014 404.995 58.5847 400.366 Q63.1911 395.713 64.3717 394.37 Q66.617 391.847 67.4967 390.111 Q68.3994 388.352 68.3994 386.662 Q68.3994 383.908 66.455 382.171 Q64.5337 380.435 61.4319 380.435 Q59.2328 380.435 56.7791 381.199 Q54.3486 381.963 51.5708 383.514 L51.5708 378.792 Q54.3949 377.658 56.8486 377.079 Q59.3023 376.5 61.3393 376.5 Q66.7096 376.5 69.9041 379.185 Q73.0985 381.871 73.0985 386.361 Q73.0985 388.491 72.2883 390.412 Q71.5013 392.31 69.3948 394.903 Q68.8161 395.574 65.7143 398.792 Q62.6124 401.986 56.9643 407.75 Z\" fill=\"#000000\" fill-rule=\"nonzero\" fill-opacity=\"1\" /><path clip-path=\"url(#clip670)\" d=\"M83.0984 405.806 L87.9827 405.806 L87.9827 411.685 L83.0984 411.685 L83.0984 405.806 Z\" fill=\"#000000\" fill-rule=\"nonzero\" fill-opacity=\"1\" /><path clip-path=\"url(#clip670)\" d=\"M108.168 380.204 Q104.557 380.204 102.728 383.769 Q100.922 387.31 100.922 394.44 Q100.922 401.546 102.728 405.111 Q104.557 408.653 108.168 408.653 Q111.802 408.653 113.608 405.111 Q115.436 401.546 115.436 394.44 Q115.436 387.31 113.608 383.769 Q111.802 380.204 108.168 380.204 M108.168 376.5 Q113.978 376.5 117.033 381.107 Q120.112 385.69 120.112 394.44 Q120.112 403.167 117.033 407.773 Q113.978 412.356 108.168 412.356 Q102.358 412.356 99.2789 407.773 Q96.2234 403.167 96.2234 394.44 Q96.2234 385.69 99.2789 381.107 Q102.358 376.5 108.168 376.5 Z\" fill=\"#000000\" fill-rule=\"nonzero\" fill-opacity=\"1\" /><path clip-path=\"url(#clip670)\" d=\"M57.9597 144.922 L74.279 144.922 L74.279 148.858 L52.3347 148.858 L52.3347 144.922 Q54.9967 142.168 59.58 137.538 Q64.1865 132.885 65.367 131.543 Q67.6124 129.02 68.492 127.284 Q69.3948 125.524 69.3948 123.835 Q69.3948 121.08 67.4504 119.344 Q65.5291 117.608 62.4272 117.608 Q60.2282 117.608 57.7745 118.372 Q55.344 119.136 52.5662 120.686 L52.5662 115.964 Q55.3903 114.83 57.8439 114.251 Q60.2976 113.673 62.3347 113.673 Q67.705 113.673 70.8994 116.358 Q74.0939 119.043 74.0939 123.534 Q74.0939 125.663 73.2837 127.585 Q72.4966 129.483 70.3902 132.075 Q69.8115 132.747 66.7096 135.964 Q63.6078 139.159 57.9597 144.922 Z\" fill=\"#000000\" fill-rule=\"nonzero\" fill-opacity=\"1\" /><path clip-path=\"url(#clip670)\" d=\"M84.0938 142.978 L88.978 142.978 L88.978 148.858 L84.0938 148.858 L84.0938 142.978 Z\" fill=\"#000000\" fill-rule=\"nonzero\" fill-opacity=\"1\" /><path clip-path=\"url(#clip670)\" d=\"M99.2095 114.298 L117.566 114.298 L117.566 118.233 L103.492 118.233 L103.492 126.705 Q104.51 126.358 105.529 126.196 Q106.547 126.01 107.566 126.01 Q113.353 126.01 116.733 129.182 Q120.112 132.353 120.112 137.77 Q120.112 143.348 116.64 146.45 Q113.168 149.529 106.848 149.529 Q104.672 149.529 102.404 149.158 Q100.159 148.788 97.7511 148.047 L97.7511 143.348 Q99.8345 144.483 102.057 145.038 Q104.279 145.594 106.756 145.594 Q110.76 145.594 113.098 143.487 Q115.436 141.381 115.436 137.77 Q115.436 134.159 113.098 132.052 Q110.76 129.946 106.756 129.946 Q104.881 129.946 103.006 130.362 Q101.154 130.779 99.2095 131.659 L99.2095 114.298 Z\" fill=\"#000000\" fill-rule=\"nonzero\" fill-opacity=\"1\" /><polyline clip-path=\"url(#clip672)\" style=\"stroke:#009af9; stroke-linecap:round; stroke-linejoin:round; stroke-width:4; stroke-opacity:1; fill:none\" points=\"218.281,1445.72 347.8,1350.07 477.319,1259.49 606.839,1172.98 736.358,1089.65 865.877,1008.67 995.396,929.277 1124.91,850.78 1254.43,772.527 1383.95,693.911 1513.47,614.357 1642.99,533.318 1772.51,450.27 1902.03,364.705 2031.55,276.127 2161.07,184.046 2290.59,87.9763 \"/>\n",
       "<polyline clip-path=\"url(#clip672)\" style=\"stroke:#e26f46; stroke-linecap:round; stroke-linejoin:round; stroke-width:4; stroke-opacity:1; fill:none\" points=\"218.281,1445.72 250.661,1421.27 283.041,1397.18 315.421,1373.45 347.8,1350.05 380.18,1326.97 412.56,1304.18 444.94,1281.68 477.319,1259.45 509.699,1237.48 542.079,1215.74 574.459,1194.23 606.839,1172.93 639.218,1151.83 671.598,1130.92 703.978,1110.18 736.358,1089.59 768.737,1069.15 801.117,1048.85 833.497,1028.67 865.877,1008.6 898.257,988.627 930.636,968.744 963.016,948.938 995.396,929.199 1027.78,909.515 1060.16,889.877 1092.54,870.274 1124.91,850.696 1157.29,831.133 1189.67,811.576 1222.05,792.015 1254.43,772.44 1286.81,752.843 1319.19,733.213 1351.57,713.543 1383.95,693.823 1416.33,674.044 1448.71,654.199 1481.09,634.277 1513.47,614.271 1545.85,594.172 1578.23,573.972 1610.61,553.664 1642.99,533.237 1675.37,512.686 1707.75,492 1740.13,471.174 1772.51,450.198 1804.89,429.065 1837.27,407.767 1869.65,386.296 1902.03,364.645 1934.41,342.806 1966.79,320.771 1999.17,298.532 2031.55,276.082 2063.93,253.414 2096.31,230.52 2128.69,207.391 2161.07,184.021 2193.45,160.403 2225.83,136.527 2258.21,112.388 2290.59,87.9763 \"/>\n",
       "<polyline clip-path=\"url(#clip672)\" style=\"stroke:#3da44d; stroke-linecap:round; stroke-linejoin:round; stroke-width:4; stroke-opacity:1; fill:none\" points=\"218.281,1445.72 234.471,1433.44 250.661,1421.27 266.851,1409.18 283.041,1397.18 299.231,1385.27 315.421,1373.45 331.61,1361.71 347.8,1350.05 363.99,1338.47 380.18,1326.96 396.37,1315.54 412.56,1304.18 428.75,1292.9 444.94,1281.68 461.13,1270.53 477.319,1259.45 493.509,1248.43 509.699,1237.48 525.889,1226.58 542.079,1215.74 558.269,1204.96 574.459,1194.23 590.649,1183.56 606.839,1172.93 623.028,1162.36 639.218,1151.83 655.408,1141.35 671.598,1130.92 687.788,1120.52 703.978,1110.17 720.168,1099.86 736.358,1089.59 752.548,1079.35 768.737,1069.15 784.927,1058.98 801.117,1048.85 817.307,1038.74 833.497,1028.66 849.687,1018.62 865.877,1008.59 882.067,998.597 898.257,988.623 914.446,978.671 930.636,968.74 946.826,958.828 963.016,948.934 979.206,939.057 995.396,929.195 1011.59,919.347 1027.78,909.511 1043.97,899.687 1060.16,889.873 1076.35,880.068 1092.54,870.27 1108.73,860.479 1124.91,850.692 1141.1,840.909 1157.29,831.129 1173.48,821.351 1189.67,811.572 1205.86,801.792 1222.05,792.011 1238.24,782.226 1254.43,772.436 1270.62,762.641 1286.81,752.838 1303,743.028 1319.19,733.209 1335.38,723.38 1351.57,713.539 1367.76,703.686 1383.95,693.819 1400.14,683.937 1416.33,674.04 1432.52,664.126 1448.71,654.194 1464.9,644.243 1481.09,634.273 1497.28,624.281 1513.47,614.267 1529.66,604.229 1545.85,594.168 1562.04,584.081 1578.23,573.968 1594.42,563.828 1610.61,553.659 1626.8,543.461 1642.99,533.233 1659.18,522.974 1675.37,512.682 1691.56,502.356 1707.75,491.996 1723.94,481.601 1740.13,471.17 1756.32,460.701 1772.51,450.194 1788.7,439.648 1804.89,429.061 1821.08,418.434 1837.27,407.764 1853.46,397.05 1869.65,386.293 1885.84,375.49 1902.03,364.642 1918.22,353.746 1934.41,342.803 1950.6,331.81 1966.79,320.768 1982.98,309.675 1999.17,298.53 2015.36,287.332 2031.55,276.08 2047.74,264.774 2063.93,253.412 2080.12,241.994 2096.31,230.518 2112.5,218.984 2128.69,207.39 2144.88,195.736 2161.07,184.02 2177.26,172.243 2193.45,160.402 2209.64,148.497 2225.83,136.527 2242.02,124.49 2258.21,112.387 2274.4,100.216 2290.59,87.9763 \"/>\n",
       "<polyline clip-path=\"url(#clip672)\" style=\"stroke:#c271d2; stroke-linecap:round; stroke-linejoin:round; stroke-width:4; stroke-opacity:1; fill:none\" points=\"218.281,1445.72 234.599,1433.35 250.916,1421.07 267.233,1408.89 283.551,1396.81 299.868,1384.81 316.185,1372.89 332.503,1361.06 348.82,1349.32 365.138,1337.65 381.455,1326.06 397.772,1314.55 414.09,1303.11 430.407,1291.74 446.724,1280.45 463.042,1269.22 479.359,1258.06 495.677,1246.96 511.994,1235.93 528.311,1224.95 544.629,1214.04 560.946,1203.18 577.263,1192.38 593.581,1181.63 609.898,1170.93 626.215,1160.28 642.533,1149.68 658.85,1139.13 675.168,1128.62 691.485,1118.16 707.802,1107.73 724.12,1097.35 740.437,1087 756.754,1076.7 773.072,1066.42 789.389,1056.18 805.706,1045.98 822.024,1035.8 838.341,1025.65 854.659,1015.53 870.976,1005.44 887.293,995.373 903.611,985.328 919.928,975.305 936.245,965.303 952.563,955.319 968.88,945.354 985.197,935.404 1001.51,925.47 1017.83,915.549 1034.15,905.641 1050.47,895.744 1066.78,885.856 1083.1,875.977 1099.42,866.105 1115.74,856.238 1132.05,846.377 1148.37,836.518 1164.69,826.662 1181.01,816.806 1197.32,806.95 1213.64,797.093 1229.96,787.233 1246.28,777.368 1262.59,767.499 1278.91,757.623 1295.23,747.74 1311.54,737.848 1327.86,727.946 1344.18,718.033 1360.5,708.108 1376.81,698.17 1393.13,688.217 1409.45,678.249 1425.77,668.264 1442.08,658.262 1458.4,648.24 1474.72,638.199 1491.04,628.137 1507.35,618.053 1523.67,607.945 1539.99,597.814 1556.31,587.657 1572.62,577.474 1588.94,567.263 1605.26,557.024 1621.57,546.756 1637.89,536.457 1654.21,526.126 1670.53,515.763 1686.84,505.367 1703.16,494.935 1719.48,484.469 1735.8,473.965 1752.11,463.424 1768.43,452.844 1784.75,442.225 1801.07,431.565 1817.38,420.863 1833.7,410.119 1850.02,399.33 1866.34,388.498 1882.65,377.62 1898.97,366.695 1915.29,355.722 1931.6,344.701 1947.92,333.631 1964.24,322.509 1980.56,311.337 1996.87,300.112 2013.19,288.833 2029.51,277.5 2045.83,266.112 2062.14,254.667 2078.46,243.165 2094.78,231.604 2111.1,219.984 2127.41,208.304 2143.73,196.563 2160.05,184.76 2176.37,172.893 2192.68,160.962 2209,148.966 2225.32,136.904 2241.63,124.775 2257.95,112.578 2274.27,100.312 2290.59,87.9763 \"/>\n",
       "<path clip-path=\"url(#clip670)\" d=\"M229.334 354.418 L503.141 354.418 L503.141 95.2176 L229.334 95.2176  Z\" fill=\"#ffffff\" fill-rule=\"evenodd\" fill-opacity=\"1\"/>\n",
       "<polyline clip-path=\"url(#clip670)\" style=\"stroke:#000000; stroke-linecap:round; stroke-linejoin:round; stroke-width:4; stroke-opacity:1; fill:none\" points=\"229.334,354.418 503.141,354.418 503.141,95.2176 229.334,95.2176 229.334,354.418 \"/>\n",
       "<polyline clip-path=\"url(#clip670)\" style=\"stroke:#009af9; stroke-linecap:round; stroke-linejoin:round; stroke-width:4; stroke-opacity:1; fill:none\" points=\"253.741,147.058 400.184,147.058 \"/>\n",
       "<path clip-path=\"url(#clip670)\" d=\"M438.433 166.745 Q436.628 171.375 434.915 172.787 Q433.202 174.199 430.332 174.199 L426.929 174.199 L426.929 170.634 L429.429 170.634 Q431.188 170.634 432.16 169.8 Q433.132 168.967 434.313 165.865 L435.077 163.921 L424.591 138.412 L429.105 138.412 L437.206 158.689 L445.308 138.412 L449.822 138.412 L438.433 166.745 Z\" fill=\"#000000\" fill-rule=\"nonzero\" fill-opacity=\"1\" /><path clip-path=\"url(#clip670)\" d=\"M457.114 160.402 L464.753 160.402 L464.753 134.037 L456.442 135.703 L456.442 131.444 L464.706 129.778 L469.382 129.778 L469.382 160.402 L477.021 160.402 L477.021 164.338 L457.114 164.338 L457.114 160.402 Z\" fill=\"#000000\" fill-rule=\"nonzero\" fill-opacity=\"1\" /><polyline clip-path=\"url(#clip670)\" style=\"stroke:#e26f46; stroke-linecap:round; stroke-linejoin:round; stroke-width:4; stroke-opacity:1; fill:none\" points=\"253.741,198.898 400.184,198.898 \"/>\n",
       "<path clip-path=\"url(#clip670)\" d=\"M438.433 218.585 Q436.628 223.215 434.915 224.627 Q433.202 226.039 430.332 226.039 L426.929 226.039 L426.929 222.474 L429.429 222.474 Q431.188 222.474 432.16 221.64 Q433.132 220.807 434.313 217.705 L435.077 215.761 L424.591 190.252 L429.105 190.252 L437.206 210.529 L445.308 190.252 L449.822 190.252 L438.433 218.585 Z\" fill=\"#000000\" fill-rule=\"nonzero\" fill-opacity=\"1\" /><path clip-path=\"url(#clip670)\" d=\"M460.331 212.242 L476.651 212.242 L476.651 216.178 L454.706 216.178 L454.706 212.242 Q457.368 209.488 461.952 204.858 Q466.558 200.205 467.739 198.863 Q469.984 196.34 470.864 194.604 Q471.766 192.844 471.766 191.155 Q471.766 188.4 469.822 186.664 Q467.901 184.928 464.799 184.928 Q462.6 184.928 460.146 185.692 Q457.716 186.455 454.938 188.006 L454.938 183.284 Q457.762 182.15 460.216 181.571 Q462.669 180.993 464.706 180.993 Q470.077 180.993 473.271 183.678 Q476.466 186.363 476.466 190.854 Q476.466 192.983 475.655 194.905 Q474.868 196.803 472.762 199.395 Q472.183 200.067 469.081 203.284 Q465.979 206.479 460.331 212.242 Z\" fill=\"#000000\" fill-rule=\"nonzero\" fill-opacity=\"1\" /><polyline clip-path=\"url(#clip670)\" style=\"stroke:#3da44d; stroke-linecap:round; stroke-linejoin:round; stroke-width:4; stroke-opacity:1; fill:none\" points=\"253.741,250.738 400.184,250.738 \"/>\n",
       "<path clip-path=\"url(#clip670)\" d=\"M438.433 270.425 Q436.628 275.055 434.915 276.467 Q433.202 277.879 430.332 277.879 L426.929 277.879 L426.929 274.314 L429.429 274.314 Q431.188 274.314 432.16 273.48 Q433.132 272.647 434.313 269.545 L435.077 267.601 L424.591 242.092 L429.105 242.092 L437.206 262.369 L445.308 242.092 L449.822 242.092 L438.433 270.425 Z\" fill=\"#000000\" fill-rule=\"nonzero\" fill-opacity=\"1\" /><path clip-path=\"url(#clip670)\" d=\"M470.47 249.383 Q473.827 250.101 475.702 252.369 Q477.6 254.638 477.6 257.971 Q477.6 263.087 474.081 265.888 Q470.563 268.689 464.081 268.689 Q461.905 268.689 459.591 268.249 Q457.299 267.832 454.845 266.976 L454.845 262.462 Q456.79 263.596 459.105 264.175 Q461.419 264.754 463.942 264.754 Q468.341 264.754 470.632 263.018 Q472.947 261.281 472.947 257.971 Q472.947 254.916 470.794 253.203 Q468.665 251.467 464.845 251.467 L460.817 251.467 L460.817 247.624 L465.03 247.624 Q468.479 247.624 470.308 246.258 Q472.137 244.87 472.137 242.277 Q472.137 239.615 470.239 238.203 Q468.364 236.768 464.845 236.768 Q462.924 236.768 460.725 237.184 Q458.526 237.601 455.887 238.481 L455.887 234.314 Q458.549 233.573 460.864 233.203 Q463.202 232.833 465.262 232.833 Q470.586 232.833 473.688 235.263 Q476.79 237.67 476.79 241.791 Q476.79 244.661 475.146 246.652 Q473.503 248.62 470.47 249.383 Z\" fill=\"#000000\" fill-rule=\"nonzero\" fill-opacity=\"1\" /><polyline clip-path=\"url(#clip670)\" style=\"stroke:#c271d2; stroke-linecap:round; stroke-linejoin:round; stroke-width:4; stroke-opacity:1; fill:none\" points=\"253.741,302.578 400.184,302.578 \"/>\n",
       "<path clip-path=\"url(#clip670)\" d=\"M438.433 322.265 Q436.628 326.895 434.915 328.307 Q433.202 329.719 430.332 329.719 L426.929 329.719 L426.929 326.154 L429.429 326.154 Q431.188 326.154 432.16 325.32 Q433.132 324.487 434.313 321.385 L435.077 319.441 L424.591 293.932 L429.105 293.932 L437.206 314.209 L445.308 293.932 L449.822 293.932 L438.433 322.265 Z\" fill=\"#000000\" fill-rule=\"nonzero\" fill-opacity=\"1\" /><path clip-path=\"url(#clip670)\" d=\"M469.151 289.372 L457.345 307.821 L469.151 307.821 L469.151 289.372 M467.924 285.298 L473.804 285.298 L473.804 307.821 L478.734 307.821 L478.734 311.709 L473.804 311.709 L473.804 319.858 L469.151 319.858 L469.151 311.709 L453.549 311.709 L453.549 307.196 L467.924 285.298 Z\" fill=\"#000000\" fill-rule=\"nonzero\" fill-opacity=\"1\" /></svg>\n"
      ],
      "text/html": [
       "<?xml version=\"1.0\" encoding=\"utf-8\"?>\n",
       "<svg xmlns=\"http://www.w3.org/2000/svg\" xmlns:xlink=\"http://www.w3.org/1999/xlink\" width=\"600\" height=\"400\" viewBox=\"0 0 2400 1600\">\n",
       "<defs>\n",
       "  <clipPath id=\"clip720\">\n",
       "    <rect x=\"0\" y=\"0\" width=\"2400\" height=\"1600\"/>\n",
       "  </clipPath>\n",
       "</defs>\n",
       "<path clip-path=\"url(#clip720)\" d=\"M0 1600 L2400 1600 L2400 0 L0 0  Z\" fill=\"#ffffff\" fill-rule=\"evenodd\" fill-opacity=\"1\"/>\n",
       "<defs>\n",
       "  <clipPath id=\"clip721\">\n",
       "    <rect x=\"480\" y=\"0\" width=\"1681\" height=\"1600\"/>\n",
       "  </clipPath>\n",
       "</defs>\n",
       "<path clip-path=\"url(#clip720)\" d=\"M156.112 1486.45 L2352.76 1486.45 L2352.76 47.2441 L156.112 47.2441  Z\" fill=\"#ffffff\" fill-rule=\"evenodd\" fill-opacity=\"1\"/>\n",
       "<defs>\n",
       "  <clipPath id=\"clip722\">\n",
       "    <rect x=\"156\" y=\"47\" width=\"2198\" height=\"1440\"/>\n",
       "  </clipPath>\n",
       "</defs>\n",
       "<polyline clip-path=\"url(#clip722)\" style=\"stroke:#000000; stroke-linecap:round; stroke-linejoin:round; stroke-width:2; stroke-opacity:0.1; fill:none\" points=\"218.281,1486.45 218.281,47.2441 \"/>\n",
       "<polyline clip-path=\"url(#clip722)\" style=\"stroke:#000000; stroke-linecap:round; stroke-linejoin:round; stroke-width:2; stroke-opacity:0.1; fill:none\" points=\"736.358,1486.45 736.358,47.2441 \"/>\n",
       "<polyline clip-path=\"url(#clip722)\" style=\"stroke:#000000; stroke-linecap:round; stroke-linejoin:round; stroke-width:2; stroke-opacity:0.1; fill:none\" points=\"1254.43,1486.45 1254.43,47.2441 \"/>\n",
       "<polyline clip-path=\"url(#clip722)\" style=\"stroke:#000000; stroke-linecap:round; stroke-linejoin:round; stroke-width:2; stroke-opacity:0.1; fill:none\" points=\"1772.51,1486.45 1772.51,47.2441 \"/>\n",
       "<polyline clip-path=\"url(#clip722)\" style=\"stroke:#000000; stroke-linecap:round; stroke-linejoin:round; stroke-width:2; stroke-opacity:0.1; fill:none\" points=\"2290.59,1486.45 2290.59,47.2441 \"/>\n",
       "<polyline clip-path=\"url(#clip720)\" style=\"stroke:#000000; stroke-linecap:round; stroke-linejoin:round; stroke-width:4; stroke-opacity:1; fill:none\" points=\"156.112,1486.45 2352.76,1486.45 \"/>\n",
       "<polyline clip-path=\"url(#clip720)\" style=\"stroke:#000000; stroke-linecap:round; stroke-linejoin:round; stroke-width:4; stroke-opacity:1; fill:none\" points=\"218.281,1486.45 218.281,1467.55 \"/>\n",
       "<polyline clip-path=\"url(#clip720)\" style=\"stroke:#000000; stroke-linecap:round; stroke-linejoin:round; stroke-width:4; stroke-opacity:1; fill:none\" points=\"736.358,1486.45 736.358,1467.55 \"/>\n",
       "<polyline clip-path=\"url(#clip720)\" style=\"stroke:#000000; stroke-linecap:round; stroke-linejoin:round; stroke-width:4; stroke-opacity:1; fill:none\" points=\"1254.43,1486.45 1254.43,1467.55 \"/>\n",
       "<polyline clip-path=\"url(#clip720)\" style=\"stroke:#000000; stroke-linecap:round; stroke-linejoin:round; stroke-width:4; stroke-opacity:1; fill:none\" points=\"1772.51,1486.45 1772.51,1467.55 \"/>\n",
       "<polyline clip-path=\"url(#clip720)\" style=\"stroke:#000000; stroke-linecap:round; stroke-linejoin:round; stroke-width:4; stroke-opacity:1; fill:none\" points=\"2290.59,1486.45 2290.59,1467.55 \"/>\n",
       "<path clip-path=\"url(#clip720)\" d=\"M180.585 1517.37 Q176.974 1517.37 175.145 1520.93 Q173.339 1524.47 173.339 1531.6 Q173.339 1538.71 175.145 1542.27 Q176.974 1545.82 180.585 1545.82 Q184.219 1545.82 186.025 1542.27 Q187.853 1538.71 187.853 1531.6 Q187.853 1524.47 186.025 1520.93 Q184.219 1517.37 180.585 1517.37 M180.585 1513.66 Q186.395 1513.66 189.45 1518.27 Q192.529 1522.85 192.529 1531.6 Q192.529 1540.33 189.45 1544.94 Q186.395 1549.52 180.585 1549.52 Q174.775 1549.52 171.696 1544.94 Q168.64 1540.33 168.64 1531.6 Q168.64 1522.85 171.696 1518.27 Q174.775 1513.66 180.585 1513.66 Z\" fill=\"#000000\" fill-rule=\"nonzero\" fill-opacity=\"1\" /><path clip-path=\"url(#clip720)\" d=\"M200.747 1542.97 L205.631 1542.97 L205.631 1548.85 L200.747 1548.85 L200.747 1542.97 Z\" fill=\"#000000\" fill-rule=\"nonzero\" fill-opacity=\"1\" /><path clip-path=\"url(#clip720)\" d=\"M225.816 1517.37 Q222.205 1517.37 220.376 1520.93 Q218.571 1524.47 218.571 1531.6 Q218.571 1538.71 220.376 1542.27 Q222.205 1545.82 225.816 1545.82 Q229.45 1545.82 231.256 1542.27 Q233.084 1538.71 233.084 1531.6 Q233.084 1524.47 231.256 1520.93 Q229.45 1517.37 225.816 1517.37 M225.816 1513.66 Q231.626 1513.66 234.682 1518.27 Q237.76 1522.85 237.76 1531.6 Q237.76 1540.33 234.682 1544.94 Q231.626 1549.52 225.816 1549.52 Q220.006 1549.52 216.927 1544.94 Q213.872 1540.33 213.872 1531.6 Q213.872 1522.85 216.927 1518.27 Q220.006 1513.66 225.816 1513.66 Z\" fill=\"#000000\" fill-rule=\"nonzero\" fill-opacity=\"1\" /><path clip-path=\"url(#clip720)\" d=\"M255.978 1517.37 Q252.367 1517.37 250.538 1520.93 Q248.733 1524.47 248.733 1531.6 Q248.733 1538.71 250.538 1542.27 Q252.367 1545.82 255.978 1545.82 Q259.612 1545.82 261.418 1542.27 Q263.246 1538.71 263.246 1531.6 Q263.246 1524.47 261.418 1520.93 Q259.612 1517.37 255.978 1517.37 M255.978 1513.66 Q261.788 1513.66 264.844 1518.27 Q267.922 1522.85 267.922 1531.6 Q267.922 1540.33 264.844 1544.94 Q261.788 1549.52 255.978 1549.52 Q250.168 1549.52 247.089 1544.94 Q244.033 1540.33 244.033 1531.6 Q244.033 1522.85 247.089 1518.27 Q250.168 1513.66 255.978 1513.66 Z\" fill=\"#000000\" fill-rule=\"nonzero\" fill-opacity=\"1\" /><path clip-path=\"url(#clip720)\" d=\"M699.159 1517.37 Q695.548 1517.37 693.719 1520.93 Q691.913 1524.47 691.913 1531.6 Q691.913 1538.71 693.719 1542.27 Q695.548 1545.82 699.159 1545.82 Q702.793 1545.82 704.599 1542.27 Q706.427 1538.71 706.427 1531.6 Q706.427 1524.47 704.599 1520.93 Q702.793 1517.37 699.159 1517.37 M699.159 1513.66 Q704.969 1513.66 708.024 1518.27 Q711.103 1522.85 711.103 1531.6 Q711.103 1540.33 708.024 1544.94 Q704.969 1549.52 699.159 1549.52 Q693.349 1549.52 690.27 1544.94 Q687.214 1540.33 687.214 1531.6 Q687.214 1522.85 690.27 1518.27 Q693.349 1513.66 699.159 1513.66 Z\" fill=\"#000000\" fill-rule=\"nonzero\" fill-opacity=\"1\" /><path clip-path=\"url(#clip720)\" d=\"M719.321 1542.97 L724.205 1542.97 L724.205 1548.85 L719.321 1548.85 L719.321 1542.97 Z\" fill=\"#000000\" fill-rule=\"nonzero\" fill-opacity=\"1\" /><path clip-path=\"url(#clip720)\" d=\"M738.418 1544.91 L754.737 1544.91 L754.737 1548.85 L732.793 1548.85 L732.793 1544.91 Q735.455 1542.16 740.038 1537.53 Q744.645 1532.88 745.825 1531.53 Q748.071 1529.01 748.95 1527.27 Q749.853 1525.51 749.853 1523.82 Q749.853 1521.07 747.909 1519.33 Q745.987 1517.6 742.885 1517.6 Q740.686 1517.6 738.233 1518.36 Q735.802 1519.13 733.024 1520.68 L733.024 1515.95 Q735.848 1514.82 738.302 1514.24 Q740.756 1513.66 742.793 1513.66 Q748.163 1513.66 751.358 1516.35 Q754.552 1519.03 754.552 1523.52 Q754.552 1525.65 753.742 1527.57 Q752.955 1529.47 750.848 1532.07 Q750.27 1532.74 747.168 1535.95 Q744.066 1539.15 738.418 1544.91 Z\" fill=\"#000000\" fill-rule=\"nonzero\" fill-opacity=\"1\" /><path clip-path=\"url(#clip720)\" d=\"M764.598 1514.29 L782.955 1514.29 L782.955 1518.22 L768.881 1518.22 L768.881 1526.7 Q769.899 1526.35 770.918 1526.19 Q771.936 1526 772.955 1526 Q778.742 1526 782.121 1529.17 Q785.501 1532.34 785.501 1537.76 Q785.501 1543.34 782.029 1546.44 Q778.557 1549.52 772.237 1549.52 Q770.061 1549.52 767.793 1549.15 Q765.547 1548.78 763.14 1548.04 L763.14 1543.34 Q765.223 1544.47 767.445 1545.03 Q769.668 1545.58 772.144 1545.58 Q776.149 1545.58 778.487 1543.48 Q780.825 1541.37 780.825 1537.76 Q780.825 1534.15 778.487 1532.04 Q776.149 1529.94 772.144 1529.94 Q770.27 1529.94 768.395 1530.35 Q766.543 1530.77 764.598 1531.65 L764.598 1514.29 Z\" fill=\"#000000\" fill-rule=\"nonzero\" fill-opacity=\"1\" /><path clip-path=\"url(#clip720)\" d=\"M1216.74 1517.37 Q1213.13 1517.37 1211.3 1520.93 Q1209.49 1524.47 1209.49 1531.6 Q1209.49 1538.71 1211.3 1542.27 Q1213.13 1545.82 1216.74 1545.82 Q1220.37 1545.82 1222.18 1542.27 Q1224.01 1538.71 1224.01 1531.6 Q1224.01 1524.47 1222.18 1520.93 Q1220.37 1517.37 1216.74 1517.37 M1216.74 1513.66 Q1222.55 1513.66 1225.6 1518.27 Q1228.68 1522.85 1228.68 1531.6 Q1228.68 1540.33 1225.6 1544.94 Q1222.55 1549.52 1216.74 1549.52 Q1210.93 1549.52 1207.85 1544.94 Q1204.79 1540.33 1204.79 1531.6 Q1204.79 1522.85 1207.85 1518.27 Q1210.93 1513.66 1216.74 1513.66 Z\" fill=\"#000000\" fill-rule=\"nonzero\" fill-opacity=\"1\" /><path clip-path=\"url(#clip720)\" d=\"M1236.9 1542.97 L1241.78 1542.97 L1241.78 1548.85 L1236.9 1548.85 L1236.9 1542.97 Z\" fill=\"#000000\" fill-rule=\"nonzero\" fill-opacity=\"1\" /><path clip-path=\"url(#clip720)\" d=\"M1252.02 1514.29 L1270.37 1514.29 L1270.37 1518.22 L1256.3 1518.22 L1256.3 1526.7 Q1257.32 1526.35 1258.33 1526.19 Q1259.35 1526 1260.37 1526 Q1266.16 1526 1269.54 1529.17 Q1272.92 1532.34 1272.92 1537.76 Q1272.92 1543.34 1269.45 1546.44 Q1265.97 1549.52 1259.65 1549.52 Q1257.48 1549.52 1255.21 1549.15 Q1252.96 1548.78 1250.56 1548.04 L1250.56 1543.34 Q1252.64 1544.47 1254.86 1545.03 Q1257.08 1545.58 1259.56 1545.58 Q1263.57 1545.58 1265.9 1543.48 Q1268.24 1541.37 1268.24 1537.76 Q1268.24 1534.15 1265.9 1532.04 Q1263.57 1529.94 1259.56 1529.94 Q1257.69 1529.94 1255.81 1530.35 Q1253.96 1530.77 1252.02 1531.65 L1252.02 1514.29 Z\" fill=\"#000000\" fill-rule=\"nonzero\" fill-opacity=\"1\" /><path clip-path=\"url(#clip720)\" d=\"M1292.13 1517.37 Q1288.52 1517.37 1286.69 1520.93 Q1284.89 1524.47 1284.89 1531.6 Q1284.89 1538.71 1286.69 1542.27 Q1288.52 1545.82 1292.13 1545.82 Q1295.76 1545.82 1297.57 1542.27 Q1299.4 1538.71 1299.4 1531.6 Q1299.4 1524.47 1297.57 1520.93 Q1295.76 1517.37 1292.13 1517.37 M1292.13 1513.66 Q1297.94 1513.66 1301 1518.27 Q1304.07 1522.85 1304.07 1531.6 Q1304.07 1540.33 1301 1544.94 Q1297.94 1549.52 1292.13 1549.52 Q1286.32 1549.52 1283.24 1544.94 Q1280.19 1540.33 1280.19 1531.6 Q1280.19 1522.85 1283.24 1518.27 Q1286.32 1513.66 1292.13 1513.66 Z\" fill=\"#000000\" fill-rule=\"nonzero\" fill-opacity=\"1\" /><path clip-path=\"url(#clip720)\" d=\"M1735.31 1517.37 Q1731.7 1517.37 1729.87 1520.93 Q1728.07 1524.47 1728.07 1531.6 Q1728.07 1538.71 1729.87 1542.27 Q1731.7 1545.82 1735.31 1545.82 Q1738.95 1545.82 1740.75 1542.27 Q1742.58 1538.71 1742.58 1531.6 Q1742.58 1524.47 1740.75 1520.93 Q1738.95 1517.37 1735.31 1517.37 M1735.31 1513.66 Q1741.12 1513.66 1744.18 1518.27 Q1747.26 1522.85 1747.26 1531.6 Q1747.26 1540.33 1744.18 1544.94 Q1741.12 1549.52 1735.31 1549.52 Q1729.5 1549.52 1726.42 1544.94 Q1723.37 1540.33 1723.37 1531.6 Q1723.37 1522.85 1726.42 1518.27 Q1729.5 1513.66 1735.31 1513.66 Z\" fill=\"#000000\" fill-rule=\"nonzero\" fill-opacity=\"1\" /><path clip-path=\"url(#clip720)\" d=\"M1755.47 1542.97 L1760.36 1542.97 L1760.36 1548.85 L1755.47 1548.85 L1755.47 1542.97 Z\" fill=\"#000000\" fill-rule=\"nonzero\" fill-opacity=\"1\" /><path clip-path=\"url(#clip720)\" d=\"M1769.36 1514.29 L1791.58 1514.29 L1791.58 1516.28 L1779.04 1548.85 L1774.15 1548.85 L1785.96 1518.22 L1769.36 1518.22 L1769.36 1514.29 Z\" fill=\"#000000\" fill-rule=\"nonzero\" fill-opacity=\"1\" /><path clip-path=\"url(#clip720)\" d=\"M1800.75 1514.29 L1819.11 1514.29 L1819.11 1518.22 L1805.03 1518.22 L1805.03 1526.7 Q1806.05 1526.35 1807.07 1526.19 Q1808.09 1526 1809.11 1526 Q1814.89 1526 1818.27 1529.17 Q1821.65 1532.34 1821.65 1537.76 Q1821.65 1543.34 1818.18 1546.44 Q1814.71 1549.52 1808.39 1549.52 Q1806.21 1549.52 1803.95 1549.15 Q1801.7 1548.78 1799.29 1548.04 L1799.29 1543.34 Q1801.38 1544.47 1803.6 1545.03 Q1805.82 1545.58 1808.3 1545.58 Q1812.3 1545.58 1814.64 1543.48 Q1816.98 1541.37 1816.98 1537.76 Q1816.98 1534.15 1814.64 1532.04 Q1812.3 1529.94 1808.3 1529.94 Q1806.42 1529.94 1804.55 1530.35 Q1802.7 1530.77 1800.75 1531.65 L1800.75 1514.29 Z\" fill=\"#000000\" fill-rule=\"nonzero\" fill-opacity=\"1\" /><path clip-path=\"url(#clip720)\" d=\"M2242.66 1544.91 L2250.3 1544.91 L2250.3 1518.55 L2241.99 1520.21 L2241.99 1515.95 L2250.25 1514.29 L2254.93 1514.29 L2254.93 1544.91 L2262.57 1544.91 L2262.57 1548.85 L2242.66 1548.85 L2242.66 1544.91 Z\" fill=\"#000000\" fill-rule=\"nonzero\" fill-opacity=\"1\" /><path clip-path=\"url(#clip720)\" d=\"M2272.01 1542.97 L2276.89 1542.97 L2276.89 1548.85 L2272.01 1548.85 L2272.01 1542.97 Z\" fill=\"#000000\" fill-rule=\"nonzero\" fill-opacity=\"1\" /><path clip-path=\"url(#clip720)\" d=\"M2297.08 1517.37 Q2293.47 1517.37 2291.64 1520.93 Q2289.83 1524.47 2289.83 1531.6 Q2289.83 1538.71 2291.64 1542.27 Q2293.47 1545.82 2297.08 1545.82 Q2300.71 1545.82 2302.52 1542.27 Q2304.35 1538.71 2304.35 1531.6 Q2304.35 1524.47 2302.52 1520.93 Q2300.71 1517.37 2297.08 1517.37 M2297.08 1513.66 Q2302.89 1513.66 2305.95 1518.27 Q2309.02 1522.85 2309.02 1531.6 Q2309.02 1540.33 2305.95 1544.94 Q2302.89 1549.52 2297.08 1549.52 Q2291.27 1549.52 2288.19 1544.94 Q2285.14 1540.33 2285.14 1531.6 Q2285.14 1522.85 2288.19 1518.27 Q2291.27 1513.66 2297.08 1513.66 Z\" fill=\"#000000\" fill-rule=\"nonzero\" fill-opacity=\"1\" /><path clip-path=\"url(#clip720)\" d=\"M2327.24 1517.37 Q2323.63 1517.37 2321.8 1520.93 Q2320 1524.47 2320 1531.6 Q2320 1538.71 2321.8 1542.27 Q2323.63 1545.82 2327.24 1545.82 Q2330.88 1545.82 2332.68 1542.27 Q2334.51 1538.71 2334.51 1531.6 Q2334.51 1524.47 2332.68 1520.93 Q2330.88 1517.37 2327.24 1517.37 M2327.24 1513.66 Q2333.05 1513.66 2336.11 1518.27 Q2339.19 1522.85 2339.19 1531.6 Q2339.19 1540.33 2336.11 1544.94 Q2333.05 1549.52 2327.24 1549.52 Q2321.43 1549.52 2318.35 1544.94 Q2315.3 1540.33 2315.3 1531.6 Q2315.3 1522.85 2318.35 1518.27 Q2321.43 1513.66 2327.24 1513.66 Z\" fill=\"#000000\" fill-rule=\"nonzero\" fill-opacity=\"1\" /><polyline clip-path=\"url(#clip722)\" style=\"stroke:#000000; stroke-linecap:round; stroke-linejoin:round; stroke-width:2; stroke-opacity:0.1; fill:none\" points=\"156.112,1445.72 2352.76,1445.72 \"/>\n",
       "<polyline clip-path=\"url(#clip722)\" style=\"stroke:#000000; stroke-linecap:round; stroke-linejoin:round; stroke-width:2; stroke-opacity:0.1; fill:none\" points=\"156.112,1182.89 2352.76,1182.89 \"/>\n",
       "<polyline clip-path=\"url(#clip722)\" style=\"stroke:#000000; stroke-linecap:round; stroke-linejoin:round; stroke-width:2; stroke-opacity:0.1; fill:none\" points=\"156.112,920.06 2352.76,920.06 \"/>\n",
       "<polyline clip-path=\"url(#clip722)\" style=\"stroke:#000000; stroke-linecap:round; stroke-linejoin:round; stroke-width:2; stroke-opacity:0.1; fill:none\" points=\"156.112,657.233 2352.76,657.233 \"/>\n",
       "<polyline clip-path=\"url(#clip722)\" style=\"stroke:#000000; stroke-linecap:round; stroke-linejoin:round; stroke-width:2; stroke-opacity:0.1; fill:none\" points=\"156.112,394.405 2352.76,394.405 \"/>\n",
       "<polyline clip-path=\"url(#clip722)\" style=\"stroke:#000000; stroke-linecap:round; stroke-linejoin:round; stroke-width:2; stroke-opacity:0.1; fill:none\" points=\"156.112,131.578 2352.76,131.578 \"/>\n",
       "<polyline clip-path=\"url(#clip720)\" style=\"stroke:#000000; stroke-linecap:round; stroke-linejoin:round; stroke-width:4; stroke-opacity:1; fill:none\" points=\"156.112,1486.45 156.112,47.2441 \"/>\n",
       "<polyline clip-path=\"url(#clip720)\" style=\"stroke:#000000; stroke-linecap:round; stroke-linejoin:round; stroke-width:4; stroke-opacity:1; fill:none\" points=\"156.112,1445.72 175.01,1445.72 \"/>\n",
       "<polyline clip-path=\"url(#clip720)\" style=\"stroke:#000000; stroke-linecap:round; stroke-linejoin:round; stroke-width:4; stroke-opacity:1; fill:none\" points=\"156.112,1182.89 175.01,1182.89 \"/>\n",
       "<polyline clip-path=\"url(#clip720)\" style=\"stroke:#000000; stroke-linecap:round; stroke-linejoin:round; stroke-width:4; stroke-opacity:1; fill:none\" points=\"156.112,920.06 175.01,920.06 \"/>\n",
       "<polyline clip-path=\"url(#clip720)\" style=\"stroke:#000000; stroke-linecap:round; stroke-linejoin:round; stroke-width:4; stroke-opacity:1; fill:none\" points=\"156.112,657.233 175.01,657.233 \"/>\n",
       "<polyline clip-path=\"url(#clip720)\" style=\"stroke:#000000; stroke-linecap:round; stroke-linejoin:round; stroke-width:4; stroke-opacity:1; fill:none\" points=\"156.112,394.405 175.01,394.405 \"/>\n",
       "<polyline clip-path=\"url(#clip720)\" style=\"stroke:#000000; stroke-linecap:round; stroke-linejoin:round; stroke-width:4; stroke-opacity:1; fill:none\" points=\"156.112,131.578 175.01,131.578 \"/>\n",
       "<path clip-path=\"url(#clip720)\" d=\"M62.9365 1431.51 Q59.3254 1431.51 57.4967 1435.08 Q55.6912 1438.62 55.6912 1445.75 Q55.6912 1452.86 57.4967 1456.42 Q59.3254 1459.96 62.9365 1459.96 Q66.5707 1459.96 68.3763 1456.42 Q70.205 1452.86 70.205 1445.75 Q70.205 1438.62 68.3763 1435.08 Q66.5707 1431.51 62.9365 1431.51 M62.9365 1427.81 Q68.7467 1427.81 71.8022 1432.42 Q74.8809 1437 74.8809 1445.75 Q74.8809 1454.48 71.8022 1459.08 Q68.7467 1463.67 62.9365 1463.67 Q57.1264 1463.67 54.0477 1459.08 Q50.9921 1454.48 50.9921 1445.75 Q50.9921 1437 54.0477 1432.42 Q57.1264 1427.81 62.9365 1427.81 Z\" fill=\"#000000\" fill-rule=\"nonzero\" fill-opacity=\"1\" /><path clip-path=\"url(#clip720)\" d=\"M83.0984 1457.12 L87.9827 1457.12 L87.9827 1463 L83.0984 1463 L83.0984 1457.12 Z\" fill=\"#000000\" fill-rule=\"nonzero\" fill-opacity=\"1\" /><path clip-path=\"url(#clip720)\" d=\"M108.168 1431.51 Q104.557 1431.51 102.728 1435.08 Q100.922 1438.62 100.922 1445.75 Q100.922 1452.86 102.728 1456.42 Q104.557 1459.96 108.168 1459.96 Q111.802 1459.96 113.608 1456.42 Q115.436 1452.86 115.436 1445.75 Q115.436 1438.62 113.608 1435.08 Q111.802 1431.51 108.168 1431.51 M108.168 1427.81 Q113.978 1427.81 117.033 1432.42 Q120.112 1437 120.112 1445.75 Q120.112 1454.48 117.033 1459.08 Q113.978 1463.67 108.168 1463.67 Q102.358 1463.67 99.2789 1459.08 Q96.2234 1454.48 96.2234 1445.75 Q96.2234 1437 99.2789 1432.42 Q102.358 1427.81 108.168 1427.81 Z\" fill=\"#000000\" fill-rule=\"nonzero\" fill-opacity=\"1\" /><path clip-path=\"url(#clip720)\" d=\"M63.9319 1168.69 Q60.3208 1168.69 58.4921 1172.25 Q56.6865 1175.79 56.6865 1182.92 Q56.6865 1190.03 58.4921 1193.59 Q60.3208 1197.14 63.9319 1197.14 Q67.5661 1197.14 69.3717 1193.59 Q71.2004 1190.03 71.2004 1182.92 Q71.2004 1175.79 69.3717 1172.25 Q67.5661 1168.69 63.9319 1168.69 M63.9319 1164.98 Q69.742 1164.98 72.7976 1169.59 Q75.8763 1174.17 75.8763 1182.92 Q75.8763 1191.65 72.7976 1196.26 Q69.742 1200.84 63.9319 1200.84 Q58.1217 1200.84 55.043 1196.26 Q51.9875 1191.65 51.9875 1182.92 Q51.9875 1174.17 55.043 1169.59 Q58.1217 1164.98 63.9319 1164.98 Z\" fill=\"#000000\" fill-rule=\"nonzero\" fill-opacity=\"1\" /><path clip-path=\"url(#clip720)\" d=\"M84.0938 1194.29 L88.978 1194.29 L88.978 1200.17 L84.0938 1200.17 L84.0938 1194.29 Z\" fill=\"#000000\" fill-rule=\"nonzero\" fill-opacity=\"1\" /><path clip-path=\"url(#clip720)\" d=\"M99.2095 1165.61 L117.566 1165.61 L117.566 1169.54 L103.492 1169.54 L103.492 1178.02 Q104.51 1177.67 105.529 1177.51 Q106.547 1177.32 107.566 1177.32 Q113.353 1177.32 116.733 1180.49 Q120.112 1183.66 120.112 1189.08 Q120.112 1194.66 116.64 1197.76 Q113.168 1200.84 106.848 1200.84 Q104.672 1200.84 102.404 1200.47 Q100.159 1200.1 97.7511 1199.36 L97.7511 1194.66 Q99.8345 1195.79 102.057 1196.35 Q104.279 1196.9 106.756 1196.9 Q110.76 1196.9 113.098 1194.8 Q115.436 1192.69 115.436 1189.08 Q115.436 1185.47 113.098 1183.36 Q110.76 1181.26 106.756 1181.26 Q104.881 1181.26 103.006 1181.67 Q101.154 1182.09 99.2095 1182.97 L99.2095 1165.61 Z\" fill=\"#000000\" fill-rule=\"nonzero\" fill-opacity=\"1\" /><path clip-path=\"url(#clip720)\" d=\"M53.7467 933.405 L61.3856 933.405 L61.3856 907.04 L53.0754 908.706 L53.0754 904.447 L61.3393 902.78 L66.0152 902.78 L66.0152 933.405 L73.654 933.405 L73.654 937.34 L53.7467 937.34 L53.7467 933.405 Z\" fill=\"#000000\" fill-rule=\"nonzero\" fill-opacity=\"1\" /><path clip-path=\"url(#clip720)\" d=\"M83.0984 931.461 L87.9827 931.461 L87.9827 937.34 L83.0984 937.34 L83.0984 931.461 Z\" fill=\"#000000\" fill-rule=\"nonzero\" fill-opacity=\"1\" /><path clip-path=\"url(#clip720)\" d=\"M108.168 905.859 Q104.557 905.859 102.728 909.424 Q100.922 912.966 100.922 920.095 Q100.922 927.202 102.728 930.766 Q104.557 934.308 108.168 934.308 Q111.802 934.308 113.608 930.766 Q115.436 927.202 115.436 920.095 Q115.436 912.966 113.608 909.424 Q111.802 905.859 108.168 905.859 M108.168 902.155 Q113.978 902.155 117.033 906.762 Q120.112 911.345 120.112 920.095 Q120.112 928.822 117.033 933.428 Q113.978 938.012 108.168 938.012 Q102.358 938.012 99.2789 933.428 Q96.2234 928.822 96.2234 920.095 Q96.2234 911.345 99.2789 906.762 Q102.358 902.155 108.168 902.155 Z\" fill=\"#000000\" fill-rule=\"nonzero\" fill-opacity=\"1\" /><path clip-path=\"url(#clip720)\" d=\"M54.7421 670.578 L62.381 670.578 L62.381 644.212 L54.0708 645.879 L54.0708 641.619 L62.3347 639.953 L67.0106 639.953 L67.0106 670.578 L74.6494 670.578 L74.6494 674.513 L54.7421 674.513 L54.7421 670.578 Z\" fill=\"#000000\" fill-rule=\"nonzero\" fill-opacity=\"1\" /><path clip-path=\"url(#clip720)\" d=\"M84.0938 668.633 L88.978 668.633 L88.978 674.513 L84.0938 674.513 L84.0938 668.633 Z\" fill=\"#000000\" fill-rule=\"nonzero\" fill-opacity=\"1\" /><path clip-path=\"url(#clip720)\" d=\"M99.2095 639.953 L117.566 639.953 L117.566 643.888 L103.492 643.888 L103.492 652.36 Q104.51 652.013 105.529 651.851 Q106.547 651.666 107.566 651.666 Q113.353 651.666 116.733 654.837 Q120.112 658.008 120.112 663.425 Q120.112 669.004 116.64 672.105 Q113.168 675.184 106.848 675.184 Q104.672 675.184 102.404 674.814 Q100.159 674.443 97.7511 673.703 L97.7511 669.004 Q99.8345 670.138 102.057 670.693 Q104.279 671.249 106.756 671.249 Q110.76 671.249 113.098 669.142 Q115.436 667.036 115.436 663.425 Q115.436 659.814 113.098 657.707 Q110.76 655.601 106.756 655.601 Q104.881 655.601 103.006 656.018 Q101.154 656.434 99.2095 657.314 L99.2095 639.953 Z\" fill=\"#000000\" fill-rule=\"nonzero\" fill-opacity=\"1\" /><path clip-path=\"url(#clip720)\" d=\"M56.9643 407.75 L73.2837 407.75 L73.2837 411.685 L51.3393 411.685 L51.3393 407.75 Q54.0014 404.995 58.5847 400.366 Q63.1911 395.713 64.3717 394.37 Q66.617 391.847 67.4967 390.111 Q68.3994 388.352 68.3994 386.662 Q68.3994 383.908 66.455 382.171 Q64.5337 380.435 61.4319 380.435 Q59.2328 380.435 56.7791 381.199 Q54.3486 381.963 51.5708 383.514 L51.5708 378.792 Q54.3949 377.658 56.8486 377.079 Q59.3023 376.5 61.3393 376.5 Q66.7096 376.5 69.9041 379.185 Q73.0985 381.871 73.0985 386.361 Q73.0985 388.491 72.2883 390.412 Q71.5013 392.31 69.3948 394.903 Q68.8161 395.574 65.7143 398.792 Q62.6124 401.986 56.9643 407.75 Z\" fill=\"#000000\" fill-rule=\"nonzero\" fill-opacity=\"1\" /><path clip-path=\"url(#clip720)\" d=\"M83.0984 405.806 L87.9827 405.806 L87.9827 411.685 L83.0984 411.685 L83.0984 405.806 Z\" fill=\"#000000\" fill-rule=\"nonzero\" fill-opacity=\"1\" /><path clip-path=\"url(#clip720)\" d=\"M108.168 380.204 Q104.557 380.204 102.728 383.769 Q100.922 387.31 100.922 394.44 Q100.922 401.546 102.728 405.111 Q104.557 408.653 108.168 408.653 Q111.802 408.653 113.608 405.111 Q115.436 401.546 115.436 394.44 Q115.436 387.31 113.608 383.769 Q111.802 380.204 108.168 380.204 M108.168 376.5 Q113.978 376.5 117.033 381.107 Q120.112 385.69 120.112 394.44 Q120.112 403.167 117.033 407.773 Q113.978 412.356 108.168 412.356 Q102.358 412.356 99.2789 407.773 Q96.2234 403.167 96.2234 394.44 Q96.2234 385.69 99.2789 381.107 Q102.358 376.5 108.168 376.5 Z\" fill=\"#000000\" fill-rule=\"nonzero\" fill-opacity=\"1\" /><path clip-path=\"url(#clip720)\" d=\"M57.9597 144.922 L74.279 144.922 L74.279 148.858 L52.3347 148.858 L52.3347 144.922 Q54.9967 142.168 59.58 137.538 Q64.1865 132.885 65.367 131.543 Q67.6124 129.02 68.492 127.284 Q69.3948 125.524 69.3948 123.835 Q69.3948 121.08 67.4504 119.344 Q65.5291 117.608 62.4272 117.608 Q60.2282 117.608 57.7745 118.372 Q55.344 119.136 52.5662 120.686 L52.5662 115.964 Q55.3903 114.83 57.8439 114.251 Q60.2976 113.673 62.3347 113.673 Q67.705 113.673 70.8994 116.358 Q74.0939 119.043 74.0939 123.534 Q74.0939 125.663 73.2837 127.585 Q72.4966 129.483 70.3902 132.075 Q69.8115 132.747 66.7096 135.964 Q63.6078 139.159 57.9597 144.922 Z\" fill=\"#000000\" fill-rule=\"nonzero\" fill-opacity=\"1\" /><path clip-path=\"url(#clip720)\" d=\"M84.0938 142.978 L88.978 142.978 L88.978 148.858 L84.0938 148.858 L84.0938 142.978 Z\" fill=\"#000000\" fill-rule=\"nonzero\" fill-opacity=\"1\" /><path clip-path=\"url(#clip720)\" d=\"M99.2095 114.298 L117.566 114.298 L117.566 118.233 L103.492 118.233 L103.492 126.705 Q104.51 126.358 105.529 126.196 Q106.547 126.01 107.566 126.01 Q113.353 126.01 116.733 129.182 Q120.112 132.353 120.112 137.77 Q120.112 143.348 116.64 146.45 Q113.168 149.529 106.848 149.529 Q104.672 149.529 102.404 149.158 Q100.159 148.788 97.7511 148.047 L97.7511 143.348 Q99.8345 144.483 102.057 145.038 Q104.279 145.594 106.756 145.594 Q110.76 145.594 113.098 143.487 Q115.436 141.381 115.436 137.77 Q115.436 134.159 113.098 132.052 Q110.76 129.946 106.756 129.946 Q104.881 129.946 103.006 130.362 Q101.154 130.779 99.2095 131.659 L99.2095 114.298 Z\" fill=\"#000000\" fill-rule=\"nonzero\" fill-opacity=\"1\" /><polyline clip-path=\"url(#clip722)\" style=\"stroke:#009af9; stroke-linecap:round; stroke-linejoin:round; stroke-width:4; stroke-opacity:1; fill:none\" points=\"218.281,1445.72 347.8,1350.07 477.319,1259.49 606.839,1172.98 736.358,1089.65 865.877,1008.67 995.396,929.277 1124.91,850.78 1254.43,772.527 1383.95,693.911 1513.47,614.357 1642.99,533.318 1772.51,450.27 1902.03,364.705 2031.55,276.127 2161.07,184.046 2290.59,87.9763 \"/>\n",
       "<polyline clip-path=\"url(#clip722)\" style=\"stroke:#e26f46; stroke-linecap:round; stroke-linejoin:round; stroke-width:4; stroke-opacity:1; fill:none\" points=\"218.281,1445.72 250.661,1421.27 283.041,1397.18 315.421,1373.45 347.8,1350.05 380.18,1326.97 412.56,1304.18 444.94,1281.68 477.319,1259.45 509.699,1237.48 542.079,1215.74 574.459,1194.23 606.839,1172.93 639.218,1151.83 671.598,1130.92 703.978,1110.18 736.358,1089.59 768.737,1069.15 801.117,1048.85 833.497,1028.67 865.877,1008.6 898.257,988.627 930.636,968.744 963.016,948.938 995.396,929.199 1027.78,909.515 1060.16,889.877 1092.54,870.274 1124.91,850.696 1157.29,831.133 1189.67,811.576 1222.05,792.015 1254.43,772.44 1286.81,752.843 1319.19,733.213 1351.57,713.543 1383.95,693.823 1416.33,674.044 1448.71,654.199 1481.09,634.277 1513.47,614.271 1545.85,594.172 1578.23,573.972 1610.61,553.664 1642.99,533.237 1675.37,512.686 1707.75,492 1740.13,471.174 1772.51,450.198 1804.89,429.065 1837.27,407.767 1869.65,386.296 1902.03,364.645 1934.41,342.806 1966.79,320.771 1999.17,298.532 2031.55,276.082 2063.93,253.414 2096.31,230.52 2128.69,207.391 2161.07,184.021 2193.45,160.403 2225.83,136.527 2258.21,112.388 2290.59,87.9763 \"/>\n",
       "<polyline clip-path=\"url(#clip722)\" style=\"stroke:#3da44d; stroke-linecap:round; stroke-linejoin:round; stroke-width:4; stroke-opacity:1; fill:none\" points=\"218.281,1445.72 234.471,1433.44 250.661,1421.27 266.851,1409.18 283.041,1397.18 299.231,1385.27 315.421,1373.45 331.61,1361.71 347.8,1350.05 363.99,1338.47 380.18,1326.96 396.37,1315.54 412.56,1304.18 428.75,1292.9 444.94,1281.68 461.13,1270.53 477.319,1259.45 493.509,1248.43 509.699,1237.48 525.889,1226.58 542.079,1215.74 558.269,1204.96 574.459,1194.23 590.649,1183.56 606.839,1172.93 623.028,1162.36 639.218,1151.83 655.408,1141.35 671.598,1130.92 687.788,1120.52 703.978,1110.17 720.168,1099.86 736.358,1089.59 752.548,1079.35 768.737,1069.15 784.927,1058.98 801.117,1048.85 817.307,1038.74 833.497,1028.66 849.687,1018.62 865.877,1008.59 882.067,998.597 898.257,988.623 914.446,978.671 930.636,968.74 946.826,958.828 963.016,948.934 979.206,939.057 995.396,929.195 1011.59,919.347 1027.78,909.511 1043.97,899.687 1060.16,889.873 1076.35,880.068 1092.54,870.27 1108.73,860.479 1124.91,850.692 1141.1,840.909 1157.29,831.129 1173.48,821.351 1189.67,811.572 1205.86,801.792 1222.05,792.011 1238.24,782.226 1254.43,772.436 1270.62,762.641 1286.81,752.838 1303,743.028 1319.19,733.209 1335.38,723.38 1351.57,713.539 1367.76,703.686 1383.95,693.819 1400.14,683.937 1416.33,674.04 1432.52,664.126 1448.71,654.194 1464.9,644.243 1481.09,634.273 1497.28,624.281 1513.47,614.267 1529.66,604.229 1545.85,594.168 1562.04,584.081 1578.23,573.968 1594.42,563.828 1610.61,553.659 1626.8,543.461 1642.99,533.233 1659.18,522.974 1675.37,512.682 1691.56,502.356 1707.75,491.996 1723.94,481.601 1740.13,471.17 1756.32,460.701 1772.51,450.194 1788.7,439.648 1804.89,429.061 1821.08,418.434 1837.27,407.764 1853.46,397.05 1869.65,386.293 1885.84,375.49 1902.03,364.642 1918.22,353.746 1934.41,342.803 1950.6,331.81 1966.79,320.768 1982.98,309.675 1999.17,298.53 2015.36,287.332 2031.55,276.08 2047.74,264.774 2063.93,253.412 2080.12,241.994 2096.31,230.518 2112.5,218.984 2128.69,207.39 2144.88,195.736 2161.07,184.02 2177.26,172.243 2193.45,160.402 2209.64,148.497 2225.83,136.527 2242.02,124.49 2258.21,112.387 2274.4,100.216 2290.59,87.9763 \"/>\n",
       "<polyline clip-path=\"url(#clip722)\" style=\"stroke:#c271d2; stroke-linecap:round; stroke-linejoin:round; stroke-width:4; stroke-opacity:1; fill:none\" points=\"218.281,1445.72 234.599,1433.35 250.916,1421.07 267.233,1408.89 283.551,1396.81 299.868,1384.81 316.185,1372.89 332.503,1361.06 348.82,1349.32 365.138,1337.65 381.455,1326.06 397.772,1314.55 414.09,1303.11 430.407,1291.74 446.724,1280.45 463.042,1269.22 479.359,1258.06 495.677,1246.96 511.994,1235.93 528.311,1224.95 544.629,1214.04 560.946,1203.18 577.263,1192.38 593.581,1181.63 609.898,1170.93 626.215,1160.28 642.533,1149.68 658.85,1139.13 675.168,1128.62 691.485,1118.16 707.802,1107.73 724.12,1097.35 740.437,1087 756.754,1076.7 773.072,1066.42 789.389,1056.18 805.706,1045.98 822.024,1035.8 838.341,1025.65 854.659,1015.53 870.976,1005.44 887.293,995.373 903.611,985.328 919.928,975.305 936.245,965.303 952.563,955.319 968.88,945.354 985.197,935.404 1001.51,925.47 1017.83,915.549 1034.15,905.641 1050.47,895.744 1066.78,885.856 1083.1,875.977 1099.42,866.105 1115.74,856.238 1132.05,846.377 1148.37,836.518 1164.69,826.662 1181.01,816.806 1197.32,806.95 1213.64,797.093 1229.96,787.233 1246.28,777.368 1262.59,767.499 1278.91,757.623 1295.23,747.74 1311.54,737.848 1327.86,727.946 1344.18,718.033 1360.5,708.108 1376.81,698.17 1393.13,688.217 1409.45,678.249 1425.77,668.264 1442.08,658.262 1458.4,648.24 1474.72,638.199 1491.04,628.137 1507.35,618.053 1523.67,607.945 1539.99,597.814 1556.31,587.657 1572.62,577.474 1588.94,567.263 1605.26,557.024 1621.57,546.756 1637.89,536.457 1654.21,526.126 1670.53,515.763 1686.84,505.367 1703.16,494.935 1719.48,484.469 1735.8,473.965 1752.11,463.424 1768.43,452.844 1784.75,442.225 1801.07,431.565 1817.38,420.863 1833.7,410.119 1850.02,399.33 1866.34,388.498 1882.65,377.62 1898.97,366.695 1915.29,355.722 1931.6,344.701 1947.92,333.631 1964.24,322.509 1980.56,311.337 1996.87,300.112 2013.19,288.833 2029.51,277.5 2045.83,266.112 2062.14,254.667 2078.46,243.165 2094.78,231.604 2111.1,219.984 2127.41,208.304 2143.73,196.563 2160.05,184.76 2176.37,172.893 2192.68,160.962 2209,148.966 2225.32,136.904 2241.63,124.775 2257.95,112.578 2274.27,100.312 2290.59,87.9763 \"/>\n",
       "<path clip-path=\"url(#clip720)\" d=\"M229.334 354.418 L503.141 354.418 L503.141 95.2176 L229.334 95.2176  Z\" fill=\"#ffffff\" fill-rule=\"evenodd\" fill-opacity=\"1\"/>\n",
       "<polyline clip-path=\"url(#clip720)\" style=\"stroke:#000000; stroke-linecap:round; stroke-linejoin:round; stroke-width:4; stroke-opacity:1; fill:none\" points=\"229.334,354.418 503.141,354.418 503.141,95.2176 229.334,95.2176 229.334,354.418 \"/>\n",
       "<polyline clip-path=\"url(#clip720)\" style=\"stroke:#009af9; stroke-linecap:round; stroke-linejoin:round; stroke-width:4; stroke-opacity:1; fill:none\" points=\"253.741,147.058 400.184,147.058 \"/>\n",
       "<path clip-path=\"url(#clip720)\" d=\"M438.433 166.745 Q436.628 171.375 434.915 172.787 Q433.202 174.199 430.332 174.199 L426.929 174.199 L426.929 170.634 L429.429 170.634 Q431.188 170.634 432.16 169.8 Q433.132 168.967 434.313 165.865 L435.077 163.921 L424.591 138.412 L429.105 138.412 L437.206 158.689 L445.308 138.412 L449.822 138.412 L438.433 166.745 Z\" fill=\"#000000\" fill-rule=\"nonzero\" fill-opacity=\"1\" /><path clip-path=\"url(#clip720)\" d=\"M457.114 160.402 L464.753 160.402 L464.753 134.037 L456.442 135.703 L456.442 131.444 L464.706 129.778 L469.382 129.778 L469.382 160.402 L477.021 160.402 L477.021 164.338 L457.114 164.338 L457.114 160.402 Z\" fill=\"#000000\" fill-rule=\"nonzero\" fill-opacity=\"1\" /><polyline clip-path=\"url(#clip720)\" style=\"stroke:#e26f46; stroke-linecap:round; stroke-linejoin:round; stroke-width:4; stroke-opacity:1; fill:none\" points=\"253.741,198.898 400.184,198.898 \"/>\n",
       "<path clip-path=\"url(#clip720)\" d=\"M438.433 218.585 Q436.628 223.215 434.915 224.627 Q433.202 226.039 430.332 226.039 L426.929 226.039 L426.929 222.474 L429.429 222.474 Q431.188 222.474 432.16 221.64 Q433.132 220.807 434.313 217.705 L435.077 215.761 L424.591 190.252 L429.105 190.252 L437.206 210.529 L445.308 190.252 L449.822 190.252 L438.433 218.585 Z\" fill=\"#000000\" fill-rule=\"nonzero\" fill-opacity=\"1\" /><path clip-path=\"url(#clip720)\" d=\"M460.331 212.242 L476.651 212.242 L476.651 216.178 L454.706 216.178 L454.706 212.242 Q457.368 209.488 461.952 204.858 Q466.558 200.205 467.739 198.863 Q469.984 196.34 470.864 194.604 Q471.766 192.844 471.766 191.155 Q471.766 188.4 469.822 186.664 Q467.901 184.928 464.799 184.928 Q462.6 184.928 460.146 185.692 Q457.716 186.455 454.938 188.006 L454.938 183.284 Q457.762 182.15 460.216 181.571 Q462.669 180.993 464.706 180.993 Q470.077 180.993 473.271 183.678 Q476.466 186.363 476.466 190.854 Q476.466 192.983 475.655 194.905 Q474.868 196.803 472.762 199.395 Q472.183 200.067 469.081 203.284 Q465.979 206.479 460.331 212.242 Z\" fill=\"#000000\" fill-rule=\"nonzero\" fill-opacity=\"1\" /><polyline clip-path=\"url(#clip720)\" style=\"stroke:#3da44d; stroke-linecap:round; stroke-linejoin:round; stroke-width:4; stroke-opacity:1; fill:none\" points=\"253.741,250.738 400.184,250.738 \"/>\n",
       "<path clip-path=\"url(#clip720)\" d=\"M438.433 270.425 Q436.628 275.055 434.915 276.467 Q433.202 277.879 430.332 277.879 L426.929 277.879 L426.929 274.314 L429.429 274.314 Q431.188 274.314 432.16 273.48 Q433.132 272.647 434.313 269.545 L435.077 267.601 L424.591 242.092 L429.105 242.092 L437.206 262.369 L445.308 242.092 L449.822 242.092 L438.433 270.425 Z\" fill=\"#000000\" fill-rule=\"nonzero\" fill-opacity=\"1\" /><path clip-path=\"url(#clip720)\" d=\"M470.47 249.383 Q473.827 250.101 475.702 252.369 Q477.6 254.638 477.6 257.971 Q477.6 263.087 474.081 265.888 Q470.563 268.689 464.081 268.689 Q461.905 268.689 459.591 268.249 Q457.299 267.832 454.845 266.976 L454.845 262.462 Q456.79 263.596 459.105 264.175 Q461.419 264.754 463.942 264.754 Q468.341 264.754 470.632 263.018 Q472.947 261.281 472.947 257.971 Q472.947 254.916 470.794 253.203 Q468.665 251.467 464.845 251.467 L460.817 251.467 L460.817 247.624 L465.03 247.624 Q468.479 247.624 470.308 246.258 Q472.137 244.87 472.137 242.277 Q472.137 239.615 470.239 238.203 Q468.364 236.768 464.845 236.768 Q462.924 236.768 460.725 237.184 Q458.526 237.601 455.887 238.481 L455.887 234.314 Q458.549 233.573 460.864 233.203 Q463.202 232.833 465.262 232.833 Q470.586 232.833 473.688 235.263 Q476.79 237.67 476.79 241.791 Q476.79 244.661 475.146 246.652 Q473.503 248.62 470.47 249.383 Z\" fill=\"#000000\" fill-rule=\"nonzero\" fill-opacity=\"1\" /><polyline clip-path=\"url(#clip720)\" style=\"stroke:#c271d2; stroke-linecap:round; stroke-linejoin:round; stroke-width:4; stroke-opacity:1; fill:none\" points=\"253.741,302.578 400.184,302.578 \"/>\n",
       "<path clip-path=\"url(#clip720)\" d=\"M438.433 322.265 Q436.628 326.895 434.915 328.307 Q433.202 329.719 430.332 329.719 L426.929 329.719 L426.929 326.154 L429.429 326.154 Q431.188 326.154 432.16 325.32 Q433.132 324.487 434.313 321.385 L435.077 319.441 L424.591 293.932 L429.105 293.932 L437.206 314.209 L445.308 293.932 L449.822 293.932 L438.433 322.265 Z\" fill=\"#000000\" fill-rule=\"nonzero\" fill-opacity=\"1\" /><path clip-path=\"url(#clip720)\" d=\"M469.151 289.372 L457.345 307.821 L469.151 307.821 L469.151 289.372 M467.924 285.298 L473.804 285.298 L473.804 307.821 L478.734 307.821 L478.734 311.709 L473.804 311.709 L473.804 319.858 L469.151 319.858 L469.151 311.709 L453.549 311.709 L453.549 307.196 L467.924 285.298 Z\" fill=\"#000000\" fill-rule=\"nonzero\" fill-opacity=\"1\" /></svg>\n"
      ]
     },
     "metadata": {},
     "output_type": "display_data"
    }
   ],
   "source": [
    "n = 16\n",
    "cv = cv_model(n)\n",
    "stats = ipopt(cv)\n",
    "\n",
    "x = range(0,1,length=(n+1))\n",
    "y = [0;stats.solution;exp(1)-exp(-2)]\n",
    "plot(x,y)\n",
    "\n",
    "n = 64\n",
    "cv = cv_model(n)\n",
    "stats = ipopt(cv)\n",
    "\n",
    "x = range(0,1,length=(n+1))\n",
    "y = [0;stats.solution;exp(1)-exp(-2)]\n",
    "plot!(x,y)\n",
    "\n",
    "n = 128\n",
    "cv = cv_model(n)\n",
    "stats = ipopt(cv)\n",
    "\n",
    "x = range(0,1,length=(n+1))\n",
    "y = [0;stats.solution;exp(1)-exp(-2)]\n",
    "plot!(x,y)\n",
    "\n",
    "x = range(0,1,length=128)\n",
    "y = exp.(x) - exp.(-2*x)\n",
    "plot!(x,y)"
   ]
  },
  {
   "cell_type": "markdown",
   "metadata": {},
   "source": [
    "### Question 3: Comparer à la solution exacte\n",
    "\n",
    "La solution exacte est $x(t)=e^t - e^{-2t}$ et la valeur optimale est $e^3 - 2e^{-3}+1$."
   ]
  },
  {
   "cell_type": "code",
   "execution_count": 19,
   "metadata": {},
   "outputs": [],
   "source": []
  },
  {
   "cell_type": "code",
   "execution_count": 20,
   "metadata": {},
   "outputs": [
    {
     "ename": "UndefVarError",
     "evalue": "UndefVarError: `BOX2` not defined",
     "output_type": "error",
     "traceback": [
      "UndefVarError: `BOX2` not defined\n",
      "\n",
      "Stacktrace:\n",
      " [1] top-level scope\n",
      "   @ c:\\Users\\adamo\\OneDrive\\Documents\\POLY\\H24\\MTH8408\\MTH8408-Hiv24\\lab5\\Lab5-notebook.ipynb:4"
     ]
    }
   ],
   "source": [
    "## Exercice 1\n",
    "#\n",
    "using ADNLPModels, OptimizationProblems, JuMP\n",
    "nlp = BOX2()\n",
    "@test nlp.meta.ncon != 0\n",
    "\n",
    "nlp_quad = quad_penalty_adnlp(nlp, 1)\n",
    "@test nlp_quad.meta.ncon == 0\n"
   ]
  }
 ],
 "metadata": {
  "kernelspec": {
   "display_name": "Julia 1.10.0",
   "language": "julia",
   "name": "julia-1.10"
  },
  "language_info": {
   "file_extension": ".jl",
   "mimetype": "application/julia",
   "name": "julia",
   "version": "1.10.0"
  }
 },
 "nbformat": 4,
 "nbformat_minor": 4
}
